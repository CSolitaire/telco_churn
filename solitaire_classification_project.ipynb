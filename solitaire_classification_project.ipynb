{
 "cells": [
  {
   "cell_type": "code",
   "execution_count": 1,
   "metadata": {},
   "outputs": [],
   "source": [
    "import numpy as np\n",
    "import pandas as pd\n",
    "import seaborn as sns\n",
    "import matplotlib.pyplot as plt\n",
    "\n",
    "from sklearn.model_selection import train_test_split\n",
    "from sklearn.linear_model import LogisticRegression\n",
    "from sklearn.ensemble import RandomForestClassifier\n",
    "from sklearn.neighbors import KNeighborsClassifier\n",
    "from sklearn.metrics import classification_report,confusion_matrix,accuracy_score,recall_score,precision_score\n",
    "\n",
    "import warnings\n",
    "warnings.filterwarnings(\"ignore\")\n",
    "\n",
    "from acquire import get_telco_data\n",
    "from prepare import prep_telco_data"
   ]
  },
  {
   "cell_type": "code",
   "execution_count": 115,
   "metadata": {},
   "outputs": [],
   "source": [
    "df = get_telco_data(cached = True)"
   ]
  },
  {
   "cell_type": "code",
   "execution_count": 126,
   "metadata": {},
   "outputs": [
    {
     "name": "stdout",
     "output_type": "stream",
     "text": [
      "<class 'pandas.core.frame.DataFrame'>\n",
      "RangeIndex: 7043 entries, 0 to 7042\n",
      "Data columns (total 27 columns):\n",
      " #   Column                    Non-Null Count  Dtype  \n",
      "---  ------                    --------------  -----  \n",
      " 0   customer_id               7043 non-null   object \n",
      " 1   gender                    7043 non-null   object \n",
      " 2   senior_citizen            7043 non-null   int64  \n",
      " 3   partner                   7043 non-null   object \n",
      " 4   dependents                7043 non-null   object \n",
      " 5   tenure                    7043 non-null   int64  \n",
      " 6   phone_service             7043 non-null   object \n",
      " 7   multiple_lines            7043 non-null   object \n",
      " 8   internet_service_type_id  7043 non-null   int64  \n",
      " 9   online_security           7043 non-null   object \n",
      " 10  online_backup             7043 non-null   object \n",
      " 11  device_protection         7043 non-null   object \n",
      " 12  tech_support              7043 non-null   object \n",
      " 13  streaming_tv              7043 non-null   object \n",
      " 14  streaming_movies          7043 non-null   object \n",
      " 15  contract_type_id          7043 non-null   int64  \n",
      " 16  paperless_billing         7043 non-null   object \n",
      " 17  payment_type_id           7043 non-null   int64  \n",
      " 18  monthly_charges           7043 non-null   float64\n",
      " 19  total_charges             7043 non-null   object \n",
      " 20  churn                     7043 non-null   object \n",
      " 21  contract_type_id          7043 non-null   int64  \n",
      " 22  contract_type             7043 non-null   object \n",
      " 23  internet_service_type_id  7043 non-null   int64  \n",
      " 24  internet_service_type     7043 non-null   object \n",
      " 25  payment_type_id           7043 non-null   int64  \n",
      " 26  payment_type              7043 non-null   object \n",
      "dtypes: float64(1), int64(8), object(18)\n",
      "memory usage: 1.5+ MB\n"
     ]
    }
   ],
   "source": [
    "df.info()"
   ]
  },
  {
   "cell_type": "code",
   "execution_count": 120,
   "metadata": {},
   "outputs": [
    {
     "data": {
      "text/plain": [
       "72"
      ]
     },
     "execution_count": 120,
     "metadata": {},
     "output_type": "execute_result"
    }
   ],
   "source": [
    "df.tenure.max()"
   ]
  },
  {
   "cell_type": "code",
   "execution_count": 123,
   "metadata": {},
   "outputs": [
    {
     "data": {
      "text/plain": [
       "Yes    0.505476\n",
       "No     0.494524\n",
       "Name: churn, dtype: float64"
      ]
     },
     "execution_count": 123,
     "metadata": {},
     "output_type": "execute_result"
    }
   ],
   "source": [
    "# Churn is greater then 50 % for first 8 months of service\n",
    "df = get_telco_data(cached = True)\n",
    "month_one = df.tenure <= 8\n",
    "test = df[month_one]\n",
    "test.churn.value_counts(normalize = True)"
   ]
  },
  {
   "cell_type": "code",
   "execution_count": 122,
   "metadata": {},
   "outputs": [
    {
     "data": {
      "text/plain": [
       "No     0.813112\n",
       "Yes    0.186888\n",
       "Name: churn, dtype: float64"
      ]
     },
     "execution_count": 122,
     "metadata": {},
     "output_type": "execute_result"
    }
   ],
   "source": [
    "# Churn is greater then 50 % for first 8 months of service\n",
    "df = get_telco_data(cached = True)\n",
    "month_one = df.tenure >= 9\n",
    "test = df[month_one]\n",
    "test.churn.value_counts(normalize = True)"
   ]
  },
  {
   "cell_type": "code",
   "execution_count": 58,
   "metadata": {},
   "outputs": [
    {
     "data": {
      "text/plain": [
       "No     5174\n",
       "Yes    1869\n",
       "Name: churn, dtype: int64"
      ]
     },
     "execution_count": 58,
     "metadata": {},
     "output_type": "execute_result"
    }
   ],
   "source": [
    "# Number of Customers who Churned over 72 Months\n",
    "df.churn.value_counts()"
   ]
  },
  {
   "cell_type": "code",
   "execution_count": 59,
   "metadata": {},
   "outputs": [
    {
     "data": {
      "text/plain": [
       "No     0.73463\n",
       "Yes    0.26537\n",
       "Name: churn, dtype: float64"
      ]
     },
     "execution_count": 59,
     "metadata": {},
     "output_type": "execute_result"
    }
   ],
   "source": [
    "# Percent of Customers who Churned over 72 Months\n",
    "df.churn.value_counts(normalize = True)"
   ]
  },
  {
   "cell_type": "code",
   "execution_count": 125,
   "metadata": {},
   "outputs": [
    {
     "name": "stdout",
     "output_type": "stream",
     "text": [
      "<class 'pandas.core.frame.DataFrame'>\n",
      "Int64Index: 1735 entries, 2 to 7001\n",
      "Data columns (total 27 columns):\n",
      " #   Column                    Non-Null Count  Dtype  \n",
      "---  ------                    --------------  -----  \n",
      " 0   customer_id               1735 non-null   object \n",
      " 1   gender                    1735 non-null   object \n",
      " 2   senior_citizen            1735 non-null   int64  \n",
      " 3   partner                   1735 non-null   object \n",
      " 4   dependents                1735 non-null   object \n",
      " 5   tenure                    1735 non-null   int64  \n",
      " 6   phone_service             1735 non-null   object \n",
      " 7   multiple_lines            1735 non-null   object \n",
      " 8   internet_service_type_id  1735 non-null   int64  \n",
      " 9   online_security           1735 non-null   object \n",
      " 10  online_backup             1735 non-null   object \n",
      " 11  device_protection         1735 non-null   object \n",
      " 12  tech_support              1735 non-null   object \n",
      " 13  streaming_tv              1735 non-null   object \n",
      " 14  streaming_movies          1735 non-null   object \n",
      " 15  contract_type_id          1735 non-null   int64  \n",
      " 16  paperless_billing         1735 non-null   object \n",
      " 17  payment_type_id           1735 non-null   int64  \n",
      " 18  monthly_charges           1735 non-null   float64\n",
      " 19  total_charges             1735 non-null   object \n",
      " 20  churn                     1735 non-null   object \n",
      " 21  contract_type_id          1735 non-null   int64  \n",
      " 22  contract_type             1735 non-null   object \n",
      " 23  internet_service_type_id  1735 non-null   int64  \n",
      " 24  internet_service_type     1735 non-null   object \n",
      " 25  payment_type_id           1735 non-null   int64  \n",
      " 26  payment_type              1735 non-null   object \n",
      "dtypes: float64(1), int64(8), object(18)\n",
      "memory usage: 379.5+ KB\n"
     ]
    }
   ],
   "source": [
    "# Number of customers who churned in their first month\n",
    "month = df.tenure <= 8\n",
    "num_cust = df[month]\n",
    "num_cust.info()"
   ]
  },
  {
   "cell_type": "code",
   "execution_count": 45,
   "metadata": {},
   "outputs": [
    {
     "data": {
      "text/plain": [
       "Series([], Name: churn, dtype: float64)"
      ]
     },
     "execution_count": 45,
     "metadata": {},
     "output_type": "execute_result"
    }
   ],
   "source": [
    "test.churn.value_counts(normalize = True)"
   ]
  },
  {
   "cell_type": "code",
   "execution_count": 2,
   "metadata": {},
   "outputs": [],
   "source": [
    "# Cleaned Data for Exploration\n",
    "train, validate, test = prep_telco_data(get_telco_data(cached = True))"
   ]
  },
  {
   "cell_type": "code",
   "execution_count": 6,
   "metadata": {},
   "outputs": [
    {
     "data": {
      "text/plain": [
       "Index(['gender', 'senior_citizen', 'partner', 'dependents', 'tenure',\n",
       "       'phone_service', 'multiple_lines', 'online_security', 'online_backup',\n",
       "       'device_protection', 'tech_support', 'streaming_tv', 'streaming_movies',\n",
       "       'paperless_billing', 'monthly_charges', 'total_charges', 'churn',\n",
       "       'contract_type', 'internet_service_type', 'payment_type', 'gender_cc',\n",
       "       'multiple_lines_cc', 'online_security_cc', 'online_backup_cc',\n",
       "       'device_protection_cc', 'tech_support_cc', 'streaming_tv_cc',\n",
       "       'streaming_movies_cc', 'month_to_month_contract', 'one_year_contract',\n",
       "       'two_year_contract', 'internet_service'],\n",
       "      dtype='object')"
      ]
     },
     "execution_count": 6,
     "metadata": {},
     "output_type": "execute_result"
    }
   ],
   "source": [
    "train.columns"
   ]
  },
  {
   "cell_type": "code",
   "execution_count": 18,
   "metadata": {},
   "outputs": [
    {
     "name": "stdout",
     "output_type": "stream",
     "text": [
      "<class 'pandas.core.frame.DataFrame'>\n",
      "Int64Index: 3943 entries, 5670 to 6867\n",
      "Data columns (total 32 columns):\n",
      " #   Column                   Non-Null Count  Dtype  \n",
      "---  ------                   --------------  -----  \n",
      " 0   gender                   3943 non-null   object \n",
      " 1   senior_citizen           3943 non-null   int64  \n",
      " 2   partner                  3943 non-null   int64  \n",
      " 3   dependents               3943 non-null   int64  \n",
      " 4   tenure                   3943 non-null   float64\n",
      " 5   phone_service            3943 non-null   int64  \n",
      " 6   multiple_lines           3943 non-null   object \n",
      " 7   online_security          3943 non-null   object \n",
      " 8   online_backup            3943 non-null   object \n",
      " 9   device_protection        3943 non-null   object \n",
      " 10  tech_support             3943 non-null   object \n",
      " 11  streaming_tv             3943 non-null   object \n",
      " 12  streaming_movies         3943 non-null   object \n",
      " 13  paperless_billing        3943 non-null   int64  \n",
      " 14  monthly_charges          3943 non-null   float64\n",
      " 15  total_charges            3935 non-null   float64\n",
      " 16  churn                    3943 non-null   int64  \n",
      " 17  contract_type            3943 non-null   object \n",
      " 18  internet_service_type    3943 non-null   object \n",
      " 19  payment_type             3943 non-null   object \n",
      " 20  gender_cc                3943 non-null   int8   \n",
      " 21  multiple_lines_cc        3943 non-null   int8   \n",
      " 22  online_security_cc       3943 non-null   int8   \n",
      " 23  online_backup_cc         3943 non-null   int8   \n",
      " 24  device_protection_cc     3943 non-null   int8   \n",
      " 25  tech_support_cc          3943 non-null   int8   \n",
      " 26  streaming_tv_cc          3943 non-null   int8   \n",
      " 27  streaming_movies_cc      3943 non-null   int8   \n",
      " 28  month_to_month_contract  3943 non-null   int64  \n",
      " 29  one_year_contract        3943 non-null   int64  \n",
      " 30  two_year_contract        3943 non-null   int64  \n",
      " 31  internet_service         3943 non-null   int64  \n",
      "dtypes: float64(3), int64(10), int8(8), object(11)\n",
      "memory usage: 800.9+ KB\n"
     ]
    }
   ],
   "source": [
    "train.info()"
   ]
  },
  {
   "cell_type": "code",
   "execution_count": 21,
   "metadata": {},
   "outputs": [
    {
     "data": {
      "text/plain": [
       "0    0.73472\n",
       "1    0.26528\n",
       "Name: churn, dtype: float64"
      ]
     },
     "execution_count": 21,
     "metadata": {},
     "output_type": "execute_result"
    }
   ],
   "source": [
    "train.churn.value_counts(normalize = True)"
   ]
  },
  {
   "cell_type": "code",
   "execution_count": null,
   "metadata": {},
   "outputs": [],
   "source": []
  }
 ],
 "metadata": {
  "kernelspec": {
   "display_name": "Python 3",
   "language": "python",
   "name": "python3"
  },
  "language_info": {
   "codemirror_mode": {
    "name": "ipython",
    "version": 3
   },
   "file_extension": ".py",
   "mimetype": "text/x-python",
   "name": "python",
   "nbconvert_exporter": "python",
   "pygments_lexer": "ipython3",
   "version": "3.8.3"
  }
 },
 "nbformat": 4,
 "nbformat_minor": 4
}
