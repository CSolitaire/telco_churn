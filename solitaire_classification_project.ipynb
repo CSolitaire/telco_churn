{
 "cells": [
  {
   "cell_type": "markdown",
   "metadata": {},
   "source": [
    "### Import Python Methods"
   ]
  },
  {
   "cell_type": "code",
   "execution_count": 44,
   "metadata": {},
   "outputs": [],
   "source": [
    "import numpy as np\n",
    "import pandas as pd\n",
    "import seaborn as sns\n",
    "import matplotlib.pyplot as plt\n",
    "from math import sqrt\n",
    "from scipy import stats\n",
    "\n",
    "from sklearn.model_selection import train_test_split\n",
    "from sklearn.tree import DecisionTreeClassifier\n",
    "from sklearn.linear_model import LogisticRegression\n",
    "from sklearn.ensemble import RandomForestClassifier\n",
    "from sklearn.neighbors import KNeighborsClassifier\n",
    "from sklearn.metrics import classification_report,confusion_matrix,accuracy_score,recall_score,precision_score\n",
    "\n",
    "import warnings\n",
    "warnings.filterwarnings(\"ignore\")\n",
    "\n",
    "from acquire import get_telco_data\n",
    "from prepare import prep_telco_data_explore\n",
    "from prepare import prep_telco_data_model"
   ]
  },
  {
   "cell_type": "markdown",
   "metadata": {},
   "source": [
    "# Data Exploration"
   ]
  },
  {
   "cell_type": "markdown",
   "metadata": {},
   "source": [
    "### Estabolishing a Baseline"
   ]
  },
  {
   "cell_type": "code",
   "execution_count": 2,
   "metadata": {},
   "outputs": [],
   "source": [
    "df = get_telco_data(cached = True)"
   ]
  },
  {
   "cell_type": "code",
   "execution_count": 3,
   "metadata": {},
   "outputs": [
    {
     "data": {
      "text/plain": [
       "Yes    0.505476\n",
       "No     0.494524\n",
       "Name: churn, dtype: float64"
      ]
     },
     "execution_count": 3,
     "metadata": {},
     "output_type": "execute_result"
    }
   ],
   "source": [
    "# Churn is greater then 50 % for first 8 months of service\n",
    "df = get_telco_data(cached = True)\n",
    "month_one = df.tenure <= 8\n",
    "test = df[month_one]\n",
    "test.churn.value_counts(normalize = True)"
   ]
  },
  {
   "cell_type": "code",
   "execution_count": 4,
   "metadata": {},
   "outputs": [
    {
     "data": {
      "text/plain": [
       "No     0.73463\n",
       "Yes    0.26537\n",
       "Name: churn, dtype: float64"
      ]
     },
     "execution_count": 4,
     "metadata": {},
     "output_type": "execute_result"
    }
   ],
   "source": [
    "# Percent of Customers who Churned over 72 Months\n",
    "df.churn.value_counts(normalize = True)"
   ]
  },
  {
   "cell_type": "code",
   "execution_count": 5,
   "metadata": {},
   "outputs": [],
   "source": [
    "# Annual Churn per year (6 Years, aka.72 Months)"
   ]
  },
  {
   "cell_type": "code",
   "execution_count": 6,
   "metadata": {},
   "outputs": [
    {
     "data": {
      "text/plain": [
       "No     0.525618\n",
       "Yes    0.474382\n",
       "Name: churn, dtype: float64"
      ]
     },
     "execution_count": 6,
     "metadata": {},
     "output_type": "execute_result"
    }
   ],
   "source": [
    "# Year One\n",
    "df['tenure_years'] = round(df.tenure / 12, 2)\n",
    "year_one = df.tenure_years <= 1\n",
    "test = df[year_one]\n",
    "test.churn.value_counts(normalize = True)"
   ]
  },
  {
   "cell_type": "code",
   "execution_count": 7,
   "metadata": {},
   "outputs": [
    {
     "data": {
      "text/plain": [
       "No     0.857143\n",
       "Yes    0.142857\n",
       "Name: churn, dtype: float64"
      ]
     },
     "execution_count": 7,
     "metadata": {},
     "output_type": "execute_result"
    }
   ],
   "source": [
    "# Year two\n",
    "df['tenure_years'] = round(df.tenure / 12, 2)\n",
    "year_one = (df.tenure_years >= 2) & (df.tenure_years >=1)\n",
    "test = df[year_one]\n",
    "test.churn.value_counts(normalize = True)"
   ]
  },
  {
   "cell_type": "code",
   "execution_count": 8,
   "metadata": {},
   "outputs": [
    {
     "data": {
      "text/plain": [
       "No     0.879384\n",
       "Yes    0.120616\n",
       "Name: churn, dtype: float64"
      ]
     },
     "execution_count": 8,
     "metadata": {},
     "output_type": "execute_result"
    }
   ],
   "source": [
    "# Year three\n",
    "df['tenure_years'] = round(df.tenure / 12, 2)\n",
    "year_one = (df.tenure_years >= 3) & (df.tenure_years >=2)\n",
    "test = df[year_one]\n",
    "test.churn.value_counts(normalize = True)"
   ]
  },
  {
   "cell_type": "code",
   "execution_count": 9,
   "metadata": {},
   "outputs": [
    {
     "data": {
      "text/plain": [
       "No     0.903604\n",
       "Yes    0.096396\n",
       "Name: churn, dtype: float64"
      ]
     },
     "execution_count": 9,
     "metadata": {},
     "output_type": "execute_result"
    }
   ],
   "source": [
    "# Year four\n",
    "df['tenure_years'] = round(df.tenure / 12, 2)\n",
    "year_one = (df.tenure_years >= 4) & (df.tenure_years >=3)\n",
    "test = df[year_one]\n",
    "test.churn.value_counts(normalize = True)"
   ]
  },
  {
   "cell_type": "code",
   "execution_count": 10,
   "metadata": {},
   "outputs": [
    {
     "data": {
      "text/plain": [
       "No     0.933243\n",
       "Yes    0.066757\n",
       "Name: churn, dtype: float64"
      ]
     },
     "execution_count": 10,
     "metadata": {},
     "output_type": "execute_result"
    }
   ],
   "source": [
    "# Year Five\n",
    "df['tenure_years'] = round(df.tenure / 12, 2)\n",
    "year_one = (df.tenure_years >= 5) & (df.tenure_years >=4)\n",
    "test = df[year_one]\n",
    "test.churn.value_counts(normalize = True)"
   ]
  },
  {
   "cell_type": "code",
   "execution_count": 11,
   "metadata": {},
   "outputs": [
    {
     "data": {
      "text/plain": [
       "No     0.983425\n",
       "Yes    0.016575\n",
       "Name: churn, dtype: float64"
      ]
     },
     "execution_count": 11,
     "metadata": {},
     "output_type": "execute_result"
    }
   ],
   "source": [
    "# Year Six\n",
    "df['tenure_years'] = round(df.tenure / 12, 2)\n",
    "year_one = (df.tenure_years >= 6) & (df.tenure_years >=5)\n",
    "test = df[year_one]\n",
    "test.churn.value_counts(normalize = True)"
   ]
  },
  {
   "cell_type": "markdown",
   "metadata": {},
   "source": [
    "### Takeaways so far.... \n",
    "- Overall Churn Rate All Data (6 Years or 72 Months): 27%\n",
    "- Churn Rate for 1st 8 Months > 50%\n",
    "- Churn Rate for 1st Year: 47%, drops drastically after year one"
   ]
  },
  {
   "cell_type": "markdown",
   "metadata": {},
   "source": [
    "# Identifying Churn Drivers"
   ]
  },
  {
   "cell_type": "code",
   "execution_count": 12,
   "metadata": {},
   "outputs": [],
   "source": [
    "# Cleaned Data for Exploration\n",
    "df_explore= prep_telco_data_explore(get_telco_data(cached = True))"
   ]
  },
  {
   "cell_type": "code",
   "execution_count": 13,
   "metadata": {},
   "outputs": [
    {
     "data": {
      "text/plain": [
       "<matplotlib.axes._subplots.AxesSubplot at 0x7fd1d2a655e0>"
      ]
     },
     "execution_count": 13,
     "metadata": {},
     "output_type": "execute_result"
    },
    {
     "data": {
      "image/png": "[encoded data removed]",
      "text/plain": [
       "<Figure size 792x648 with 2 Axes>"
      ]
     },
     "metadata": {
      "needs_background": "light"
     },
     "output_type": "display_data"
    }
   ],
   "source": [
    "# Identify features to explore (Part One)\n",
    "explore_heatmat = df_explore[['gender_cc', 'senior_citizen', 'partner', 'dependents', 'churn']]\n",
    "# Compute the correlation matrix (all train)\n",
    "corr = explore_heatmat.corr()\n",
    "\n",
    "# Generate a mask for the upper triangle\n",
    "mask = np.triu(np.ones_like(corr, dtype=bool))\n",
    "\n",
    "# Set up the matplotlib figure\n",
    "f, ax = plt.subplots(figsize=(11, 9))\n",
    "\n",
    "# Generate a custom diverging colormap\n",
    "cmap = sns.diverging_palette(230, 20, as_cmap=True)\n",
    "\n",
    "# Draw the heatmap with the mask and correct aspect ratio\n",
    "sns.heatmap(corr, mask=mask, annot = True, cmap=cmap, vmax=.3, center=0,\n",
    "            square=True, linewidths=.5, cbar_kws={\"shrink\": .5})"
   ]
  },
  {
   "cell_type": "markdown",
   "metadata": {},
   "source": [
    "### Takeaway so far...\n",
    "- gender = Not a churn driver\n",
    "- senior_citizen = 0.15 +\n",
    "- partner = 0.15 -\n",
    "- dependents = 0.16 -"
   ]
  },
  {
   "cell_type": "code",
   "execution_count": 14,
   "metadata": {},
   "outputs": [
    {
     "data": {
      "text/plain": [
       "<matplotlib.axes._subplots.AxesSubplot at 0x7fd1d1a7ee20>"
      ]
     },
     "execution_count": 14,
     "metadata": {},
     "output_type": "execute_result"
    },
    {
     "data": {
      "image/png": "[encoded data removed]",
      "text/plain": [
       "<Figure size 792x648 with 2 Axes>"
      ]
     },
     "metadata": {
      "needs_background": "light"
     },
     "output_type": "display_data"
    }
   ],
   "source": [
    "# Identify features to explore (Part Two)\n",
    "explore_heatmat = df_explore[['tenure', 'phone_service', 'multiple_lines_cc', 'online_security_cc', 'churn']]\n",
    "# Compute the correlation matrix (all train)\n",
    "corr = explore_heatmat.corr()\n",
    "\n",
    "# Generate a mask for the upper triangle\n",
    "mask = np.triu(np.ones_like(corr, dtype=bool))\n",
    "\n",
    "# Set up the matplotlib figure\n",
    "f, ax = plt.subplots(figsize=(11, 9))\n",
    "\n",
    "# Generate a custom diverging colormap\n",
    "cmap = sns.diverging_palette(230, 20, as_cmap=True)\n",
    "\n",
    "# Draw the heatmap with the mask and correct aspect ratio\n",
    "sns.heatmap(corr, mask=mask, annot = True, cmap=cmap, vmax=.3, center=0,\n",
    "            square=True, linewidths=.5, cbar_kws={\"shrink\": .5})"
   ]
  },
  {
   "cell_type": "markdown",
   "metadata": {},
   "source": [
    "### Takeaway so far...\n",
    "- tenure = 0.35 -\n",
    "- phone_service = Not a churn driver\n",
    "- multiple lines = Not a churn driver\n",
    "- online_security = 0.29 -"
   ]
  },
  {
   "cell_type": "code",
   "execution_count": 15,
   "metadata": {},
   "outputs": [
    {
     "data": {
      "text/plain": [
       "<matplotlib.axes._subplots.AxesSubplot at 0x7fd1d15612e0>"
      ]
     },
     "execution_count": 15,
     "metadata": {},
     "output_type": "execute_result"
    },
    {
     "data": {
      "image/png": "[encoded data removed]",
      "text/plain": [
       "<Figure size 792x648 with 2 Axes>"
      ]
     },
     "metadata": {
      "needs_background": "light"
     },
     "output_type": "display_data"
    }
   ],
   "source": [
    "# Identify features to explore (Part Three)\n",
    "explore_heatmat = df_explore[['online_backup_cc', 'device_protection_cc', 'tech_support_cc', 'streaming_tv_cc', 'churn']]\n",
    "# Compute the correlation matrix (all train)\n",
    "corr = explore_heatmat.corr()\n",
    "\n",
    "# Generate a mask for the upper triangle\n",
    "mask = np.triu(np.ones_like(corr, dtype=bool))\n",
    "\n",
    "# Set up the matplotlib figure\n",
    "f, ax = plt.subplots(figsize=(11, 9))\n",
    "\n",
    "# Generate a custom diverging colormap\n",
    "cmap = sns.diverging_palette(230, 20, as_cmap=True)\n",
    "\n",
    "# Draw the heatmap with the mask and correct aspect ratio\n",
    "sns.heatmap(corr, mask=mask, annot = True, cmap=cmap, vmax=.3, center=0,\n",
    "            square=True, linewidths=.5, cbar_kws={\"shrink\": .5})"
   ]
  },
  {
   "cell_type": "markdown",
   "metadata": {},
   "source": [
    "### Takeaway so far...\n",
    "- online_backup = 0.20 -\n",
    "- device_protection = .18 -\n",
    "- tech_support = .28 -\n",
    "- streaming_tv = Not a churn driver"
   ]
  },
  {
   "cell_type": "code",
   "execution_count": 16,
   "metadata": {},
   "outputs": [
    {
     "data": {
      "text/plain": [
       "<matplotlib.axes._subplots.AxesSubplot at 0x7fd1d1a04700>"
      ]
     },
     "execution_count": 16,
     "metadata": {},
     "output_type": "execute_result"
    },
    {
     "data": {
      "image/png": "[encoded data removed]",
      "text/plain": [
       "<Figure size 792x648 with 2 Axes>"
      ]
     },
     "metadata": {
      "needs_background": "light"
     },
     "output_type": "display_data"
    }
   ],
   "source": [
    "# Identify features to explore (Part Four)\n",
    "explore_heatmat = df_explore[['streaming_movies_cc', 'month_to_month_contract', 'one_year_contract', 'two_year_contract', 'churn']]\n",
    "# Compute the correlation matrix (all train)\n",
    "corr = explore_heatmat.corr()\n",
    "\n",
    "# Generate a mask for the upper triangle\n",
    "mask = np.triu(np.ones_like(corr, dtype=bool))\n",
    "\n",
    "# Set up the matplotlib figure\n",
    "f, ax = plt.subplots(figsize=(11, 9))\n",
    "\n",
    "# Generate a custom diverging colormap\n",
    "cmap = sns.diverging_palette(230, 20, as_cmap=True)\n",
    "\n",
    "# Draw the heatmap with the mask and correct aspect ratio\n",
    "sns.heatmap(corr, mask=mask, annot = True, cmap=cmap, vmax=.3, center=0,\n",
    "            square=True, linewidths=.5, cbar_kws={\"shrink\": .5})"
   ]
  },
  {
   "cell_type": "markdown",
   "metadata": {},
   "source": [
    "### Takeaway so far...\n",
    "- streaming_movies = Not a churn driver\n",
    "- month_to_month_contract = 0.41 +\n",
    "- one_year_contract = 0.18 -\n",
    "- two_year_contract = 0.30 -"
   ]
  },
  {
   "cell_type": "code",
   "execution_count": 17,
   "metadata": {},
   "outputs": [
    {
     "data": {
      "text/plain": [
       "<matplotlib.axes._subplots.AxesSubplot at 0x7fd1d2b67be0>"
      ]
     },
     "execution_count": 17,
     "metadata": {},
     "output_type": "execute_result"
    },
    {
     "data": {
      "image/png": "[encoded data removed]",
      "text/plain": [
       "<Figure size 792x648 with 2 Axes>"
      ]
     },
     "metadata": {
      "needs_background": "light"
     },
     "output_type": "display_data"
    }
   ],
   "source": [
    "# Identify features to explore (Part Five)\n",
    "explore_heatmat = df_explore[['internet_service', 'tenure_years', 'paperless_billing', 'monthly_charges','churn']]\n",
    "# Compute the correlation matrix (all train)\n",
    "corr = explore_heatmat.corr()\n",
    "\n",
    "# Generate a mask for the upper triangle\n",
    "mask = np.triu(np.ones_like(corr, dtype=bool))\n",
    "\n",
    "# Set up the matplotlib figure\n",
    "f, ax = plt.subplots(figsize=(11, 9))\n",
    "\n",
    "# Generate a custom diverging colormap\n",
    "cmap = sns.diverging_palette(230, 20, as_cmap=True)\n",
    "\n",
    "# Draw the heatmap with the mask and correct aspect ratio\n",
    "sns.heatmap(corr, mask=mask, annot = True, cmap=cmap, vmax=.3, center=0,\n",
    "            square=True, linewidths=.5, cbar_kws={\"shrink\": .5})"
   ]
  },
  {
   "cell_type": "markdown",
   "metadata": {},
   "source": [
    "### Takeaway so far...\n",
    "- internet_service = 0.23 +\n",
    "- tenure_years = 0.35 -\n",
    "- paperless_billing = 0.19 +\n",
    "- monthly_charges = 0.19 +"
   ]
  },
  {
   "cell_type": "code",
   "execution_count": 18,
   "metadata": {},
   "outputs": [
    {
     "data": {
      "text/plain": [
       "<matplotlib.axes._subplots.AxesSubplot at 0x7fd1d2233b50>"
      ]
     },
     "execution_count": 18,
     "metadata": {},
     "output_type": "execute_result"
    },
    {
     "data": {
      "image/png": "[encoded data removed]",
      "text/plain": [
       "<Figure size 792x648 with 2 Axes>"
      ]
     },
     "metadata": {
      "needs_background": "light"
     },
     "output_type": "display_data"
    }
   ],
   "source": [
    "# Identify features to explore (Part Six)\n",
    "explore_heatmat = df_explore[['total_charges', 'payment_type_cc', 'bank_transfer_auto', 'credit_card_auto','churn']]\n",
    "# Compute the correlation matrix (all train)\n",
    "corr = explore_heatmat.corr()\n",
    "\n",
    "# Generate a mask for the upper triangle\n",
    "mask = np.triu(np.ones_like(corr, dtype=bool))\n",
    "\n",
    "# Set up the matplotlib figure\n",
    "f, ax = plt.subplots(figsize=(11, 9))\n",
    "\n",
    "# Generate a custom diverging colormap\n",
    "cmap = sns.diverging_palette(230, 20, as_cmap=True)\n",
    "\n",
    "# Draw the heatmap with the mask and correct aspect ratio\n",
    "sns.heatmap(corr, mask=mask, annot = True, cmap=cmap, vmax=.3, center=0,\n",
    "            square=True, linewidths=.5, cbar_kws={\"shrink\": .5})"
   ]
  },
  {
   "cell_type": "markdown",
   "metadata": {},
   "source": [
    "### Takeaway so far...\n",
    "- total_charges = 0.20 -\n",
    "- payment_type = not a driver of churn\n",
    "- bank_transfer = not a driver of churn\n",
    "- creit_card = not a driver of churn"
   ]
  },
  {
   "cell_type": "code",
   "execution_count": 19,
   "metadata": {},
   "outputs": [
    {
     "data": {
      "text/plain": [
       "<matplotlib.axes._subplots.AxesSubplot at 0x7fd1d2233970>"
      ]
     },
     "execution_count": 19,
     "metadata": {},
     "output_type": "execute_result"
    },
    {
     "data": {
      "image/png": "[encoded data removed]",
      "text/plain": [
       "<Figure size 792x648 with 2 Axes>"
      ]
     },
     "metadata": {
      "needs_background": "light"
     },
     "output_type": "display_data"
    }
   ],
   "source": [
    "# Identify features to explore (Part Seven)\n",
    "explore_heatmat = df_explore[['e_check','mail_check','dsl','fiber_optic','None','churn']]\n",
    "# Compute the correlation matrix (all train)\n",
    "corr = explore_heatmat.corr()\n",
    "\n",
    "# Generate a mask for the upper triangle\n",
    "mask = np.triu(np.ones_like(corr, dtype=bool))\n",
    "\n",
    "# Set up the matplotlib figure\n",
    "f, ax = plt.subplots(figsize=(11, 9))\n",
    "\n",
    "# Generate a custom diverging colormap\n",
    "cmap = sns.diverging_palette(230, 20, as_cmap=True)\n",
    "\n",
    "# Draw the heatmap with the mask and correct aspect ratio\n",
    "sns.heatmap(corr, mask=mask, annot = True, cmap=cmap, vmax=.3, center=0,\n",
    "            square=True, linewidths=.5, cbar_kws={\"shrink\": .5})"
   ]
  },
  {
   "cell_type": "markdown",
   "metadata": {},
   "source": [
    "### Takeaway so far...\n",
    "- e_check = 0.30 +\n",
    "- mail_check = not a driver of churn\n",
    "- dsl = not a driver of churn\n",
    "- fiber_optic = 0.31 +\n",
    "- No interent = 0.23 -"
   ]
  },
  {
   "cell_type": "markdown",
   "metadata": {},
   "source": [
    "### Total Drivers of Churn (Correlations > .15)\n",
    "\n",
    "- senior_citizen = 0.15 +\n",
    "- partner = 0.15 -\n",
    "- dependents = 0.16 -\n",
    "- tenure = 0.35 -\n",
    "- online_security = 0.29 -\n",
    "- online_backup = 0.20 -\n",
    "- device_protection = .18 -\n",
    "- tech_support = .28 -\n",
    "- month_to_month_contract = .41 +\n",
    "- one_year_contract = .18 -\n",
    "- two_year_contract = 0.30 -\n",
    "- internet_service = 0.23 +\n",
    "- tenure_years = 0.35 -\n",
    "- paperless_billing = 0.19 +\n",
    "- monthly_charges = 0.19 +\n",
    "- total_charges = 0.20 -\n",
    "- e_check = 0.30 +\n",
    "- fiber_optic = 0.31 +\n",
    "- No interent = 0.23 -"
   ]
  },
  {
   "cell_type": "markdown",
   "metadata": {},
   "source": [
    "### Positive Drivers\n",
    "- senior_citizen = 0.15 +\n",
    "- month_to_month_contract = .41 +\n",
    "- internet_service = 0.23 +\n",
    "- paperless_billing = 0.19 +\n",
    "- monthly_charges = 0.19 +\n",
    "- e_check = 0.30 +\n",
    "- fiber_optic = 0.31 +"
   ]
  },
  {
   "cell_type": "markdown",
   "metadata": {},
   "source": [
    "### Negative Drivers\n",
    "- partner = 0.15 -\n",
    "- dependents = 0.16 -\n",
    "- tenure = 0.35 -\n",
    "- online_security = 0.29 -\n",
    "- online_backup = 0.20 -\n",
    "- device_protection = .18 -\n",
    "- tech_support = .28 -\n",
    "- one_year_contract = .18 -\n",
    "- two_year_contract = 0.30 -\n",
    "- tenure_years = 0.35 -\n",
    "- total_charges = 0.20 -\n",
    "- No interent = 0.23 -"
   ]
  },
  {
   "cell_type": "markdown",
   "metadata": {},
   "source": [
    "# Final Takeaways\n",
    "\n",
    "- Contract Type, Internet Service, and Tenure are the 3 Largest Drives Churn (+ and -)\n",
    "- Leads me to create two hypotheses that might help to keep customers from leaving telco:\n",
    "  - Hypothesis One: There is a difference in churn rate between internet service options, and will test this hypothesis with a Chi Squared Test.\n",
    "  - Hypothesis Two: Of those with internet service, customers who utilize tech_support are less likely to churn.  "
   ]
  },
  {
   "cell_type": "markdown",
   "metadata": {},
   "source": [
    "# Statistical Testing"
   ]
  },
  {
   "cell_type": "markdown",
   "metadata": {},
   "source": [
    "## Hypothesis One: Churn is affected by internet service type"
   ]
  },
  {
   "cell_type": "markdown",
   "metadata": {},
   "source": [
    "$H_{0}$: Whether a person churns is independent of internet service type\n",
    "\n",
    "$H_{a}$: Whether a person churns is not independent of internet service type"
   ]
  },
  {
   "cell_type": "code",
   "execution_count": 20,
   "metadata": {},
   "outputs": [
    {
     "data": {
      "text/plain": [
       "0.05"
      ]
     },
     "execution_count": 20,
     "metadata": {},
     "output_type": "execute_result"
    }
   ],
   "source": [
    "confidence_level = .95\n",
    "alpha = round(1 - confidence_level,2)\n",
    "alpha"
   ]
  },
  {
   "cell_type": "code",
   "execution_count": 21,
   "metadata": {},
   "outputs": [],
   "source": [
    "#Sort service type and eliminate none before crosstab\n",
    "dsl_fiber = df_explore.internet_service_type != 'None'\n",
    "df_dsl_fiber = df_explore[dsl_fiber]"
   ]
  },
  {
   "cell_type": "code",
   "execution_count": 22,
   "metadata": {},
   "outputs": [
    {
     "data": {
      "text/html": [
       "<div>\n",
       "<style scoped>\n",
       "    .dataframe tbody tr th:only-of-type {\n",
       "        vertical-align: middle;\n",
       "    }\n",
       "\n",
       "    .dataframe tbody tr th {\n",
       "        vertical-align: top;\n",
       "    }\n",
       "\n",
       "    .dataframe thead th {\n",
       "        text-align: right;\n",
       "    }\n",
       "</style>\n",
       "<table border=\"1\" class=\"dataframe\">\n",
       "  <thead>\n",
       "    <tr style=\"text-align: right;\">\n",
       "      <th>internet_service_type</th>\n",
       "      <th>DSL</th>\n",
       "      <th>Fiber optic</th>\n",
       "    </tr>\n",
       "    <tr>\n",
       "      <th>churn</th>\n",
       "      <th></th>\n",
       "      <th></th>\n",
       "    </tr>\n",
       "  </thead>\n",
       "  <tbody>\n",
       "    <tr>\n",
       "      <th>0</th>\n",
       "      <td>1962</td>\n",
       "      <td>1799</td>\n",
       "    </tr>\n",
       "    <tr>\n",
       "      <th>1</th>\n",
       "      <td>459</td>\n",
       "      <td>1297</td>\n",
       "    </tr>\n",
       "  </tbody>\n",
       "</table>\n",
       "</div>"
      ],
      "text/plain": [
       "internet_service_type   DSL  Fiber optic\n",
       "churn                                   \n",
       "0                      1962         1799\n",
       "1                       459         1297"
      ]
     },
     "execution_count": 22,
     "metadata": {},
     "output_type": "execute_result"
    }
   ],
   "source": [
    "ctab = pd.crosstab(df_dsl_fiber.churn, df_dsl_fiber.internet_service_type)\n",
    "ctab"
   ]
  },
  {
   "cell_type": "code",
   "execution_count": 23,
   "metadata": {},
   "outputs": [
    {
     "name": "stdout",
     "output_type": "stream",
     "text": [
      "Our p-value is 2.2962170975696955e-73.\n",
      "Our p-value is less than our alpha: True\n"
     ]
    }
   ],
   "source": [
    "# Statistical Test\n",
    "Chi2, p, degf, expected = stats.chi2_contingency(ctab)\n",
    "print(f'Our p-value is {p}.')\n",
    "print(f'Our p-value is less than our alpha: {p < alpha}')"
   ]
  },
  {
   "cell_type": "markdown",
   "metadata": {},
   "source": [
    "#### Findings:\n",
    "P-value is less than alpha so we reject the null hypothesis, ie. Our 𝑥2 test informs us that the two categories, churn and internet service, are not independent."
   ]
  },
  {
   "cell_type": "markdown",
   "metadata": {},
   "source": [
    "## Hypothesis Two: Churn is affected by tech support"
   ]
  },
  {
   "cell_type": "markdown",
   "metadata": {},
   "source": [
    "$H_{0}$: Whether a person churns is independent of tech support\n",
    "\n",
    "$H_{a}$: Whether a person churns is not independent of tech support"
   ]
  },
  {
   "cell_type": "code",
   "execution_count": 24,
   "metadata": {},
   "outputs": [
    {
     "data": {
      "text/plain": [
       "0.05"
      ]
     },
     "execution_count": 24,
     "metadata": {},
     "output_type": "execute_result"
    }
   ],
   "source": [
    "# Set alpha for hypothesis test\n",
    "confidence_level = .95\n",
    "alpha = round(1 - confidence_level,2)\n",
    "alpha"
   ]
  },
  {
   "cell_type": "code",
   "execution_count": 25,
   "metadata": {},
   "outputs": [],
   "source": [
    "# Sort tech support and eliminate 'no internet service' before crosstab\n",
    "df_support = df_explore.tech_support != 'No internet service'\n",
    "df_support_final = df_explore[df_support]"
   ]
  },
  {
   "cell_type": "code",
   "execution_count": 26,
   "metadata": {},
   "outputs": [
    {
     "data": {
      "text/html": [
       "<div>\n",
       "<style scoped>\n",
       "    .dataframe tbody tr th:only-of-type {\n",
       "        vertical-align: middle;\n",
       "    }\n",
       "\n",
       "    .dataframe tbody tr th {\n",
       "        vertical-align: top;\n",
       "    }\n",
       "\n",
       "    .dataframe thead th {\n",
       "        text-align: right;\n",
       "    }\n",
       "</style>\n",
       "<table border=\"1\" class=\"dataframe\">\n",
       "  <thead>\n",
       "    <tr style=\"text-align: right;\">\n",
       "      <th>tech_support</th>\n",
       "      <th>No</th>\n",
       "      <th>Yes</th>\n",
       "    </tr>\n",
       "    <tr>\n",
       "      <th>churn</th>\n",
       "      <th></th>\n",
       "      <th></th>\n",
       "    </tr>\n",
       "  </thead>\n",
       "  <tbody>\n",
       "    <tr>\n",
       "      <th>0</th>\n",
       "      <td>2027</td>\n",
       "      <td>1734</td>\n",
       "    </tr>\n",
       "    <tr>\n",
       "      <th>1</th>\n",
       "      <td>1446</td>\n",
       "      <td>310</td>\n",
       "    </tr>\n",
       "  </tbody>\n",
       "</table>\n",
       "</div>"
      ],
      "text/plain": [
       "tech_support    No   Yes\n",
       "churn                   \n",
       "0             2027  1734\n",
       "1             1446   310"
      ]
     },
     "execution_count": 26,
     "metadata": {},
     "output_type": "execute_result"
    }
   ],
   "source": [
    "ctab = pd.crosstab(df_support_final.churn, df_support_final.tech_support)\n",
    "ctab"
   ]
  },
  {
   "cell_type": "code",
   "execution_count": 27,
   "metadata": {},
   "outputs": [
    {
     "name": "stdout",
     "output_type": "stream",
     "text": [
      "Our p-value is 4.35191667899426e-92.\n",
      "Our p-value is less than our alpha: True\n"
     ]
    }
   ],
   "source": [
    "Chi2, p, degf, expected = stats.chi2_contingency(ctab)\n",
    "print(f'Our p-value is {p}.')\n",
    "print(f'Our p-value is less than our alpha: {p < alpha}')"
   ]
  },
  {
   "cell_type": "markdown",
   "metadata": {},
   "source": [
    "#### Findings:\n",
    "P-value is less than alpha so we reject the null hypothesis, ie. Our 𝑥2 test informs us that the two categories, churn and tech support, are not independent."
   ]
  },
  {
   "cell_type": "markdown",
   "metadata": {},
   "source": [
    "# Modeling: Predicting Churn"
   ]
  },
  {
   "cell_type": "markdown",
   "metadata": {},
   "source": [
    "#### General Assumptions\n",
    "- For my models the dummy assessment of churn will be 50%.  This is greater then the overall churn for the data set, but equivilent to the amount of churn seen in the first 8 months of service when customer identification and intervention are greatest\n",
    "- 7 Features Identified as Large Positive Churn Drivers\n",
    "- 12 Features Identfied as Large Negative Churh Drivers\n",
    "- I am going to build my first models using top 5 positive and top 5 negative drivers of churn"
   ]
  },
  {
   "cell_type": "code",
   "execution_count": 28,
   "metadata": {},
   "outputs": [],
   "source": [
    "#Importing modeling data set (w/scaled values)\n",
    "train, validate, test = prep_telco_data_model(get_telco_data(cached = True))"
   ]
  },
  {
   "cell_type": "code",
   "execution_count": 29,
   "metadata": {},
   "outputs": [
    {
     "data": {
      "text/html": [
       "<div>\n",
       "<style scoped>\n",
       "    .dataframe tbody tr th:only-of-type {\n",
       "        vertical-align: middle;\n",
       "    }\n",
       "\n",
       "    .dataframe tbody tr th {\n",
       "        vertical-align: top;\n",
       "    }\n",
       "\n",
       "    .dataframe thead th {\n",
       "        text-align: right;\n",
       "    }\n",
       "</style>\n",
       "<table border=\"1\" class=\"dataframe\">\n",
       "  <thead>\n",
       "    <tr style=\"text-align: right;\">\n",
       "      <th></th>\n",
       "      <th>senior_citizen</th>\n",
       "      <th>partner</th>\n",
       "      <th>dependents</th>\n",
       "      <th>tenure</th>\n",
       "      <th>phone_service</th>\n",
       "      <th>paperless_billing</th>\n",
       "      <th>monthly_charges</th>\n",
       "      <th>total_charges</th>\n",
       "      <th>churn</th>\n",
       "      <th>gender_cc</th>\n",
       "      <th>...</th>\n",
       "      <th>e_check</th>\n",
       "      <th>mail_check</th>\n",
       "      <th>month_to_month_contract</th>\n",
       "      <th>one_year_contract</th>\n",
       "      <th>two_year_contract</th>\n",
       "      <th>internet_service</th>\n",
       "      <th>dsl</th>\n",
       "      <th>fiber_optic</th>\n",
       "      <th>None</th>\n",
       "      <th>tenure_years</th>\n",
       "    </tr>\n",
       "  </thead>\n",
       "  <tbody>\n",
       "    <tr>\n",
       "      <th>5670</th>\n",
       "      <td>0</td>\n",
       "      <td>0</td>\n",
       "      <td>1</td>\n",
       "      <td>0.069444</td>\n",
       "      <td>1</td>\n",
       "      <td>0</td>\n",
       "      <td>0.020927</td>\n",
       "      <td>0.014048</td>\n",
       "      <td>0</td>\n",
       "      <td>1</td>\n",
       "      <td>...</td>\n",
       "      <td>0</td>\n",
       "      <td>0</td>\n",
       "      <td>1</td>\n",
       "      <td>0</td>\n",
       "      <td>0</td>\n",
       "      <td>0</td>\n",
       "      <td>0</td>\n",
       "      <td>0</td>\n",
       "      <td>1</td>\n",
       "      <td>0.070000</td>\n",
       "    </tr>\n",
       "    <tr>\n",
       "      <th>4152</th>\n",
       "      <td>0</td>\n",
       "      <td>0</td>\n",
       "      <td>0</td>\n",
       "      <td>0.083333</td>\n",
       "      <td>1</td>\n",
       "      <td>1</td>\n",
       "      <td>0.707524</td>\n",
       "      <td>0.056081</td>\n",
       "      <td>0</td>\n",
       "      <td>0</td>\n",
       "      <td>...</td>\n",
       "      <td>1</td>\n",
       "      <td>0</td>\n",
       "      <td>1</td>\n",
       "      <td>0</td>\n",
       "      <td>0</td>\n",
       "      <td>1</td>\n",
       "      <td>0</td>\n",
       "      <td>1</td>\n",
       "      <td>0</td>\n",
       "      <td>0.083333</td>\n",
       "    </tr>\n",
       "    <tr>\n",
       "      <th>4890</th>\n",
       "      <td>0</td>\n",
       "      <td>0</td>\n",
       "      <td>0</td>\n",
       "      <td>0.750000</td>\n",
       "      <td>1</td>\n",
       "      <td>0</td>\n",
       "      <td>0.659193</td>\n",
       "      <td>0.516310</td>\n",
       "      <td>0</td>\n",
       "      <td>1</td>\n",
       "      <td>...</td>\n",
       "      <td>1</td>\n",
       "      <td>0</td>\n",
       "      <td>0</td>\n",
       "      <td>1</td>\n",
       "      <td>0</td>\n",
       "      <td>1</td>\n",
       "      <td>0</td>\n",
       "      <td>1</td>\n",
       "      <td>0</td>\n",
       "      <td>0.750000</td>\n",
       "    </tr>\n",
       "    <tr>\n",
       "      <th>2391</th>\n",
       "      <td>0</td>\n",
       "      <td>1</td>\n",
       "      <td>0</td>\n",
       "      <td>1.000000</td>\n",
       "      <td>1</td>\n",
       "      <td>0</td>\n",
       "      <td>0.463378</td>\n",
       "      <td>0.553237</td>\n",
       "      <td>0</td>\n",
       "      <td>0</td>\n",
       "      <td>...</td>\n",
       "      <td>0</td>\n",
       "      <td>0</td>\n",
       "      <td>0</td>\n",
       "      <td>0</td>\n",
       "      <td>1</td>\n",
       "      <td>1</td>\n",
       "      <td>1</td>\n",
       "      <td>0</td>\n",
       "      <td>0</td>\n",
       "      <td>1.000000</td>\n",
       "    </tr>\n",
       "    <tr>\n",
       "      <th>2896</th>\n",
       "      <td>0</td>\n",
       "      <td>1</td>\n",
       "      <td>0</td>\n",
       "      <td>0.388889</td>\n",
       "      <td>1</td>\n",
       "      <td>0</td>\n",
       "      <td>0.580967</td>\n",
       "      <td>0.237818</td>\n",
       "      <td>0</td>\n",
       "      <td>1</td>\n",
       "      <td>...</td>\n",
       "      <td>0</td>\n",
       "      <td>0</td>\n",
       "      <td>1</td>\n",
       "      <td>0</td>\n",
       "      <td>0</td>\n",
       "      <td>1</td>\n",
       "      <td>0</td>\n",
       "      <td>1</td>\n",
       "      <td>0</td>\n",
       "      <td>0.388333</td>\n",
       "    </tr>\n",
       "  </tbody>\n",
       "</table>\n",
       "<p>5 rows × 30 columns</p>\n",
       "</div>"
      ],
      "text/plain": [
       "      senior_citizen  partner  dependents    tenure  phone_service  \\\n",
       "5670               0        0           1  0.069444              1   \n",
       "4152               0        0           0  0.083333              1   \n",
       "4890               0        0           0  0.750000              1   \n",
       "2391               0        1           0  1.000000              1   \n",
       "2896               0        1           0  0.388889              1   \n",
       "\n",
       "      paperless_billing  monthly_charges  total_charges  churn  gender_cc  \\\n",
       "5670                  0         0.020927       0.014048      0          1   \n",
       "4152                  1         0.707524       0.056081      0          0   \n",
       "4890                  0         0.659193       0.516310      0          1   \n",
       "2391                  0         0.463378       0.553237      0          0   \n",
       "2896                  0         0.580967       0.237818      0          1   \n",
       "\n",
       "      ...  e_check  mail_check  month_to_month_contract  one_year_contract  \\\n",
       "5670  ...        0           0                        1                  0   \n",
       "4152  ...        1           0                        1                  0   \n",
       "4890  ...        1           0                        0                  1   \n",
       "2391  ...        0           0                        0                  0   \n",
       "2896  ...        0           0                        1                  0   \n",
       "\n",
       "      two_year_contract  internet_service  dsl  fiber_optic  None  \\\n",
       "5670                  0                 0    0            0     1   \n",
       "4152                  0                 1    0            1     0   \n",
       "4890                  0                 1    0            1     0   \n",
       "2391                  1                 1    1            0     0   \n",
       "2896                  0                 1    0            1     0   \n",
       "\n",
       "      tenure_years  \n",
       "5670      0.070000  \n",
       "4152      0.083333  \n",
       "4890      0.750000  \n",
       "2391      1.000000  \n",
       "2896      0.388333  \n",
       "\n",
       "[5 rows x 30 columns]"
      ]
     },
     "execution_count": 29,
     "metadata": {},
     "output_type": "execute_result"
    }
   ],
   "source": [
    "train.head()"
   ]
  },
  {
   "cell_type": "markdown",
   "metadata": {},
   "source": [
    "# Logistic Regression Model"
   ]
  },
  {
   "cell_type": "code",
   "execution_count": 42,
   "metadata": {},
   "outputs": [
    {
     "name": "stdout",
     "output_type": "stream",
     "text": [
      "Accuracy of Logistic Classifier on training set: 0.80\n",
      "              precision    recall  f1-score   support\n",
      "\n",
      "           0       0.84      0.90      0.87      2897\n",
      "           1       0.65      0.51      0.57      1046\n",
      "\n",
      "    accuracy                           0.80      3943\n",
      "   macro avg       0.74      0.71      0.72      3943\n",
      "weighted avg       0.79      0.80      0.79      3943\n",
      "\n"
     ]
    }
   ],
   "source": [
    "# Logistic Model\n",
    "train, validate, test = prep_telco_data_model(get_telco_data(cached = True))\n",
    "X_train_1 = train[['month_to_month_contract','e_check', 'fiber_optic', 'internet_service', 'monthly_charges','tenure_years','tech_support_cc','dependents','total_charges','None']]\n",
    "y_train = train.churn\n",
    "\n",
    "# Log Function\n",
    "log = LogisticRegression(C=1, random_state = 123, solver='lbfgs')\n",
    "log.fit(X_train_1, y_train)\n",
    "\n",
    "# make a prediction with traning data\n",
    "y_pred_1 = log.predict(X_train_1)\n",
    "# estimate prob of churn with training data\n",
    "y_pred_proba_1 = log.predict_proba(X_train_1)\n",
    "\n",
    "print('Accuracy of Logistic Classifier on training set: {:.2f}'\n",
    "     .format(log.score(X_train_1, y_train)))\n",
    "print(classification_report(y_train, y_pred_1))"
   ]
  },
  {
   "cell_type": "markdown",
   "metadata": {},
   "source": [
    "#### Findings:\n",
    "- 80% Accuracy no matter what adjustments were made to model parameters"
   ]
  },
  {
   "cell_type": "markdown",
   "metadata": {},
   "source": [
    "# Decision Tree Model"
   ]
  },
  {
   "cell_type": "code",
   "execution_count": 48,
   "metadata": {},
   "outputs": [
    {
     "name": "stdout",
     "output_type": "stream",
     "text": [
      "Accuracy of Logistic Classifier on training set: 0.88\n",
      "              precision    recall  f1-score   support\n",
      "\n",
      "           0       0.91      0.93      0.92      2897\n",
      "           1       0.80      0.74      0.77      1046\n",
      "\n",
      "    accuracy                           0.88      3943\n",
      "   macro avg       0.85      0.84      0.84      3943\n",
      "weighted avg       0.88      0.88      0.88      3943\n",
      "\n"
     ]
    }
   ],
   "source": [
    "# Decision Tree Model\n",
    "train, validate, test = prep_telco_data_model(get_telco_data(cached = True))\n",
    "X_train_2 = train[['month_to_month_contract','e_check', 'fiber_optic', 'internet_service', 'monthly_charges','tenure_years','tech_support_cc','dependents','total_charges','None']]\n",
    "y_train = train.churn\n",
    "\n",
    "# Decision Tree Function\n",
    "clf = DecisionTreeClassifier(max_depth=10, random_state=123)\n",
    "clf.fit(X_train_2, y_train)\n",
    "\n",
    "#make a prediction with traning data\n",
    "y_pred_2 = clf.predict(X_train_2)\n",
    "#estimate prob of churn with training data\n",
    "y_pred_proba_2 = clf.predict_proba(X_train_2)\n",
    "\n",
    "print('Accuracy of Logistic Classifier on training set: {:.2f}'\n",
    "     .format(clf.score(X_train_2, y_train)))\n",
    "print(classification_report(y_train, y_pred_2))"
   ]
  },
  {
   "cell_type": "markdown",
   "metadata": {},
   "source": [
    "#### Findings:\n",
    "- with max_depth of 3 equivlent accuracy, worse recally for positive churn\n",
    "- with max_depth of 10 better accuracy, better recally and f1 score"
   ]
  },
  {
   "cell_type": "markdown",
   "metadata": {},
   "source": [
    "# Random Forrest Model"
   ]
  },
  {
   "cell_type": "code",
   "execution_count": 57,
   "metadata": {},
   "outputs": [
    {
     "name": "stdout",
     "output_type": "stream",
     "text": [
      "Accuracy of Logistic Classifier on training set: 0.83\n",
      "              precision    recall  f1-score   support\n",
      "\n",
      "           0       0.85      0.93      0.89      2897\n",
      "           1       0.74      0.55      0.63      1046\n",
      "\n",
      "    accuracy                           0.83      3943\n",
      "   macro avg       0.80      0.74      0.76      3943\n",
      "weighted avg       0.82      0.83      0.82      3943\n",
      "\n"
     ]
    }
   ],
   "source": [
    "# Random Forrest Model\n",
    "train, validate, test = prep_telco_data_model(get_telco_data(cached = True))\n",
    "X_train_3 = train[['month_to_month_contract','e_check', 'fiber_optic', 'internet_service', 'monthly_charges','tenure_years','tech_support_cc','dependents','total_charges','None']]\n",
    "y_train = train.churn\n",
    "\n",
    "# Random Forrest Function\n",
    "rf = RandomForestClassifier(bootstrap=True, \n",
    "                            class_weight=None, \n",
    "                            criterion='gini',\n",
    "                            min_samples_leaf=10,\n",
    "                            n_estimators=100,\n",
    "                            max_depth=20, \n",
    "                            random_state=123)\n",
    "\n",
    "rf.fit(X_train_3, y_train)\n",
    "\n",
    "#make a prediction with traning data\n",
    "y_pred_3 = rf.predict(X_train_3)\n",
    "#estimate prob of churn with training data\n",
    "y_pred_proba_3 = rf.predict_proba(X_train_3)\n",
    "\n",
    "print('Accuracy of Logistic Classifier on training set: {:.2f}'\n",
    "     .format(rf.score(X_train_3, y_train)))\n",
    "print(classification_report(y_train, y_pred_3))"
   ]
  },
  {
   "cell_type": "markdown",
   "metadata": {},
   "source": [
    "#### Findings\n",
    "- No Matter how I fine tune the function it does not give me the f1 score I am looking for"
   ]
  },
  {
   "cell_type": "markdown",
   "metadata": {},
   "source": [
    "# KNN Model"
   ]
  },
  {
   "cell_type": "code",
   "execution_count": 64,
   "metadata": {},
   "outputs": [
    {
     "name": "stdout",
     "output_type": "stream",
     "text": [
      "Accuracy of Logistic Classifier on training set: 0.84\n",
      "              precision    recall  f1-score   support\n",
      "\n",
      "           0       0.87      0.93      0.90      2897\n",
      "           1       0.75      0.61      0.67      1046\n",
      "\n",
      "    accuracy                           0.84      3943\n",
      "   macro avg       0.81      0.77      0.78      3943\n",
      "weighted avg       0.84      0.84      0.84      3943\n",
      "\n"
     ]
    }
   ],
   "source": [
    "# KNN Model\n",
    "train, validate, test = prep_telco_data_model(get_telco_data(cached = True))\n",
    "X_train_4 = train[['month_to_month_contract','e_check', 'fiber_optic', 'internet_service', 'monthly_charges','tenure_years','tech_support_cc','dependents','total_charges','None']]\n",
    "y_train = train.churn\n",
    "\n",
    "# Random Forrest Function\n",
    "knn = KNeighborsClassifier(n_neighbors=5, weights='uniform')\n",
    "\n",
    "knn.fit(X_train_4, y_train)\n",
    "\n",
    "#make a prediction with traning data\n",
    "y_pred_4 = knn.predict(X_train_4)\n",
    "#estimate prob of churn with training data\n",
    "y_pred_proba_4 = knn.predict_proba(X_train_4)\n",
    "\n",
    "print('Accuracy of Logistic Classifier on training set: {:.2f}'\n",
    "     .format(knn.score(X_train_4, y_train)))\n",
    "print(classification_report(y_train, y_pred_4))"
   ]
  },
  {
   "cell_type": "markdown",
   "metadata": {},
   "source": [
    "#### Findings:\n",
    "- with n =5, good accuracy(.84) and f1 score (.67)"
   ]
  },
  {
   "cell_type": "markdown",
   "metadata": {},
   "source": [
    "## Validate Data: (3 Top Models)"
   ]
  },
  {
   "cell_type": "code",
   "execution_count": null,
   "metadata": {},
   "outputs": [],
   "source": [
    "# Train models on validate\n",
    "\n",
    "X_validate_1 = validate[['month_to_month_contract','e_check', 'fiber_optic', 'internet_service', 'monthly_charges','tenure_years','tech_support_cc','dependents','total_charges','None']]\n",
    "X_validate_2 = validate[['month_to_month_contract','e_check', 'fiber_optic', 'internet_service', 'monthly_charges','tenure_years','tech_support_cc','dependents','total_charges','None']]\n",
    "X_validate_4 = validate[['month_to_month_contract','e_check', 'fiber_optic', 'internet_service', 'monthly_charges','tenure_years','tech_support_cc','dependents','total_charges','None']]\n",
    "y_validate = validate.survived\n",
    "\n",
    "#make a prediction with validate data\n",
    "y_pred_1 = log.predict(X_validate_1)\n",
    "y_pred_2 = cff.predict(X_validate_2)\n",
    "y_pred_4 = knn.predict(X_validate_4)\n",
    "\n",
    "#estimate prob of churn with training data\n",
    "y_pred_proba_1 = log.predict_proba(X_validate_1)\n",
    "y_pred_proba_2 = cff.predict_proba(X_validate_2)\n",
    "y_pred_proba_4 = knn.predict_proba(X_validate_4)"
   ]
  }
 ],
 "metadata": {
  "kernelspec": {
   "display_name": "Python 3",
   "language": "python",
   "name": "python3"
  },
  "language_info": {
   "codemirror_mode": {
    "name": "ipython",
    "version": 3
   },
   "file_extension": ".py",
   "mimetype": "text/x-python",
   "name": "python",
   "nbconvert_exporter": "python",
   "pygments_lexer": "ipython3",
   "version": "3.8.3"
  }
 },
 "nbformat": 4,
 "nbformat_minor": 4
}
