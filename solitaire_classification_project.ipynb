{
 "cells": [
  {
   "cell_type": "markdown",
   "metadata": {},
   "source": [
    "### Import Python Methods"
   ]
  },
  {
   "cell_type": "code",
   "execution_count": 44,
   "metadata": {},
   "outputs": [],
   "source": [
    "import numpy as np\n",
    "import pandas as pd\n",
    "import seaborn as sns\n",
    "import matplotlib.pyplot as plt\n",
    "from math import sqrt\n",
    "from scipy import stats\n",
    "\n",
    "from sklearn.model_selection import train_test_split\n",
    "from sklearn.linear_model import LogisticRegression\n",
    "from sklearn.ensemble import RandomForestClassifier\n",
    "from sklearn.neighbors import KNeighborsClassifier\n",
    "from sklearn.metrics import classification_report,confusion_matrix,accuracy_score,recall_score,precision_score\n",
    "\n",
    "import warnings\n",
    "warnings.filterwarnings(\"ignore\")\n",
    "\n",
    "from acquire import get_telco_data\n",
    "from prepare import prep_telco_data_explore\n",
    "from prepare import prep_telco_data_model"
   ]
  },
  {
   "cell_type": "markdown",
   "metadata": {},
   "source": [
    "# Data Exploration"
   ]
  },
  {
   "cell_type": "markdown",
   "metadata": {},
   "source": [
    "### Estabolishing a Baseline"
   ]
  },
  {
   "cell_type": "code",
   "execution_count": 2,
   "metadata": {},
   "outputs": [],
   "source": [
    "df = get_telco_data(cached = True)"
   ]
  },
  {
   "cell_type": "code",
   "execution_count": 3,
   "metadata": {},
   "outputs": [
    {
     "data": {
      "text/plain": [
       "Yes    0.505476\n",
       "No     0.494524\n",
       "Name: churn, dtype: float64"
      ]
     },
     "execution_count": 3,
     "metadata": {},
     "output_type": "execute_result"
    }
   ],
   "source": [
    "# Churn is greater then 50 % for first 8 months of service\n",
    "df = get_telco_data(cached = True)\n",
    "month_one = df.tenure <= 8\n",
    "test = df[month_one]\n",
    "test.churn.value_counts(normalize = True)"
   ]
  },
  {
   "cell_type": "code",
   "execution_count": 4,
   "metadata": {},
   "outputs": [
    {
     "data": {
      "text/plain": [
       "No     0.73463\n",
       "Yes    0.26537\n",
       "Name: churn, dtype: float64"
      ]
     },
     "execution_count": 4,
     "metadata": {},
     "output_type": "execute_result"
    }
   ],
   "source": [
    "# Percent of Customers who Churned over 72 Months\n",
    "df.churn.value_counts(normalize = True)"
   ]
  },
  {
   "cell_type": "code",
   "execution_count": 5,
   "metadata": {},
   "outputs": [],
   "source": [
    "# Annual Churn per year (6 Years, aka.72 Months)"
   ]
  },
  {
   "cell_type": "code",
   "execution_count": 6,
   "metadata": {},
   "outputs": [
    {
     "data": {
      "text/plain": [
       "No     0.525618\n",
       "Yes    0.474382\n",
       "Name: churn, dtype: float64"
      ]
     },
     "execution_count": 6,
     "metadata": {},
     "output_type": "execute_result"
    }
   ],
   "source": [
    "# Year One\n",
    "df['tenure_years'] = round(df.tenure / 12, 2)\n",
    "year_one = df.tenure_years <= 1\n",
    "test = df[year_one]\n",
    "test.churn.value_counts(normalize = True)"
   ]
  },
  {
   "cell_type": "code",
   "execution_count": 7,
   "metadata": {},
   "outputs": [
    {
     "data": {
      "text/plain": [
       "No     0.857143\n",
       "Yes    0.142857\n",
       "Name: churn, dtype: float64"
      ]
     },
     "execution_count": 7,
     "metadata": {},
     "output_type": "execute_result"
    }
   ],
   "source": [
    "# Year two\n",
    "df['tenure_years'] = round(df.tenure / 12, 2)\n",
    "year_one = (df.tenure_years >= 2) & (df.tenure_years >=1)\n",
    "test = df[year_one]\n",
    "test.churn.value_counts(normalize = True)"
   ]
  },
  {
   "cell_type": "code",
   "execution_count": 8,
   "metadata": {},
   "outputs": [
    {
     "data": {
      "text/plain": [
       "No     0.879384\n",
       "Yes    0.120616\n",
       "Name: churn, dtype: float64"
      ]
     },
     "execution_count": 8,
     "metadata": {},
     "output_type": "execute_result"
    }
   ],
   "source": [
    "# Year three\n",
    "df['tenure_years'] = round(df.tenure / 12, 2)\n",
    "year_one = (df.tenure_years >= 3) & (df.tenure_years >=2)\n",
    "test = df[year_one]\n",
    "test.churn.value_counts(normalize = True)"
   ]
  },
  {
   "cell_type": "code",
   "execution_count": 9,
   "metadata": {},
   "outputs": [
    {
     "data": {
      "text/plain": [
       "No     0.903604\n",
       "Yes    0.096396\n",
       "Name: churn, dtype: float64"
      ]
     },
     "execution_count": 9,
     "metadata": {},
     "output_type": "execute_result"
    }
   ],
   "source": [
    "# Year four\n",
    "df['tenure_years'] = round(df.tenure / 12, 2)\n",
    "year_one = (df.tenure_years >= 4) & (df.tenure_years >=3)\n",
    "test = df[year_one]\n",
    "test.churn.value_counts(normalize = True)"
   ]
  },
  {
   "cell_type": "code",
   "execution_count": 10,
   "metadata": {},
   "outputs": [
    {
     "data": {
      "text/plain": [
       "No     0.933243\n",
       "Yes    0.066757\n",
       "Name: churn, dtype: float64"
      ]
     },
     "execution_count": 10,
     "metadata": {},
     "output_type": "execute_result"
    }
   ],
   "source": [
    "# Year Five\n",
    "df['tenure_years'] = round(df.tenure / 12, 2)\n",
    "year_one = (df.tenure_years >= 5) & (df.tenure_years >=4)\n",
    "test = df[year_one]\n",
    "test.churn.value_counts(normalize = True)"
   ]
  },
  {
   "cell_type": "code",
   "execution_count": 11,
   "metadata": {},
   "outputs": [
    {
     "data": {
      "text/plain": [
       "No     0.983425\n",
       "Yes    0.016575\n",
       "Name: churn, dtype: float64"
      ]
     },
     "execution_count": 11,
     "metadata": {},
     "output_type": "execute_result"
    }
   ],
   "source": [
    "# Year Six\n",
    "df['tenure_years'] = round(df.tenure / 12, 2)\n",
    "year_one = (df.tenure_years >= 6) & (df.tenure_years >=5)\n",
    "test = df[year_one]\n",
    "test.churn.value_counts(normalize = True)"
   ]
  },
  {
   "cell_type": "markdown",
   "metadata": {},
   "source": [
    "### Takeaways so far.... \n",
    "- Overall Churn Rate All Data (6 Years or 72 Months): 27%\n",
    "- Churn Rate for 1st 8 Months > 50%\n",
    "- Churn Rate for 1st Year: 47%, drops drastically after year one"
   ]
  },
  {
   "cell_type": "markdown",
   "metadata": {},
   "source": [
    "# Identifying Churn Drivers"
   ]
  },
  {
   "cell_type": "code",
   "execution_count": 12,
   "metadata": {},
   "outputs": [],
   "source": [
    "# Cleaned Data for Exploration\n",
    "df_explore= prep_telco_data_explore(get_telco_data(cached = True))"
   ]
  },
  {
   "cell_type": "code",
   "execution_count": 27,
   "metadata": {},
   "outputs": [
    {
     "data": {
      "text/plain": [
       "<matplotlib.axes._subplots.AxesSubplot at 0x7f90e9867040>"
      ]
     },
     "execution_count": 27,
     "metadata": {},
     "output_type": "execute_result"
    },
    {
     "data": {
      "image/png": "[encoded data removed]",
      "text/plain": [
       "<Figure size 792x648 with 2 Axes>"
      ]
     },
     "metadata": {
      "needs_background": "light"
     },
     "output_type": "display_data"
    }
   ],
   "source": [
    "# Identify features to explore (Part One)\n",
    "explore_heatmat = df_explore[['gender_cc', 'senior_citizen', 'partner', 'dependents', 'churn']]\n",
    "# Compute the correlation matrix (all train)\n",
    "corr = explore_heatmat.corr()\n",
    "\n",
    "# Generate a mask for the upper triangle\n",
    "mask = np.triu(np.ones_like(corr, dtype=bool))\n",
    "\n",
    "# Set up the matplotlib figure\n",
    "f, ax = plt.subplots(figsize=(11, 9))\n",
    "\n",
    "# Generate a custom diverging colormap\n",
    "cmap = sns.diverging_palette(230, 20, as_cmap=True)\n",
    "\n",
    "# Draw the heatmap with the mask and correct aspect ratio\n",
    "sns.heatmap(corr, mask=mask, annot = True, cmap=cmap, vmax=.3, center=0,\n",
    "            square=True, linewidths=.5, cbar_kws={\"shrink\": .5})"
   ]
  },
  {
   "cell_type": "markdown",
   "metadata": {},
   "source": [
    "### Takeaway so far...\n",
    "- gender = Not a churn driver\n",
    "- senior_citizen = 0.15 +\n",
    "- partner = 0.15 -\n",
    "- dependents = 0.16 -"
   ]
  },
  {
   "cell_type": "code",
   "execution_count": 28,
   "metadata": {},
   "outputs": [
    {
     "data": {
      "text/plain": [
       "<matplotlib.axes._subplots.AxesSubplot at 0x7f90e95f3910>"
      ]
     },
     "execution_count": 28,
     "metadata": {},
     "output_type": "execute_result"
    },
    {
     "data": {
      "image/png": "[encoded data removed]",
      "text/plain": [
       "<Figure size 792x648 with 2 Axes>"
      ]
     },
     "metadata": {
      "needs_background": "light"
     },
     "output_type": "display_data"
    }
   ],
   "source": [
    "# Identify features to explore (Part Two)\n",
    "explore_heatmat = df_explore[['tenure', 'phone_service', 'multiple_lines_cc', 'online_security_cc', 'churn']]\n",
    "# Compute the correlation matrix (all train)\n",
    "corr = explore_heatmat.corr()\n",
    "\n",
    "# Generate a mask for the upper triangle\n",
    "mask = np.triu(np.ones_like(corr, dtype=bool))\n",
    "\n",
    "# Set up the matplotlib figure\n",
    "f, ax = plt.subplots(figsize=(11, 9))\n",
    "\n",
    "# Generate a custom diverging colormap\n",
    "cmap = sns.diverging_palette(230, 20, as_cmap=True)\n",
    "\n",
    "# Draw the heatmap with the mask and correct aspect ratio\n",
    "sns.heatmap(corr, mask=mask, annot = True, cmap=cmap, vmax=.3, center=0,\n",
    "            square=True, linewidths=.5, cbar_kws={\"shrink\": .5})"
   ]
  },
  {
   "cell_type": "markdown",
   "metadata": {},
   "source": [
    "### Takeaway so far...\n",
    "- tenure = 0.35 -\n",
    "- phone_service = Not a churn driver\n",
    "- multiple lines = Not a churn driver\n",
    "- online_security = 0.29 -"
   ]
  },
  {
   "cell_type": "code",
   "execution_count": 29,
   "metadata": {},
   "outputs": [
    {
     "data": {
      "text/plain": [
       "<matplotlib.axes._subplots.AxesSubplot at 0x7f90e9ab1f10>"
      ]
     },
     "execution_count": 29,
     "metadata": {},
     "output_type": "execute_result"
    },
    {
     "data": {
      "image/png": "[encoded data removed]",
      "text/plain": [
       "<Figure size 792x648 with 2 Axes>"
      ]
     },
     "metadata": {
      "needs_background": "light"
     },
     "output_type": "display_data"
    }
   ],
   "source": [
    "# Identify features to explore (Part Three)\n",
    "explore_heatmat = df_explore[['online_backup_cc', 'device_protection_cc', 'tech_support_cc', 'streaming_tv_cc', 'churn']]\n",
    "# Compute the correlation matrix (all train)\n",
    "corr = explore_heatmat.corr()\n",
    "\n",
    "# Generate a mask for the upper triangle\n",
    "mask = np.triu(np.ones_like(corr, dtype=bool))\n",
    "\n",
    "# Set up the matplotlib figure\n",
    "f, ax = plt.subplots(figsize=(11, 9))\n",
    "\n",
    "# Generate a custom diverging colormap\n",
    "cmap = sns.diverging_palette(230, 20, as_cmap=True)\n",
    "\n",
    "# Draw the heatmap with the mask and correct aspect ratio\n",
    "sns.heatmap(corr, mask=mask, annot = True, cmap=cmap, vmax=.3, center=0,\n",
    "            square=True, linewidths=.5, cbar_kws={\"shrink\": .5})"
   ]
  },
  {
   "cell_type": "markdown",
   "metadata": {},
   "source": [
    "### Takeaway so far...\n",
    "- online_backup = 0.20 -\n",
    "- device_protection = .18 -\n",
    "- tech_support = .28 -\n",
    "- streaming_tv = Not a churn driver"
   ]
  },
  {
   "cell_type": "code",
   "execution_count": 30,
   "metadata": {},
   "outputs": [
    {
     "data": {
      "text/plain": [
       "<matplotlib.axes._subplots.AxesSubplot at 0x7f90e9c00820>"
      ]
     },
     "execution_count": 30,
     "metadata": {},
     "output_type": "execute_result"
    },
    {
     "data": {
      "image/png": "[encoded data removed]",
      "text/plain": [
       "<Figure size 792x648 with 2 Axes>"
      ]
     },
     "metadata": {
      "needs_background": "light"
     },
     "output_type": "display_data"
    }
   ],
   "source": [
    "# Identify features to explore (Part Four)\n",
    "explore_heatmat = df_explore[['streaming_movies_cc', 'month_to_month_contract', 'one_year_contract', 'two_year_contract', 'churn']]\n",
    "# Compute the correlation matrix (all train)\n",
    "corr = explore_heatmat.corr()\n",
    "\n",
    "# Generate a mask for the upper triangle\n",
    "mask = np.triu(np.ones_like(corr, dtype=bool))\n",
    "\n",
    "# Set up the matplotlib figure\n",
    "f, ax = plt.subplots(figsize=(11, 9))\n",
    "\n",
    "# Generate a custom diverging colormap\n",
    "cmap = sns.diverging_palette(230, 20, as_cmap=True)\n",
    "\n",
    "# Draw the heatmap with the mask and correct aspect ratio\n",
    "sns.heatmap(corr, mask=mask, annot = True, cmap=cmap, vmax=.3, center=0,\n",
    "            square=True, linewidths=.5, cbar_kws={\"shrink\": .5})"
   ]
  },
  {
   "cell_type": "markdown",
   "metadata": {},
   "source": [
    "### Takeaway so far...\n",
    "- streaming_movies = Not a churn driver\n",
    "- month_to_month_contract = 0.41 +\n",
    "- one_year_contract = 0.18 -\n",
    "- two_year_contract = 0.30 -"
   ]
  },
  {
   "cell_type": "code",
   "execution_count": 32,
   "metadata": {},
   "outputs": [
    {
     "data": {
      "text/plain": [
       "<matplotlib.axes._subplots.AxesSubplot at 0x7f90eab74eb0>"
      ]
     },
     "execution_count": 32,
     "metadata": {},
     "output_type": "execute_result"
    },
    {
     "data": {
      "image/png": "[encoded data removed]",
      "text/plain": [
       "<Figure size 792x648 with 2 Axes>"
      ]
     },
     "metadata": {
      "needs_background": "light"
     },
     "output_type": "display_data"
    }
   ],
   "source": [
    "# Identify features to explore (Part Five)\n",
    "explore_heatmat = df_explore[['internet_service', 'tenure_years', 'paperless_billing', 'monthly_charges', 'total_charges', 'churn']]\n",
    "# Compute the correlation matrix (all train)\n",
    "corr = explore_heatmat.corr()\n",
    "\n",
    "# Generate a mask for the upper triangle\n",
    "mask = np.triu(np.ones_like(corr, dtype=bool))\n",
    "\n",
    "# Set up the matplotlib figure\n",
    "f, ax = plt.subplots(figsize=(11, 9))\n",
    "\n",
    "# Generate a custom diverging colormap\n",
    "cmap = sns.diverging_palette(230, 20, as_cmap=True)\n",
    "\n",
    "# Draw the heatmap with the mask and correct aspect ratio\n",
    "sns.heatmap(corr, mask=mask, annot = True, cmap=cmap, vmax=.3, center=0,\n",
    "            square=True, linewidths=.5, cbar_kws={\"shrink\": .5})"
   ]
  },
  {
   "cell_type": "markdown",
   "metadata": {},
   "source": [
    "### Takeaway so far...\n",
    "- internet_service = 0.23 +\n",
    "- tenure_years = 0.35 -\n",
    "- paperless_billing = 0.19 +\n",
    "- monthly_charges = 0.19 +\n",
    "- total_charges = 0.20 -"
   ]
  },
  {
   "cell_type": "markdown",
   "metadata": {},
   "source": [
    "# Total Drivers of Churn (Correlations > .15)\n",
    "\n",
    "- senior_citizen = 0.15 +\n",
    "- partner = 0.15 -\n",
    "- dependents = 0.16 -\n",
    "- tenure = 0.35 -\n",
    "- online_security = 0.29 -\n",
    "- online_backup = 0.20 -\n",
    "- device_protection = .18 -\n",
    "- tech_support = .28 -\n",
    "- month_to_month_contract = .41 +\n",
    "- one_year_contract = .18 -\n",
    "- two_year_contract = 0.30 -\n",
    "- internet_service = 0.23 +\n",
    "- tenure_years = 0.35 -\n",
    "- paperless_billing = 0.19 +\n",
    "- monthly_charges = 0.19 +\n",
    "- total_charges = 0.20 -"
   ]
  },
  {
   "cell_type": "markdown",
   "metadata": {},
   "source": [
    "### Positive Drivers\n",
    "- senior_citizen = 0.15 +\n",
    "- month_to_month_contract = .41 +\n",
    "- internet_service = 0.23 +\n",
    "- paperless_billing = 0.19 +\n",
    "- monthly_charges = 0.19 +"
   ]
  },
  {
   "cell_type": "markdown",
   "metadata": {},
   "source": [
    "### Negative Drivers\n",
    "- partner = 0.15 -\n",
    "- dependents = 0.16 -\n",
    "- tenure = 0.35 -\n",
    "- online_security = 0.29 -\n",
    "- online_backup = 0.20 -\n",
    "- device_protection = .18 -\n",
    "- tech_support = .28 -\n",
    "- one_year_contract = .18 -\n",
    "- two_year_contract = 0.30 -\n",
    "- tenure_years = 0.35 -\n",
    "- total_charges = 0.20 -"
   ]
  },
  {
   "cell_type": "markdown",
   "metadata": {},
   "source": [
    "# Final Takeaways\n",
    "\n",
    "- Contract Type, Internet Service, and Tenure are the 3 Largest Drives Churn (+ and -)\n",
    "- Leads me to create two hypotheses that might help to keep customers from leaving telco:\n",
    "  - Hypothesis One: There is a difference in churn rate between internet service options, and will test this hypothesis with a Chi Squared Test.\n",
    "  - Hypothesis Two: Of those with internet service, customers who utilize tech_support are less likely to churn.  "
   ]
  },
  {
   "cell_type": "markdown",
   "metadata": {},
   "source": [
    "# Statistical Testing"
   ]
  },
  {
   "cell_type": "markdown",
   "metadata": {},
   "source": [
    "#### Hypothesis One: Churn is affected by internet service type"
   ]
  },
  {
   "cell_type": "markdown",
   "metadata": {},
   "source": [
    "$H_{0}$: Whether a person churns is independent of internet service type\n",
    "\n",
    "$H_{a}$: Whether a person churns is not independent of internet service type"
   ]
  },
  {
   "cell_type": "code",
   "execution_count": 34,
   "metadata": {},
   "outputs": [
    {
     "data": {
      "text/plain": [
       "0.05"
      ]
     },
     "execution_count": 34,
     "metadata": {},
     "output_type": "execute_result"
    }
   ],
   "source": [
    "confidence_level = .95\n",
    "alpha = round(1 - confidence_level,2)\n",
    "alpha"
   ]
  },
  {
   "cell_type": "code",
   "execution_count": 41,
   "metadata": {},
   "outputs": [],
   "source": [
    "#Sort service type and eliminate none before crosstab\n",
    "dsl_fiber = df_explore.internet_service_type != 'None'\n",
    "df_dsl_fiber = df_explore[dsl_fiber]"
   ]
  },
  {
   "cell_type": "code",
   "execution_count": 42,
   "metadata": {},
   "outputs": [
    {
     "data": {
      "text/html": [
       "<div>\n",
       "<style scoped>\n",
       "    .dataframe tbody tr th:only-of-type {\n",
       "        vertical-align: middle;\n",
       "    }\n",
       "\n",
       "    .dataframe tbody tr th {\n",
       "        vertical-align: top;\n",
       "    }\n",
       "\n",
       "    .dataframe thead th {\n",
       "        text-align: right;\n",
       "    }\n",
       "</style>\n",
       "<table border=\"1\" class=\"dataframe\">\n",
       "  <thead>\n",
       "    <tr style=\"text-align: right;\">\n",
       "      <th>internet_service_type</th>\n",
       "      <th>DSL</th>\n",
       "      <th>Fiber optic</th>\n",
       "    </tr>\n",
       "    <tr>\n",
       "      <th>churn</th>\n",
       "      <th></th>\n",
       "      <th></th>\n",
       "    </tr>\n",
       "  </thead>\n",
       "  <tbody>\n",
       "    <tr>\n",
       "      <th>0</th>\n",
       "      <td>1962</td>\n",
       "      <td>1799</td>\n",
       "    </tr>\n",
       "    <tr>\n",
       "      <th>1</th>\n",
       "      <td>459</td>\n",
       "      <td>1297</td>\n",
       "    </tr>\n",
       "  </tbody>\n",
       "</table>\n",
       "</div>"
      ],
      "text/plain": [
       "internet_service_type   DSL  Fiber optic\n",
       "churn                                   \n",
       "0                      1962         1799\n",
       "1                       459         1297"
      ]
     },
     "execution_count": 42,
     "metadata": {},
     "output_type": "execute_result"
    }
   ],
   "source": [
    "ctab = pd.crosstab(df_dsl_fiber.churn, df_dsl_fiber.internet_service_type)\n",
    "ctab"
   ]
  },
  {
   "cell_type": "code",
   "execution_count": 45,
   "metadata": {},
   "outputs": [
    {
     "name": "stdout",
     "output_type": "stream",
     "text": [
      "Our p-value is 2.2962170975696955e-73.\n",
      "Our p-value is less than our alpha: True\n"
     ]
    }
   ],
   "source": [
    "# Statistical Test\n",
    "Chi2, p, degf, expected = stats.chi2_contingency(ctab)\n",
    "print(f'Our p-value is {p}.')\n",
    "print(f'Our p-value is less than our alpha: {p < alpha}')"
   ]
  },
  {
   "cell_type": "markdown",
   "metadata": {},
   "source": [
    "#### Findings:\n",
    "P-value is less than alpha so we reject the null hypothesis, ie. Our 𝑥2 test informs us that the two categories, churn and internet service, are not independent."
   ]
  },
  {
   "cell_type": "code",
   "execution_count": null,
   "metadata": {},
   "outputs": [],
   "source": []
  },
  {
   "cell_type": "code",
   "execution_count": null,
   "metadata": {},
   "outputs": [],
   "source": []
  },
  {
   "cell_type": "code",
   "execution_count": 23,
   "metadata": {},
   "outputs": [
    {
     "data": {
      "text/plain": [
       "Index(['gender', 'senior_citizen', 'partner', 'dependents', 'tenure',\n",
       "       'phone_service', 'multiple_lines', 'online_security', 'online_backup',\n",
       "       'device_protection', 'tech_support', 'streaming_tv', 'streaming_movies',\n",
       "       'paperless_billing', 'monthly_charges', 'total_charges', 'churn',\n",
       "       'contract_type', 'internet_service_type', 'payment_type', 'gender_cc',\n",
       "       'multiple_lines_cc', 'online_security_cc', 'online_backup_cc',\n",
       "       'device_protection_cc', 'tech_support_cc', 'streaming_tv_cc',\n",
       "       'streaming_movies_cc', 'month_to_month_contract', 'one_year_contract',\n",
       "       'two_year_contract', 'internet_service', 'tenure_years'],\n",
       "      dtype='object')"
      ]
     },
     "execution_count": 23,
     "metadata": {},
     "output_type": "execute_result"
    }
   ],
   "source": [
    "df_explore.columns"
   ]
  },
  {
   "cell_type": "code",
   "execution_count": 38,
   "metadata": {},
   "outputs": [
    {
     "data": {
      "text/plain": [
       "0        DSL\n",
       "1        DSL\n",
       "2        DSL\n",
       "3        DSL\n",
       "4        DSL\n",
       "        ... \n",
       "7038    None\n",
       "7039    None\n",
       "7040    None\n",
       "7041    None\n",
       "7042    None\n",
       "Name: internet_service_type, Length: 7043, dtype: object"
      ]
     },
     "execution_count": 38,
     "metadata": {},
     "output_type": "execute_result"
    }
   ],
   "source": [
    "df_explore.internet_service_type"
   ]
  },
  {
   "cell_type": "code",
   "execution_count": null,
   "metadata": {},
   "outputs": [],
   "source": []
  },
  {
   "cell_type": "code",
   "execution_count": null,
   "metadata": {},
   "outputs": [],
   "source": []
  }
 ],
 "metadata": {
  "kernelspec": {
   "display_name": "Python 3",
   "language": "python",
   "name": "python3"
  },
  "language_info": {
   "codemirror_mode": {
    "name": "ipython",
    "version": 3
   },
   "file_extension": ".py",
   "mimetype": "text/x-python",
   "name": "python",
   "nbconvert_exporter": "python",
   "pygments_lexer": "ipython3",
   "version": "3.8.3"
  }
 },
 "nbformat": 4,
 "nbformat_minor": 4
}
