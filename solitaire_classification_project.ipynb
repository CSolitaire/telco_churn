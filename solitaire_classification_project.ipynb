{
 "cells": [
  {
   "cell_type": "markdown",
   "metadata": {},
   "source": [
    "### Import Python Methods"
   ]
  },
  {
   "cell_type": "code",
   "execution_count": 1,
   "metadata": {},
   "outputs": [],
   "source": [
    "import numpy as np\n",
    "import pandas as pd\n",
    "import seaborn as sns\n",
    "import matplotlib.pyplot as plt\n",
    "\n",
    "from sklearn.model_selection import train_test_split\n",
    "from sklearn.linear_model import LogisticRegression\n",
    "from sklearn.ensemble import RandomForestClassifier\n",
    "from sklearn.neighbors import KNeighborsClassifier\n",
    "from sklearn.metrics import classification_report,confusion_matrix,accuracy_score,recall_score,precision_score\n",
    "\n",
    "import warnings\n",
    "warnings.filterwarnings(\"ignore\")\n",
    "\n",
    "from acquire import get_telco_data\n",
    "from prepare import prep_telco_data_explore\n",
    "from prepare import prep_telco_data_model"
   ]
  },
  {
   "cell_type": "markdown",
   "metadata": {},
   "source": [
    "### Estabolishing a Baseline"
   ]
  },
  {
   "cell_type": "code",
   "execution_count": 2,
   "metadata": {},
   "outputs": [],
   "source": [
    "df = get_telco_data(cached = True)"
   ]
  },
  {
   "cell_type": "code",
   "execution_count": 3,
   "metadata": {},
   "outputs": [
    {
     "data": {
      "text/plain": [
       "Yes    0.505476\n",
       "No     0.494524\n",
       "Name: churn, dtype: float64"
      ]
     },
     "execution_count": 3,
     "metadata": {},
     "output_type": "execute_result"
    }
   ],
   "source": [
    "# Churn is greater then 50 % for first 8 months of service\n",
    "df = get_telco_data(cached = True)\n",
    "month_one = df.tenure <= 8\n",
    "test = df[month_one]\n",
    "test.churn.value_counts(normalize = True)"
   ]
  },
  {
   "cell_type": "code",
   "execution_count": 4,
   "metadata": {},
   "outputs": [
    {
     "data": {
      "text/plain": [
       "No     0.73463\n",
       "Yes    0.26537\n",
       "Name: churn, dtype: float64"
      ]
     },
     "execution_count": 4,
     "metadata": {},
     "output_type": "execute_result"
    }
   ],
   "source": [
    "# Percent of Customers who Churned over 72 Months\n",
    "df.churn.value_counts(normalize = True)"
   ]
  },
  {
   "cell_type": "code",
   "execution_count": 5,
   "metadata": {},
   "outputs": [],
   "source": [
    "# Annual Churn per year (6 Years, aka.72 Months)"
   ]
  },
  {
   "cell_type": "code",
   "execution_count": 6,
   "metadata": {},
   "outputs": [
    {
     "data": {
      "text/plain": [
       "No     0.525618\n",
       "Yes    0.474382\n",
       "Name: churn, dtype: float64"
      ]
     },
     "execution_count": 6,
     "metadata": {},
     "output_type": "execute_result"
    }
   ],
   "source": [
    "# Year One\n",
    "df['tenure_years'] = round(df.tenure / 12, 2)\n",
    "year_one = df.tenure_years <= 1\n",
    "test = df[year_one]\n",
    "test.churn.value_counts(normalize = True)"
   ]
  },
  {
   "cell_type": "code",
   "execution_count": 7,
   "metadata": {},
   "outputs": [
    {
     "data": {
      "text/plain": [
       "No     0.857143\n",
       "Yes    0.142857\n",
       "Name: churn, dtype: float64"
      ]
     },
     "execution_count": 7,
     "metadata": {},
     "output_type": "execute_result"
    }
   ],
   "source": [
    "# Year two\n",
    "df['tenure_years'] = round(df.tenure / 12, 2)\n",
    "year_one = (df.tenure_years >= 2) & (df.tenure_years >=1)\n",
    "test = df[year_one]\n",
    "test.churn.value_counts(normalize = True)"
   ]
  },
  {
   "cell_type": "code",
   "execution_count": 8,
   "metadata": {},
   "outputs": [
    {
     "data": {
      "text/plain": [
       "No     0.879384\n",
       "Yes    0.120616\n",
       "Name: churn, dtype: float64"
      ]
     },
     "execution_count": 8,
     "metadata": {},
     "output_type": "execute_result"
    }
   ],
   "source": [
    "# Year three\n",
    "df['tenure_years'] = round(df.tenure / 12, 2)\n",
    "year_one = (df.tenure_years >= 3) & (df.tenure_years >=2)\n",
    "test = df[year_one]\n",
    "test.churn.value_counts(normalize = True)"
   ]
  },
  {
   "cell_type": "code",
   "execution_count": 9,
   "metadata": {},
   "outputs": [
    {
     "data": {
      "text/plain": [
       "No     0.903604\n",
       "Yes    0.096396\n",
       "Name: churn, dtype: float64"
      ]
     },
     "execution_count": 9,
     "metadata": {},
     "output_type": "execute_result"
    }
   ],
   "source": [
    "# Year four\n",
    "df['tenure_years'] = round(df.tenure / 12, 2)\n",
    "year_one = (df.tenure_years >= 4) & (df.tenure_years >=3)\n",
    "test = df[year_one]\n",
    "test.churn.value_counts(normalize = True)"
   ]
  },
  {
   "cell_type": "code",
   "execution_count": 10,
   "metadata": {},
   "outputs": [
    {
     "data": {
      "text/plain": [
       "No     0.933243\n",
       "Yes    0.066757\n",
       "Name: churn, dtype: float64"
      ]
     },
     "execution_count": 10,
     "metadata": {},
     "output_type": "execute_result"
    }
   ],
   "source": [
    "# Year Five\n",
    "df['tenure_years'] = round(df.tenure / 12, 2)\n",
    "year_one = (df.tenure_years >= 5) & (df.tenure_years >=4)\n",
    "test = df[year_one]\n",
    "test.churn.value_counts(normalize = True)"
   ]
  },
  {
   "cell_type": "code",
   "execution_count": 11,
   "metadata": {},
   "outputs": [
    {
     "data": {
      "text/plain": [
       "No     0.983425\n",
       "Yes    0.016575\n",
       "Name: churn, dtype: float64"
      ]
     },
     "execution_count": 11,
     "metadata": {},
     "output_type": "execute_result"
    }
   ],
   "source": [
    "# Year Six\n",
    "df['tenure_years'] = round(df.tenure / 12, 2)\n",
    "year_one = (df.tenure_years >= 6) & (df.tenure_years >=5)\n",
    "test = df[year_one]\n",
    "test.churn.value_counts(normalize = True)"
   ]
  },
  {
   "cell_type": "markdown",
   "metadata": {},
   "source": [
    "### Takeaways so far.... __________________________________________________________________________________________________________\n",
    "- Overall Churn Rate All Data (6 Years or 72 Months): 27%\n",
    "- Churn Rate for 1st 8 Months > 50%\n",
    "- Churn Rate for 1st Year: 47%, drops drastically after year one"
   ]
  },
  {
   "cell_type": "code",
   "execution_count": 12,
   "metadata": {},
   "outputs": [],
   "source": [
    "# Cleaned Data for Exploration\n",
    "df_explore= prep_telco_data_explore(get_telco_data(cached = True))"
   ]
  },
  {
   "cell_type": "code",
   "execution_count": 18,
   "metadata": {},
   "outputs": [
    {
     "data": {
      "text/plain": [
       "0    3473\n",
       "2    2044\n",
       "1    1526\n",
       "Name: tech_support_cc, dtype: int64"
      ]
     },
     "execution_count": 18,
     "metadata": {},
     "output_type": "execute_result"
    }
   ],
   "source": [
    "df_explore.tech_support_cc.value_counts()"
   ]
  },
  {
   "cell_type": "code",
   "execution_count": 21,
   "metadata": {},
   "outputs": [
    {
     "name": "stdout",
     "output_type": "stream",
     "text": [
      "<class 'pandas.core.frame.DataFrame'>\n",
      "RangeIndex: 7043 entries, 0 to 7042\n",
      "Data columns (total 33 columns):\n",
      " #   Column                   Non-Null Count  Dtype  \n",
      "---  ------                   --------------  -----  \n",
      " 0   gender                   7043 non-null   object \n",
      " 1   senior_citizen           7043 non-null   int64  \n",
      " 2   partner                  7043 non-null   int64  \n",
      " 3   dependents               7043 non-null   int64  \n",
      " 4   tenure                   7043 non-null   int64  \n",
      " 5   phone_service            7043 non-null   int64  \n",
      " 6   multiple_lines           7043 non-null   object \n",
      " 7   online_security          7043 non-null   object \n",
      " 8   online_backup            7043 non-null   object \n",
      " 9   device_protection        7043 non-null   object \n",
      " 10  tech_support             7043 non-null   object \n",
      " 11  streaming_tv             7043 non-null   object \n",
      " 12  streaming_movies         7043 non-null   object \n",
      " 13  paperless_billing        7043 non-null   int64  \n",
      " 14  monthly_charges          7043 non-null   float64\n",
      " 15  total_charges            7032 non-null   float64\n",
      " 16  churn                    7043 non-null   int64  \n",
      " 17  contract_type            7043 non-null   object \n",
      " 18  internet_service_type    7043 non-null   object \n",
      " 19  payment_type             7043 non-null   object \n",
      " 20  gender_cc                7043 non-null   int8   \n",
      " 21  multiple_lines_cc        7043 non-null   int8   \n",
      " 22  online_security_cc       7043 non-null   int8   \n",
      " 23  online_backup_cc         7043 non-null   int8   \n",
      " 24  device_protection_cc     7043 non-null   int8   \n",
      " 25  tech_support_cc          7043 non-null   int8   \n",
      " 26  streaming_tv_cc          7043 non-null   int8   \n",
      " 27  streaming_movies_cc      7043 non-null   int8   \n",
      " 28  month_to_month_contract  7043 non-null   int64  \n",
      " 29  one_year_contract        7043 non-null   int64  \n",
      " 30  two_year_contract        7043 non-null   int64  \n",
      " 31  internet_service         7043 non-null   int64  \n",
      " 32  tenure_years             7043 non-null   float64\n",
      "dtypes: float64(3), int64(11), int8(8), object(11)\n",
      "memory usage: 1.4+ MB\n"
     ]
    }
   ],
   "source": [
    "df_explore.info()"
   ]
  },
  {
   "cell_type": "code",
   "execution_count": null,
   "metadata": {},
   "outputs": [],
   "source": []
  },
  {
   "cell_type": "code",
   "execution_count": null,
   "metadata": {},
   "outputs": [],
   "source": []
  },
  {
   "cell_type": "code",
   "execution_count": null,
   "metadata": {},
   "outputs": [],
   "source": []
  }
 ],
 "metadata": {
  "kernelspec": {
   "display_name": "Python 3",
   "language": "python",
   "name": "python3"
  },
  "language_info": {
   "codemirror_mode": {
    "name": "ipython",
    "version": 3
   },
   "file_extension": ".py",
   "mimetype": "text/x-python",
   "name": "python",
   "nbconvert_exporter": "python",
   "pygments_lexer": "ipython3",
   "version": "3.8.3"
  }
 },
 "nbformat": 4,
 "nbformat_minor": 4
}
