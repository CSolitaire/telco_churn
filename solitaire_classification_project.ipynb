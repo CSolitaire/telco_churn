{
 "cells": [
  {
   "cell_type": "code",
   "execution_count": 1,
   "metadata": {},
   "outputs": [],
   "source": [
    "import numpy as np\n",
    "import pandas as pd\n",
    "import seaborn as sns\n",
    "import matplotlib.pyplot as plt\n",
    "\n",
    "from sklearn.model_selection import train_test_split\n",
    "from sklearn.linear_model import LogisticRegression\n",
    "from sklearn.ensemble import RandomForestClassifier\n",
    "from sklearn.neighbors import KNeighborsClassifier\n",
    "from sklearn.metrics import classification_report,confusion_matrix,accuracy_score,recall_score,precision_score\n",
    "\n",
    "import warnings\n",
    "warnings.filterwarnings(\"ignore\")\n",
    "\n",
    "from acquire import get_telco_data\n",
    "from prepare import prep_telco_data"
   ]
  },
  {
   "cell_type": "code",
   "execution_count": null,
   "metadata": {},
   "outputs": [],
   "source": [
    "\n"
   ]
  },
  {
   "cell_type": "code",
   "execution_count": null,
   "metadata": {},
   "outputs": [],
   "source": []
  },
  {
   "cell_type": "code",
   "execution_count": 2,
   "metadata": {},
   "outputs": [],
   "source": [
    "# Cleaned Data for Exploration\n",
    "train, validate, test = prep_telco_data(get_telco_data(cached = True))"
   ]
  },
  {
   "cell_type": "code",
   "execution_count": 6,
   "metadata": {},
   "outputs": [
    {
     "data": {
      "text/plain": [
       "Index(['gender', 'senior_citizen', 'partner', 'dependents', 'tenure',\n",
       "       'phone_service', 'multiple_lines', 'online_security', 'online_backup',\n",
       "       'device_protection', 'tech_support', 'streaming_tv', 'streaming_movies',\n",
       "       'paperless_billing', 'monthly_charges', 'total_charges', 'churn',\n",
       "       'contract_type', 'internet_service_type', 'payment_type', 'gender_cc',\n",
       "       'multiple_lines_cc', 'online_security_cc', 'online_backup_cc',\n",
       "       'device_protection_cc', 'tech_support_cc', 'streaming_tv_cc',\n",
       "       'streaming_movies_cc', 'month_to_month_contract', 'one_year_contract',\n",
       "       'two_year_contract', 'internet_service'],\n",
       "      dtype='object')"
      ]
     },
     "execution_count": 6,
     "metadata": {},
     "output_type": "execute_result"
    }
   ],
   "source": [
    "train.columns"
   ]
  },
  {
   "cell_type": "code",
   "execution_count": 18,
   "metadata": {},
   "outputs": [
    {
     "name": "stdout",
     "output_type": "stream",
     "text": [
      "<class 'pandas.core.frame.DataFrame'>\n",
      "Int64Index: 3943 entries, 5670 to 6867\n",
      "Data columns (total 32 columns):\n",
      " #   Column                   Non-Null Count  Dtype  \n",
      "---  ------                   --------------  -----  \n",
      " 0   gender                   3943 non-null   object \n",
      " 1   senior_citizen           3943 non-null   int64  \n",
      " 2   partner                  3943 non-null   int64  \n",
      " 3   dependents               3943 non-null   int64  \n",
      " 4   tenure                   3943 non-null   float64\n",
      " 5   phone_service            3943 non-null   int64  \n",
      " 6   multiple_lines           3943 non-null   object \n",
      " 7   online_security          3943 non-null   object \n",
      " 8   online_backup            3943 non-null   object \n",
      " 9   device_protection        3943 non-null   object \n",
      " 10  tech_support             3943 non-null   object \n",
      " 11  streaming_tv             3943 non-null   object \n",
      " 12  streaming_movies         3943 non-null   object \n",
      " 13  paperless_billing        3943 non-null   int64  \n",
      " 14  monthly_charges          3943 non-null   float64\n",
      " 15  total_charges            3935 non-null   float64\n",
      " 16  churn                    3943 non-null   int64  \n",
      " 17  contract_type            3943 non-null   object \n",
      " 18  internet_service_type    3943 non-null   object \n",
      " 19  payment_type             3943 non-null   object \n",
      " 20  gender_cc                3943 non-null   int8   \n",
      " 21  multiple_lines_cc        3943 non-null   int8   \n",
      " 22  online_security_cc       3943 non-null   int8   \n",
      " 23  online_backup_cc         3943 non-null   int8   \n",
      " 24  device_protection_cc     3943 non-null   int8   \n",
      " 25  tech_support_cc          3943 non-null   int8   \n",
      " 26  streaming_tv_cc          3943 non-null   int8   \n",
      " 27  streaming_movies_cc      3943 non-null   int8   \n",
      " 28  month_to_month_contract  3943 non-null   int64  \n",
      " 29  one_year_contract        3943 non-null   int64  \n",
      " 30  two_year_contract        3943 non-null   int64  \n",
      " 31  internet_service         3943 non-null   int64  \n",
      "dtypes: float64(3), int64(10), int8(8), object(11)\n",
      "memory usage: 800.9+ KB\n"
     ]
    }
   ],
   "source": [
    "train.info()"
   ]
  },
  {
   "cell_type": "code",
   "execution_count": null,
   "metadata": {},
   "outputs": [],
   "source": []
  },
  {
   "cell_type": "code",
   "execution_count": null,
   "metadata": {},
   "outputs": [],
   "source": []
  }
 ],
 "metadata": {
  "kernelspec": {
   "display_name": "Python 3",
   "language": "python",
   "name": "python3"
  },
  "language_info": {
   "codemirror_mode": {
    "name": "ipython",
    "version": 3
   },
   "file_extension": ".py",
   "mimetype": "text/x-python",
   "name": "python",
   "nbconvert_exporter": "python",
   "pygments_lexer": "ipython3",
   "version": "3.8.3"
  }
 },
 "nbformat": 4,
 "nbformat_minor": 4
}
