{
 "cells": [
  {
   "cell_type": "markdown",
   "metadata": {},
   "source": [
    "# Telco Churn Presentation\n",
    "### Corey Solitaire\n",
    "#### 09.23.2020"
   ]
  },
  {
   "cell_type": "markdown",
   "metadata": {},
   "source": [
    "<div class=\"alert alert-block alert-warning\"></div>"
   ]
  },
  {
   "cell_type": "markdown",
   "metadata": {},
   "source": [
    "# Planning\n",
    "\n",
    "- **The goal:** of this stage is to clearly define your goal(s), measures of success, and plans on how to achieve that.\n",
    "\n",
    "- **The deliverable:** is documentation of your goal, your measure of success, and how you plan on getting there. If you haven't clearly defined success, you will not know when you have achieved it."
   ]
  },
  {
   "cell_type": "markdown",
   "metadata": {},
   "source": [
    "<div class=\"alert alert-block alert-warning\"></div>"
   ]
  },
  {
   "cell_type": "markdown",
   "metadata": {},
   "source": [
    "## Goals:\n",
    "\n",
    "1. Verify the primary factors that drive churn with statistical testing \n",
    "\n",
    "\n",
    "2. Incorporate factors in to a churn prediction model\n",
    "\n",
    "\n",
    "3. Provide recommendations for churn reduction\n",
    "\n",
    "\n",
    "4. Produce CSV with customer ID and model prediction"
   ]
  },
  {
   "cell_type": "markdown",
   "metadata": {},
   "source": [
    "## Background:\n",
    "\n",
    "From http://www.dbmarketing.com/telecom/churnreduction.html, by Authur Hughes\n",
    "\n",
    "- As of 9/20/2020 annual churn rates for telecommunications companies average between 10 and 67 percent.\n",
    "\n",
    "\n",
    "- Roughly 75 percent of the subscribers signing up with a new carrier every year are coming from another wireless provider and hence are already churners.\n",
    "\n",
    "\n",
    "- Industry retention surveys have shown that while price and product are important, most people leave any service because of dissatisfaction with the way they are treated.\n"
   ]
  },
  {
   "cell_type": "markdown",
   "metadata": {},
   "source": [
    "## Outline:\n",
    "\n",
    "### **acquire.py**\n",
    " \n",
    " - **get**_telco_data()\n",
    "   - Acquire data from MySQL telco_churn database hosted by codeup.com\n",
    "\n",
    "### **prepare.py**\n",
    "\n",
    "- prep_telco_data_**explore** (Prepared data used for exploration)\n",
    "   - Columns dropped, columns added, columns expanded, column formatts modified\n",
    "   \n",
    "   \n",
    " - prep_telco_data_**model** (Split and scaled data used for modeling)\n",
    "   - Same data but scaled for modeling\n",
    "\n",
    "### **Explore**\n",
    "\n",
    "- Summerize Data / Plot distributions\n",
    "\n",
    "\n",
    "- Hypothesis testing and evaluation\n",
    "\n",
    "### **Model**\n",
    "\n",
    "- Develop models: logistic regression, decision tree, random forest, knn and test features\n",
    "\n",
    "\n",
    "- Train, evaluate, test\n",
    "\n",
    "\n",
    "### **Conclusion**\n",
    "\n",
    "- Summary\n",
    "\n",
    "\n",
    "- Recomendation(s)\n",
    "\n",
    "### **Next Steps**\n",
    "\n",
    "- What went right and wrong\n",
    "\n",
    "\n",
    "- What would you do differently next time\n",
    "\n",
    "\n",
    "- New questions to ask"
   ]
  },
  {
   "cell_type": "markdown",
   "metadata": {},
   "source": [
    "## Data Dictionary:"
   ]
  },
  {
   "cell_type": "markdown",
   "metadata": {},
   "source": [
    "- **Churn Rate (Churn):** The churn rate, also known as the rate of attrition or customer churn, is the rate at which customers stop doing business with an entity.\n",
    "\n",
    "- **Heatmap:** A representation of data in the form of a map or diagram in which correlation values are represented as colors.\n",
    "\n",
    "- **Correlation:** The interdependence of variable quantities.\n",
    "\n",
    "- **Hypothesis Testing:** An act in statistics whereby an analyst tests an assumption regarding a population parameter.\n",
    "\n",
    "- **Null Hypothesis:** A type of hypothesis used in statistics that proposes that there is no difference between certain characteristics of a population.\n",
    "\n",
    "- **Alternative Hypothesis:** A type of hypothesis used in hypothesis testing that is contrary to the null hypothesis.\n",
    "\n",
    "- **DSL:** \"Digital Subscriber Line\" DSL is a communications medium used to transfer digital signals over standard telephone lines.\n",
    "\n",
    "- **Fiber:** Fiber optic cable is a high-speed data transmission medium. It contains tiny glass or plastic filaments that carry light beams. \n",
    "\n",
    "- **Chi Squared Test for Independence:** A statical test that ompares two variables in a contingency table to see if they are related.\n",
    "\n",
    "- **P-value:** A p value is used in hypothesis testing to help you support or reject the null hypothesis. The p value is the evidence against a null hypothesis. The smaller the p-value, the stronger the evidence that you should reject the null hypothesis.\n",
    "\n",
    "- **Model Fitting (fit):** A process that involves running an algorithm on data for which the target variable (“labeled” data) is known to produce a machine learning model.\n",
    "\n",
    "- **Algorithm:** A process or set of rules to be followed in calculations or other problem-solving operations, especially by a computer.   \n",
    "\n",
    "- **Machine Learning Model:** A machine learning model is a file that has been trained (using an algorithm) to recognize certain types of patterns.\n",
    "\n",
    "- **Logistic Regression Algorithm:** A classification algorithm, used when the value of the target variable is categorical in nature.\n",
    "\n",
    "- **Decision Tree Algorithm:** A tree-structured classification algorithm, where internal nodes represent the features of a dataset, branches represent the decision rules and each leaf node represents the outcome.\n",
    "\n",
    "- **Random Forrest Algorithm:** A classification algorithm consisting of many decisions trees. It uses bagging and feature randomness when building each individual tree to try to create an uncorrelated forest of trees whose prediction by committee is more accurate than that of any individual tree.\n",
    "\n",
    "- **KNN Algorithm:** A simple, supervised machine learning algorithm that can be used to solve both classification and regression problems.\n",
    "\n",
    "- **Classification Report:** Used to measure the quality of predictions from a classification algorithm. The report shows the main classification metrics precision, recall and f1-score on a per-class basis.\n",
    "\n",
    "- **Confusion Matrix:** A table that is often used to describe the performance of a classification model (or \"classifier\") on a set of test data for which the true values are known.\n",
    "\n",
    "- **Accuracy:** The ratio of number of correct predictions to the total number of input samples.\n",
    "\n",
    "- **Precision:** The number of correct positive results divided by the number of positive results predicted by the classifier.\n",
    "\n",
    "- **Recall:** The number of correct positive results divided by the number of all relevant samples (all samples that should have been identified as positive).\n",
    "\n",
    "- **f1-score:** The harmonic mean between precision and recall.\n",
    "\n",
    "- **CSV:** A CSV (comma-separated values) file is a text file that has a specific format which allows data to be saved in a table structured format."
   ]
  },
  {
   "cell_type": "markdown",
   "metadata": {},
   "source": [
    "## Initial Hypothesis:\n",
    "\n",
    "### 1. Customers with internet service are more likely to churn \n",
    "\n",
    "### 2. Customers with internet service and tech support are less likely to churn"
   ]
  },
  {
   "cell_type": "markdown",
   "metadata": {},
   "source": [
    "<div class=\"alert alert-block alert-warning\"></div>"
   ]
  },
  {
   "cell_type": "markdown",
   "metadata": {},
   "source": [
    "# Data Acqusition: What does the telco_churn data look like?\n",
    "\n",
    " - **The goal:** is to create a path from original data sources to the environment in which you will work with the data. You will gather data from sources in order to prepare and clean it in the next step.\n",
    "\n",
    "- **The deliverable:** is a file, acquire.py, that contains the function(s) needed to reproduce the acquisition of data."
   ]
  },
  {
   "cell_type": "markdown",
   "metadata": {},
   "source": [
    "<div class=\"alert alert-block alert-warning\"></div>"
   ]
  },
  {
   "cell_type": "code",
   "execution_count": 1,
   "metadata": {},
   "outputs": [],
   "source": [
    "import numpy as np\n",
    "import pandas as pd\n",
    "import seaborn as sns\n",
    "import matplotlib.pyplot as plt\n",
    "from math import sqrt\n",
    "from scipy import stats\n",
    "\n",
    "from sklearn.model_selection import train_test_split\n",
    "from sklearn.tree import DecisionTreeClassifier\n",
    "from sklearn.linear_model import LogisticRegression\n",
    "from sklearn.ensemble import RandomForestClassifier\n",
    "from sklearn.neighbors import KNeighborsClassifier\n",
    "from sklearn.metrics import classification_report,confusion_matrix,accuracy_score,recall_score,precision_score\n",
    "\n",
    "import warnings\n",
    "warnings.filterwarnings(\"ignore\")\n",
    "\n",
    "from acquire import get_telco_data\n",
    "from prepare import prep_telco_data_explore\n",
    "from prepare import prep_telco_data_model"
   ]
  },
  {
   "cell_type": "code",
   "execution_count": 2,
   "metadata": {},
   "outputs": [],
   "source": [
    "df = get_telco_data(cached = True)"
   ]
  },
  {
   "cell_type": "code",
   "execution_count": 3,
   "metadata": {},
   "outputs": [
    {
     "data": {
      "text/html": [
       "<div>\n",
       "<style scoped>\n",
       "    .dataframe tbody tr th:only-of-type {\n",
       "        vertical-align: middle;\n",
       "    }\n",
       "\n",
       "    .dataframe tbody tr th {\n",
       "        vertical-align: top;\n",
       "    }\n",
       "\n",
       "    .dataframe thead th {\n",
       "        text-align: right;\n",
       "    }\n",
       "</style>\n",
       "<table border=\"1\" class=\"dataframe\">\n",
       "  <thead>\n",
       "    <tr style=\"text-align: right;\">\n",
       "      <th></th>\n",
       "      <th>customer_id</th>\n",
       "      <th>gender</th>\n",
       "      <th>senior_citizen</th>\n",
       "      <th>partner</th>\n",
       "      <th>dependents</th>\n",
       "      <th>tenure</th>\n",
       "      <th>phone_service</th>\n",
       "      <th>multiple_lines</th>\n",
       "      <th>internet_service_type_id</th>\n",
       "      <th>online_security</th>\n",
       "      <th>...</th>\n",
       "      <th>payment_type_id</th>\n",
       "      <th>monthly_charges</th>\n",
       "      <th>total_charges</th>\n",
       "      <th>churn</th>\n",
       "      <th>contract_type_id</th>\n",
       "      <th>contract_type</th>\n",
       "      <th>internet_service_type_id</th>\n",
       "      <th>internet_service_type</th>\n",
       "      <th>payment_type_id</th>\n",
       "      <th>payment_type</th>\n",
       "    </tr>\n",
       "  </thead>\n",
       "  <tbody>\n",
       "    <tr>\n",
       "      <th>0</th>\n",
       "      <td>0003-MKNFE</td>\n",
       "      <td>Male</td>\n",
       "      <td>0</td>\n",
       "      <td>No</td>\n",
       "      <td>No</td>\n",
       "      <td>9</td>\n",
       "      <td>Yes</td>\n",
       "      <td>Yes</td>\n",
       "      <td>1</td>\n",
       "      <td>No</td>\n",
       "      <td>...</td>\n",
       "      <td>2</td>\n",
       "      <td>59.9</td>\n",
       "      <td>542.4</td>\n",
       "      <td>No</td>\n",
       "      <td>1</td>\n",
       "      <td>Month-to-month</td>\n",
       "      <td>1</td>\n",
       "      <td>DSL</td>\n",
       "      <td>2</td>\n",
       "      <td>Mailed check</td>\n",
       "    </tr>\n",
       "    <tr>\n",
       "      <th>1</th>\n",
       "      <td>0013-MHZWF</td>\n",
       "      <td>Female</td>\n",
       "      <td>0</td>\n",
       "      <td>No</td>\n",
       "      <td>Yes</td>\n",
       "      <td>9</td>\n",
       "      <td>Yes</td>\n",
       "      <td>No</td>\n",
       "      <td>1</td>\n",
       "      <td>No</td>\n",
       "      <td>...</td>\n",
       "      <td>4</td>\n",
       "      <td>69.4</td>\n",
       "      <td>571.45</td>\n",
       "      <td>No</td>\n",
       "      <td>1</td>\n",
       "      <td>Month-to-month</td>\n",
       "      <td>1</td>\n",
       "      <td>DSL</td>\n",
       "      <td>4</td>\n",
       "      <td>Credit card (automatic)</td>\n",
       "    </tr>\n",
       "    <tr>\n",
       "      <th>2</th>\n",
       "      <td>0015-UOCOJ</td>\n",
       "      <td>Female</td>\n",
       "      <td>1</td>\n",
       "      <td>No</td>\n",
       "      <td>No</td>\n",
       "      <td>7</td>\n",
       "      <td>Yes</td>\n",
       "      <td>No</td>\n",
       "      <td>1</td>\n",
       "      <td>Yes</td>\n",
       "      <td>...</td>\n",
       "      <td>1</td>\n",
       "      <td>48.2</td>\n",
       "      <td>340.35</td>\n",
       "      <td>No</td>\n",
       "      <td>1</td>\n",
       "      <td>Month-to-month</td>\n",
       "      <td>1</td>\n",
       "      <td>DSL</td>\n",
       "      <td>1</td>\n",
       "      <td>Electronic check</td>\n",
       "    </tr>\n",
       "    <tr>\n",
       "      <th>3</th>\n",
       "      <td>0023-HGHWL</td>\n",
       "      <td>Male</td>\n",
       "      <td>1</td>\n",
       "      <td>No</td>\n",
       "      <td>No</td>\n",
       "      <td>1</td>\n",
       "      <td>No</td>\n",
       "      <td>No phone service</td>\n",
       "      <td>1</td>\n",
       "      <td>No</td>\n",
       "      <td>...</td>\n",
       "      <td>1</td>\n",
       "      <td>25.1</td>\n",
       "      <td>25.1</td>\n",
       "      <td>Yes</td>\n",
       "      <td>1</td>\n",
       "      <td>Month-to-month</td>\n",
       "      <td>1</td>\n",
       "      <td>DSL</td>\n",
       "      <td>1</td>\n",
       "      <td>Electronic check</td>\n",
       "    </tr>\n",
       "    <tr>\n",
       "      <th>4</th>\n",
       "      <td>0032-PGELS</td>\n",
       "      <td>Female</td>\n",
       "      <td>0</td>\n",
       "      <td>Yes</td>\n",
       "      <td>Yes</td>\n",
       "      <td>1</td>\n",
       "      <td>No</td>\n",
       "      <td>No phone service</td>\n",
       "      <td>1</td>\n",
       "      <td>Yes</td>\n",
       "      <td>...</td>\n",
       "      <td>3</td>\n",
       "      <td>30.5</td>\n",
       "      <td>30.5</td>\n",
       "      <td>Yes</td>\n",
       "      <td>1</td>\n",
       "      <td>Month-to-month</td>\n",
       "      <td>1</td>\n",
       "      <td>DSL</td>\n",
       "      <td>3</td>\n",
       "      <td>Bank transfer (automatic)</td>\n",
       "    </tr>\n",
       "  </tbody>\n",
       "</table>\n",
       "<p>5 rows × 27 columns</p>\n",
       "</div>"
      ],
      "text/plain": [
       "  customer_id  gender  senior_citizen partner dependents  tenure  \\\n",
       "0  0003-MKNFE    Male               0      No         No       9   \n",
       "1  0013-MHZWF  Female               0      No        Yes       9   \n",
       "2  0015-UOCOJ  Female               1      No         No       7   \n",
       "3  0023-HGHWL    Male               1      No         No       1   \n",
       "4  0032-PGELS  Female               0     Yes        Yes       1   \n",
       "\n",
       "  phone_service    multiple_lines internet_service_type_id online_security  \\\n",
       "0           Yes               Yes                        1              No   \n",
       "1           Yes                No                        1              No   \n",
       "2           Yes                No                        1             Yes   \n",
       "3            No  No phone service                        1              No   \n",
       "4            No  No phone service                        1             Yes   \n",
       "\n",
       "   ...  payment_type_id monthly_charges total_charges churn contract_type_id  \\\n",
       "0  ...                2            59.9         542.4    No                1   \n",
       "1  ...                4            69.4        571.45    No                1   \n",
       "2  ...                1            48.2        340.35    No                1   \n",
       "3  ...                1            25.1          25.1   Yes                1   \n",
       "4  ...                3            30.5          30.5   Yes                1   \n",
       "\n",
       "    contract_type internet_service_type_id  internet_service_type  \\\n",
       "0  Month-to-month                        1                    DSL   \n",
       "1  Month-to-month                        1                    DSL   \n",
       "2  Month-to-month                        1                    DSL   \n",
       "3  Month-to-month                        1                    DSL   \n",
       "4  Month-to-month                        1                    DSL   \n",
       "\n",
       "   payment_type_id               payment_type  \n",
       "0                2               Mailed check  \n",
       "1                4    Credit card (automatic)  \n",
       "2                1           Electronic check  \n",
       "3                1           Electronic check  \n",
       "4                3  Bank transfer (automatic)  \n",
       "\n",
       "[5 rows x 27 columns]"
      ]
     },
     "execution_count": 3,
     "metadata": {},
     "output_type": "execute_result"
    }
   ],
   "source": [
    "df.head()"
   ]
  },
  {
   "cell_type": "code",
   "execution_count": 4,
   "metadata": {},
   "outputs": [
    {
     "name": "stdout",
     "output_type": "stream",
     "text": [
      "<class 'pandas.core.frame.DataFrame'>\n",
      "RangeIndex: 7043 entries, 0 to 7042\n",
      "Data columns (total 27 columns):\n",
      " #   Column                    Non-Null Count  Dtype  \n",
      "---  ------                    --------------  -----  \n",
      " 0   customer_id               7043 non-null   object \n",
      " 1   gender                    7043 non-null   object \n",
      " 2   senior_citizen            7043 non-null   int64  \n",
      " 3   partner                   7043 non-null   object \n",
      " 4   dependents                7043 non-null   object \n",
      " 5   tenure                    7043 non-null   int64  \n",
      " 6   phone_service             7043 non-null   object \n",
      " 7   multiple_lines            7043 non-null   object \n",
      " 8   internet_service_type_id  7043 non-null   int64  \n",
      " 9   online_security           7043 non-null   object \n",
      " 10  online_backup             7043 non-null   object \n",
      " 11  device_protection         7043 non-null   object \n",
      " 12  tech_support              7043 non-null   object \n",
      " 13  streaming_tv              7043 non-null   object \n",
      " 14  streaming_movies          7043 non-null   object \n",
      " 15  contract_type_id          7043 non-null   int64  \n",
      " 16  paperless_billing         7043 non-null   object \n",
      " 17  payment_type_id           7043 non-null   int64  \n",
      " 18  monthly_charges           7043 non-null   float64\n",
      " 19  total_charges             7043 non-null   object \n",
      " 20  churn                     7043 non-null   object \n",
      " 21  contract_type_id          7043 non-null   int64  \n",
      " 22  contract_type             7043 non-null   object \n",
      " 23  internet_service_type_id  7043 non-null   int64  \n",
      " 24  internet_service_type     7043 non-null   object \n",
      " 25  payment_type_id           7043 non-null   int64  \n",
      " 26  payment_type              7043 non-null   object \n",
      "dtypes: float64(1), int64(8), object(18)\n",
      "memory usage: 1.5+ MB\n"
     ]
    }
   ],
   "source": [
    "df.info()"
   ]
  },
  {
   "cell_type": "code",
   "execution_count": 5,
   "metadata": {},
   "outputs": [
    {
     "data": {
      "text/html": [
       "<div>\n",
       "<style scoped>\n",
       "    .dataframe tbody tr th:only-of-type {\n",
       "        vertical-align: middle;\n",
       "    }\n",
       "\n",
       "    .dataframe tbody tr th {\n",
       "        vertical-align: top;\n",
       "    }\n",
       "\n",
       "    .dataframe thead th {\n",
       "        text-align: right;\n",
       "    }\n",
       "</style>\n",
       "<table border=\"1\" class=\"dataframe\">\n",
       "  <thead>\n",
       "    <tr style=\"text-align: right;\">\n",
       "      <th></th>\n",
       "      <th>senior_citizen</th>\n",
       "      <th>tenure</th>\n",
       "      <th>internet_service_type_id</th>\n",
       "      <th>contract_type_id</th>\n",
       "      <th>payment_type_id</th>\n",
       "      <th>monthly_charges</th>\n",
       "      <th>contract_type_id</th>\n",
       "      <th>internet_service_type_id</th>\n",
       "      <th>payment_type_id</th>\n",
       "    </tr>\n",
       "  </thead>\n",
       "  <tbody>\n",
       "    <tr>\n",
       "      <th>count</th>\n",
       "      <td>7043.000000</td>\n",
       "      <td>7043.000000</td>\n",
       "      <td>7043.000000</td>\n",
       "      <td>7043.000000</td>\n",
       "      <td>7043.000000</td>\n",
       "      <td>7043.000000</td>\n",
       "      <td>7043.000000</td>\n",
       "      <td>7043.000000</td>\n",
       "      <td>7043.000000</td>\n",
       "    </tr>\n",
       "    <tr>\n",
       "      <th>mean</th>\n",
       "      <td>0.162147</td>\n",
       "      <td>32.371149</td>\n",
       "      <td>1.872923</td>\n",
       "      <td>1.690473</td>\n",
       "      <td>2.315633</td>\n",
       "      <td>64.761692</td>\n",
       "      <td>1.690473</td>\n",
       "      <td>1.872923</td>\n",
       "      <td>2.315633</td>\n",
       "    </tr>\n",
       "    <tr>\n",
       "      <th>std</th>\n",
       "      <td>0.368612</td>\n",
       "      <td>24.559481</td>\n",
       "      <td>0.737796</td>\n",
       "      <td>0.833755</td>\n",
       "      <td>1.148907</td>\n",
       "      <td>30.090047</td>\n",
       "      <td>0.833755</td>\n",
       "      <td>0.737796</td>\n",
       "      <td>1.148907</td>\n",
       "    </tr>\n",
       "    <tr>\n",
       "      <th>min</th>\n",
       "      <td>0.000000</td>\n",
       "      <td>0.000000</td>\n",
       "      <td>1.000000</td>\n",
       "      <td>1.000000</td>\n",
       "      <td>1.000000</td>\n",
       "      <td>18.250000</td>\n",
       "      <td>1.000000</td>\n",
       "      <td>1.000000</td>\n",
       "      <td>1.000000</td>\n",
       "    </tr>\n",
       "    <tr>\n",
       "      <th>25%</th>\n",
       "      <td>0.000000</td>\n",
       "      <td>9.000000</td>\n",
       "      <td>1.000000</td>\n",
       "      <td>1.000000</td>\n",
       "      <td>1.000000</td>\n",
       "      <td>35.500000</td>\n",
       "      <td>1.000000</td>\n",
       "      <td>1.000000</td>\n",
       "      <td>1.000000</td>\n",
       "    </tr>\n",
       "    <tr>\n",
       "      <th>50%</th>\n",
       "      <td>0.000000</td>\n",
       "      <td>29.000000</td>\n",
       "      <td>2.000000</td>\n",
       "      <td>1.000000</td>\n",
       "      <td>2.000000</td>\n",
       "      <td>70.350000</td>\n",
       "      <td>1.000000</td>\n",
       "      <td>2.000000</td>\n",
       "      <td>2.000000</td>\n",
       "    </tr>\n",
       "    <tr>\n",
       "      <th>75%</th>\n",
       "      <td>0.000000</td>\n",
       "      <td>55.000000</td>\n",
       "      <td>2.000000</td>\n",
       "      <td>2.000000</td>\n",
       "      <td>3.000000</td>\n",
       "      <td>89.850000</td>\n",
       "      <td>2.000000</td>\n",
       "      <td>2.000000</td>\n",
       "      <td>3.000000</td>\n",
       "    </tr>\n",
       "    <tr>\n",
       "      <th>max</th>\n",
       "      <td>1.000000</td>\n",
       "      <td>72.000000</td>\n",
       "      <td>3.000000</td>\n",
       "      <td>3.000000</td>\n",
       "      <td>4.000000</td>\n",
       "      <td>118.750000</td>\n",
       "      <td>3.000000</td>\n",
       "      <td>3.000000</td>\n",
       "      <td>4.000000</td>\n",
       "    </tr>\n",
       "  </tbody>\n",
       "</table>\n",
       "</div>"
      ],
      "text/plain": [
       "       senior_citizen       tenure  internet_service_type_id  \\\n",
       "count     7043.000000  7043.000000               7043.000000   \n",
       "mean         0.162147    32.371149                  1.872923   \n",
       "std          0.368612    24.559481                  0.737796   \n",
       "min          0.000000     0.000000                  1.000000   \n",
       "25%          0.000000     9.000000                  1.000000   \n",
       "50%          0.000000    29.000000                  2.000000   \n",
       "75%          0.000000    55.000000                  2.000000   \n",
       "max          1.000000    72.000000                  3.000000   \n",
       "\n",
       "       contract_type_id  payment_type_id  monthly_charges  contract_type_id  \\\n",
       "count       7043.000000      7043.000000      7043.000000       7043.000000   \n",
       "mean           1.690473         2.315633        64.761692          1.690473   \n",
       "std            0.833755         1.148907        30.090047          0.833755   \n",
       "min            1.000000         1.000000        18.250000          1.000000   \n",
       "25%            1.000000         1.000000        35.500000          1.000000   \n",
       "50%            1.000000         2.000000        70.350000          1.000000   \n",
       "75%            2.000000         3.000000        89.850000          2.000000   \n",
       "max            3.000000         4.000000       118.750000          3.000000   \n",
       "\n",
       "       internet_service_type_id  payment_type_id  \n",
       "count               7043.000000      7043.000000  \n",
       "mean                   1.872923         2.315633  \n",
       "std                    0.737796         1.148907  \n",
       "min                    1.000000         1.000000  \n",
       "25%                    1.000000         1.000000  \n",
       "50%                    2.000000         2.000000  \n",
       "75%                    2.000000         3.000000  \n",
       "max                    3.000000         4.000000  "
      ]
     },
     "execution_count": 5,
     "metadata": {},
     "output_type": "execute_result"
    }
   ],
   "source": [
    "df.describe()"
   ]
  },
  {
   "cell_type": "code",
   "execution_count": 6,
   "metadata": {},
   "outputs": [
    {
     "data": {
      "text/plain": [
       "customer_id                 0\n",
       "gender                      0\n",
       "senior_citizen              0\n",
       "partner                     0\n",
       "dependents                  0\n",
       "tenure                      0\n",
       "phone_service               0\n",
       "multiple_lines              0\n",
       "internet_service_type_id    0\n",
       "online_security             0\n",
       "online_backup               0\n",
       "device_protection           0\n",
       "tech_support                0\n",
       "streaming_tv                0\n",
       "streaming_movies            0\n",
       "contract_type_id            0\n",
       "paperless_billing           0\n",
       "payment_type_id             0\n",
       "monthly_charges             0\n",
       "total_charges               0\n",
       "churn                       0\n",
       "contract_type_id            0\n",
       "contract_type               0\n",
       "internet_service_type_id    0\n",
       "internet_service_type       0\n",
       "payment_type_id             0\n",
       "payment_type                0\n",
       "dtype: int64"
      ]
     },
     "execution_count": 6,
     "metadata": {},
     "output_type": "execute_result"
    }
   ],
   "source": [
    "df.isnull().sum()"
   ]
  },
  {
   "cell_type": "markdown",
   "metadata": {},
   "source": [
    "## Hypothesis Testing:"
   ]
  },
  {
   "cell_type": "code",
   "execution_count": 9,
   "metadata": {},
   "outputs": [
    {
     "data": {
      "image/png": "[encoded data removed]",
      "text/plain": [
       "<Figure size 1080x576 with 4 Axes>"
      ]
     },
     "metadata": {
      "needs_background": "light"
     },
     "output_type": "display_data"
    }
   ],
   "source": [
    "# Hypothesis Testing and Assumption Validation\n",
    "plt.figure(figsize = (15,8))\n",
    "plt.subplot(2, 2, 1)\n",
    "df.groupby('internet_service_type').churn_cc.mean().plot.bar(alpha=.8)\n",
    "plt.ylabel('Churn Rate')\n",
    "plt.hlines(churn_rate, *plt.xlim(), ls='--', alpha=.8)\n",
    "plt.subplot(2, 2, 2)\n",
    "df.groupby('tech_support').churn_cc.mean().plot.bar(alpha=.8)\n",
    "plt.ylabel('Churn Rate')\n",
    "plt.hlines(churn_rate, *plt.xlim(), ls='--', alpha=.8)\n",
    "plt.subplot(2, 2, 3)\n",
    "df.groupby('contract_type').churn_cc.mean().plot.bar(alpha=.8)\n",
    "plt.ylabel('Churn Rate')\n",
    "plt.hlines(churn_rate, *plt.xlim(), ls='--', alpha=.8)\n",
    "plt.subplot(2, 2, 4)\n",
    "df.groupby('payment_type').churn_cc.mean().plot.bar(alpha=.8)\n",
    "plt.ylabel('Churn Rate')\n",
    "plt.hlines(churn_rate, *plt.xlim(), ls='--', alpha=.8)\n",
    "plt.tight_layout(pad = 1.0)\n",
    "plt.show()"
   ]
  },
  {
   "cell_type": "markdown",
   "metadata": {},
   "source": [
    "## Hypothesis Testing Results:\n",
    "\n",
    "1. Customers with internet service are more likely to churn\n",
    "   - According to the data visualization customers with internet service are more likely to churn\n",
    "\n",
    "\n",
    "2. Customers with internet service and tech support are less likely to churn\n",
    "   - According to the data visulaization customers without tech support are more likley to churn"
   ]
  },
  {
   "cell_type": "markdown",
   "metadata": {},
   "source": [
    "<div class=\"alert alert-block alert-warning\"></div>"
   ]
  },
  {
   "cell_type": "markdown",
   "metadata": {},
   "source": [
    "# Data Preparation: How will I manipulate the data to test my hypothesis?\n",
    "\n",
    "- **The goal:** is to have data, split into 3 samples (train, validate, and test), in a format that can easily be explored, analyzed and visualized. The data is split so that we have a sample we can use to test our final model, one that was not used in the exploration of the data or the development of the model. This helps us understand the generality of the model.\n",
    "\n",
    "- **The deliverable:** is a file, prep.py, that contains the function(s) needed to reproduce the preparation of the data. The resulting dataframes should be 3 samples, a dataframe for training the algorithms, a dataframe for validating the models developed on unseen data, a dataframe for testing the best performing model to ensure the model is able to be generalized on a final set of unseen data not 'overfitting' train, a validate and a test, roughly a 70%:20%:10% split (or somewhere between that and 50%:30%:20% ... depends on amount of data available). "
   ]
  },
  {
   "cell_type": "markdown",
   "metadata": {},
   "source": [
    "<div class=\"alert alert-block alert-warning\"></div>"
   ]
  },
  {
   "cell_type": "markdown",
   "metadata": {},
   "source": [
    "## Importing the prepared data"
   ]
  },
  {
   "cell_type": "code",
   "execution_count": 62,
   "metadata": {},
   "outputs": [],
   "source": [
    "df_explore= prep_telco_data_explore(get_telco_data(cached = True))"
   ]
  },
  {
   "cell_type": "code",
   "execution_count": 11,
   "metadata": {},
   "outputs": [
    {
     "data": {
      "text/html": [
       "<div>\n",
       "<style scoped>\n",
       "    .dataframe tbody tr th:only-of-type {\n",
       "        vertical-align: middle;\n",
       "    }\n",
       "\n",
       "    .dataframe tbody tr th {\n",
       "        vertical-align: top;\n",
       "    }\n",
       "\n",
       "    .dataframe thead th {\n",
       "        text-align: right;\n",
       "    }\n",
       "</style>\n",
       "<table border=\"1\" class=\"dataframe\">\n",
       "  <thead>\n",
       "    <tr style=\"text-align: right;\">\n",
       "      <th></th>\n",
       "      <th>customer_id</th>\n",
       "      <th>gender</th>\n",
       "      <th>senior_citizen</th>\n",
       "      <th>partner</th>\n",
       "      <th>dependents</th>\n",
       "      <th>tenure</th>\n",
       "      <th>phone_service</th>\n",
       "      <th>multiple_lines</th>\n",
       "      <th>online_security</th>\n",
       "      <th>online_backup</th>\n",
       "      <th>...</th>\n",
       "      <th>mail_check</th>\n",
       "      <th>month_to_month_contract</th>\n",
       "      <th>one_year_contract</th>\n",
       "      <th>two_year_contract</th>\n",
       "      <th>internet_service_type_cc</th>\n",
       "      <th>internet_service</th>\n",
       "      <th>dsl</th>\n",
       "      <th>fiber_optic</th>\n",
       "      <th>None</th>\n",
       "      <th>tenure_years</th>\n",
       "    </tr>\n",
       "  </thead>\n",
       "  <tbody>\n",
       "    <tr>\n",
       "      <th>0</th>\n",
       "      <td>0003-MKNFE</td>\n",
       "      <td>Male</td>\n",
       "      <td>0</td>\n",
       "      <td>0</td>\n",
       "      <td>0</td>\n",
       "      <td>9</td>\n",
       "      <td>1</td>\n",
       "      <td>Yes</td>\n",
       "      <td>No</td>\n",
       "      <td>No</td>\n",
       "      <td>...</td>\n",
       "      <td>1</td>\n",
       "      <td>1</td>\n",
       "      <td>0</td>\n",
       "      <td>0</td>\n",
       "      <td>0</td>\n",
       "      <td>1</td>\n",
       "      <td>1</td>\n",
       "      <td>0</td>\n",
       "      <td>0</td>\n",
       "      <td>0.75</td>\n",
       "    </tr>\n",
       "    <tr>\n",
       "      <th>1</th>\n",
       "      <td>0013-MHZWF</td>\n",
       "      <td>Female</td>\n",
       "      <td>0</td>\n",
       "      <td>0</td>\n",
       "      <td>1</td>\n",
       "      <td>9</td>\n",
       "      <td>1</td>\n",
       "      <td>No</td>\n",
       "      <td>No</td>\n",
       "      <td>No</td>\n",
       "      <td>...</td>\n",
       "      <td>0</td>\n",
       "      <td>1</td>\n",
       "      <td>0</td>\n",
       "      <td>0</td>\n",
       "      <td>0</td>\n",
       "      <td>1</td>\n",
       "      <td>1</td>\n",
       "      <td>0</td>\n",
       "      <td>0</td>\n",
       "      <td>0.75</td>\n",
       "    </tr>\n",
       "    <tr>\n",
       "      <th>2</th>\n",
       "      <td>0015-UOCOJ</td>\n",
       "      <td>Female</td>\n",
       "      <td>1</td>\n",
       "      <td>0</td>\n",
       "      <td>0</td>\n",
       "      <td>7</td>\n",
       "      <td>1</td>\n",
       "      <td>No</td>\n",
       "      <td>Yes</td>\n",
       "      <td>No</td>\n",
       "      <td>...</td>\n",
       "      <td>0</td>\n",
       "      <td>1</td>\n",
       "      <td>0</td>\n",
       "      <td>0</td>\n",
       "      <td>0</td>\n",
       "      <td>1</td>\n",
       "      <td>1</td>\n",
       "      <td>0</td>\n",
       "      <td>0</td>\n",
       "      <td>0.58</td>\n",
       "    </tr>\n",
       "    <tr>\n",
       "      <th>3</th>\n",
       "      <td>0023-HGHWL</td>\n",
       "      <td>Male</td>\n",
       "      <td>1</td>\n",
       "      <td>0</td>\n",
       "      <td>0</td>\n",
       "      <td>1</td>\n",
       "      <td>0</td>\n",
       "      <td>No phone service</td>\n",
       "      <td>No</td>\n",
       "      <td>No</td>\n",
       "      <td>...</td>\n",
       "      <td>0</td>\n",
       "      <td>1</td>\n",
       "      <td>0</td>\n",
       "      <td>0</td>\n",
       "      <td>0</td>\n",
       "      <td>1</td>\n",
       "      <td>1</td>\n",
       "      <td>0</td>\n",
       "      <td>0</td>\n",
       "      <td>0.08</td>\n",
       "    </tr>\n",
       "    <tr>\n",
       "      <th>4</th>\n",
       "      <td>0032-PGELS</td>\n",
       "      <td>Female</td>\n",
       "      <td>0</td>\n",
       "      <td>1</td>\n",
       "      <td>1</td>\n",
       "      <td>1</td>\n",
       "      <td>0</td>\n",
       "      <td>No phone service</td>\n",
       "      <td>Yes</td>\n",
       "      <td>No</td>\n",
       "      <td>...</td>\n",
       "      <td>0</td>\n",
       "      <td>1</td>\n",
       "      <td>0</td>\n",
       "      <td>0</td>\n",
       "      <td>0</td>\n",
       "      <td>1</td>\n",
       "      <td>1</td>\n",
       "      <td>0</td>\n",
       "      <td>0</td>\n",
       "      <td>0.08</td>\n",
       "    </tr>\n",
       "  </tbody>\n",
       "</table>\n",
       "<p>5 rows × 44 columns</p>\n",
       "</div>"
      ],
      "text/plain": [
       "  customer_id  gender  senior_citizen  partner  dependents  tenure  \\\n",
       "0  0003-MKNFE    Male               0        0           0       9   \n",
       "1  0013-MHZWF  Female               0        0           1       9   \n",
       "2  0015-UOCOJ  Female               1        0           0       7   \n",
       "3  0023-HGHWL    Male               1        0           0       1   \n",
       "4  0032-PGELS  Female               0        1           1       1   \n",
       "\n",
       "   phone_service    multiple_lines online_security online_backup  ...  \\\n",
       "0              1               Yes              No            No  ...   \n",
       "1              1                No              No            No  ...   \n",
       "2              1                No             Yes            No  ...   \n",
       "3              0  No phone service              No            No  ...   \n",
       "4              0  No phone service             Yes            No  ...   \n",
       "\n",
       "  mail_check month_to_month_contract one_year_contract two_year_contract  \\\n",
       "0          1                       1                 0                 0   \n",
       "1          0                       1                 0                 0   \n",
       "2          0                       1                 0                 0   \n",
       "3          0                       1                 0                 0   \n",
       "4          0                       1                 0                 0   \n",
       "\n",
       "   internet_service_type_cc  internet_service  dsl  fiber_optic None  \\\n",
       "0                         0                 1    1            0    0   \n",
       "1                         0                 1    1            0    0   \n",
       "2                         0                 1    1            0    0   \n",
       "3                         0                 1    1            0    0   \n",
       "4                         0                 1    1            0    0   \n",
       "\n",
       "  tenure_years  \n",
       "0         0.75  \n",
       "1         0.75  \n",
       "2         0.58  \n",
       "3         0.08  \n",
       "4         0.08  \n",
       "\n",
       "[5 rows x 44 columns]"
      ]
     },
     "execution_count": 11,
     "metadata": {},
     "output_type": "execute_result"
    }
   ],
   "source": [
    "# All categorical variables have a duplicate column filled with 1 or 0 for exploration\n",
    "# Creation of new feature tenure_years\n",
    "df_explore.head()"
   ]
  },
  {
   "cell_type": "code",
   "execution_count": 63,
   "metadata": {},
   "outputs": [
    {
     "name": "stdout",
     "output_type": "stream",
     "text": [
      "<class 'pandas.core.frame.DataFrame'>\n",
      "RangeIndex: 7043 entries, 0 to 7042\n",
      "Data columns (total 44 columns):\n",
      " #   Column                    Non-Null Count  Dtype  \n",
      "---  ------                    --------------  -----  \n",
      " 0   customer_id               7043 non-null   object \n",
      " 1   gender                    7043 non-null   object \n",
      " 2   senior_citizen            7043 non-null   int64  \n",
      " 3   partner                   7043 non-null   int64  \n",
      " 4   dependents                7043 non-null   int64  \n",
      " 5   tenure                    7043 non-null   int64  \n",
      " 6   phone_service             7043 non-null   int64  \n",
      " 7   multiple_lines            7043 non-null   object \n",
      " 8   online_security           7043 non-null   object \n",
      " 9   online_backup             7043 non-null   object \n",
      " 10  device_protection         7043 non-null   object \n",
      " 11  tech_support              7043 non-null   object \n",
      " 12  streaming_tv              7043 non-null   object \n",
      " 13  streaming_movies          7043 non-null   object \n",
      " 14  paperless_billing         7043 non-null   int64  \n",
      " 15  monthly_charges           7043 non-null   float64\n",
      " 16  total_charges             7043 non-null   float64\n",
      " 17  churn                     7043 non-null   int64  \n",
      " 18  contract_type             7043 non-null   object \n",
      " 19  internet_service_type     7043 non-null   object \n",
      " 20  payment_type              7043 non-null   object \n",
      " 21  gender_cc                 7043 non-null   int8   \n",
      " 22  payment_type_cc           7043 non-null   int8   \n",
      " 23  multiple_lines_cc         7043 non-null   int8   \n",
      " 24  online_security_cc        7043 non-null   int8   \n",
      " 25  online_backup_cc          7043 non-null   int8   \n",
      " 26  device_protection_cc      7043 non-null   int8   \n",
      " 27  tech_support_cc           7043 non-null   int8   \n",
      " 28  streaming_tv_cc           7043 non-null   int8   \n",
      " 29  streaming_movies_cc       7043 non-null   int8   \n",
      " 30  contract_type_cc          7043 non-null   int8   \n",
      " 31  bank_transfer_auto        7043 non-null   int64  \n",
      " 32  credit_card_auto          7043 non-null   int64  \n",
      " 33  e_check                   7043 non-null   int64  \n",
      " 34  mail_check                7043 non-null   int64  \n",
      " 35  month_to_month_contract   7043 non-null   int64  \n",
      " 36  one_year_contract         7043 non-null   int64  \n",
      " 37  two_year_contract         7043 non-null   int64  \n",
      " 38  internet_service_type_cc  7043 non-null   int8   \n",
      " 39  internet_service          7043 non-null   int64  \n",
      " 40  dsl                       7043 non-null   int64  \n",
      " 41  fiber_optic               7043 non-null   int64  \n",
      " 42  None                      7043 non-null   int64  \n",
      " 43  tenure_years              7043 non-null   float64\n",
      "dtypes: float64(3), int64(18), int8(11), object(12)\n",
      "memory usage: 1.8+ MB\n"
     ]
    }
   ],
   "source": [
    "# Changes between acquire and prepare\n",
    "df_explore.info()"
   ]
  },
  {
   "cell_type": "markdown",
   "metadata": {},
   "source": [
    "## Changes between original dataframe and prepared dataframe\n",
    "\n",
    "1. Deleted redundent columns: contract_type_id, internet_service_type_id, payment_type_id\n",
    "\n",
    "\n",
    "2. Replaced partner, dependents, churn, phone_service, paperless billing, with boolean value\n",
    "\n",
    "\n",
    "3. Changed gender, payment_type, multiple_lines, online_security, online_backkup, device_protection, tech_support, streaming_tv, streaming_movies, contract_type, internet_service_type to categorical category codes\n",
    "\n",
    "\n",
    "4. Added dummy variables as new columns in dataframe and rename them for payment_type, contract_type, internet_service_type\n",
    "\n",
    "\n",
    "5. Created new boolean column for internet_service\n",
    "\n",
    "\n",
    "6. Changed total_charges to a numeric variable (adds 18 Nan values)\n",
    "\n",
    "\n",
    "7. Replace Nan in total_charges with 0 representing no total charge to date. \n",
    "\n",
    "\n",
    "8. Created a new feature called tenure_years"
   ]
  },
  {
   "cell_type": "markdown",
   "metadata": {},
   "source": [
    "<div class=\"alert alert-block alert-warning\"></div>"
   ]
  },
  {
   "cell_type": "markdown",
   "metadata": {},
   "source": [
    "# Data Exploration: What does the data tell me?\n",
    "\n",
    "- **The goal:** is to discover features that have the largest impact on the target variable, i.e. provide the most information gain, drive the outcome.\n",
    "\n",
    "- **The deliverable:** is a file, preprocess.py, that contains the function(s) needed to reproduce the pre-processing of the data. The dataframe resulting from these functions should be one that is pre-processed, i.e. ready to be used in modeling. This means that attributes are reduced to features, features are in a numeric form, there are no missing values, and continuous and/or ordered values are scaled to be unitless."
   ]
  },
  {
   "cell_type": "markdown",
   "metadata": {},
   "source": [
    "<div class=\"alert alert-block alert-warning\"></div>"
   ]
  },
  {
   "cell_type": "markdown",
   "metadata": {},
   "source": [
    "# Estabolishing a Baseline\n",
    "\n",
    "### - How am I going to define churn?"
   ]
  },
  {
   "cell_type": "code",
   "execution_count": 12,
   "metadata": {},
   "outputs": [],
   "source": [
    "# First lets examine the origional data to estobolish a baseline\n",
    "\n",
    "df = get_telco_data(cached = True)"
   ]
  },
  {
   "cell_type": "markdown",
   "metadata": {},
   "source": [
    "### **If we look at all of the data (72 months or 6 years) we can see a relativly low rate of churn (26%)**"
   ]
  },
  {
   "cell_type": "code",
   "execution_count": 13,
   "metadata": {},
   "outputs": [
    {
     "data": {
      "text/plain": [
       "No     0.73463\n",
       "Yes    0.26537\n",
       "Name: churn, dtype: float64"
      ]
     },
     "execution_count": 13,
     "metadata": {},
     "output_type": "execute_result"
    }
   ],
   "source": [
    "# Percent of Customers who Churned over 72 Months\n",
    "df.churn.value_counts(normalize = True)"
   ]
  },
  {
   "cell_type": "markdown",
   "metadata": {},
   "source": [
    "### **The story changes if you look at the data by month, infact churn is > 50% for the first 8 months of service**"
   ]
  },
  {
   "cell_type": "code",
   "execution_count": 14,
   "metadata": {},
   "outputs": [
    {
     "data": {
      "text/plain": [
       "Yes    0.505476\n",
       "No     0.494524\n",
       "Name: churn, dtype: float64"
      ]
     },
     "execution_count": 14,
     "metadata": {},
     "output_type": "execute_result"
    }
   ],
   "source": [
    "# Churn is greater then 50 % for first 8 months of service\n",
    "df = get_telco_data(cached = True)\n",
    "month_one = df.tenure <= 8\n",
    "test = df[month_one]\n",
    "test.churn.value_counts(normalize = True)"
   ]
  },
  {
   "cell_type": "markdown",
   "metadata": {},
   "source": [
    "### **Similar patterns exist when churn is examined annually.  At the end of year one churn is still relativly high (47%) and drops off after one year of service**"
   ]
  },
  {
   "cell_type": "code",
   "execution_count": 15,
   "metadata": {},
   "outputs": [
    {
     "data": {
      "text/plain": [
       "No     0.525618\n",
       "Yes    0.474382\n",
       "Name: churn, dtype: float64"
      ]
     },
     "execution_count": 15,
     "metadata": {},
     "output_type": "execute_result"
    }
   ],
   "source": [
    "# Year One\n",
    "df['tenure_years'] = round(df.tenure / 12, 2)\n",
    "year_one = df.tenure_years <= 1\n",
    "test = df[year_one]\n",
    "test.churn.value_counts(normalize = True)"
   ]
  },
  {
   "cell_type": "code",
   "execution_count": 16,
   "metadata": {},
   "outputs": [
    {
     "data": {
      "text/plain": [
       "No     0.857143\n",
       "Yes    0.142857\n",
       "Name: churn, dtype: float64"
      ]
     },
     "execution_count": 16,
     "metadata": {},
     "output_type": "execute_result"
    }
   ],
   "source": [
    "# Year two\n",
    "df['tenure_years'] = round(df.tenure / 12, 2)\n",
    "year_one = (df.tenure_years >= 2) & (df.tenure_years >=1)\n",
    "test = df[year_one]\n",
    "test.churn.value_counts(normalize = True)"
   ]
  },
  {
   "cell_type": "code",
   "execution_count": 17,
   "metadata": {},
   "outputs": [
    {
     "data": {
      "text/plain": [
       "No     0.879384\n",
       "Yes    0.120616\n",
       "Name: churn, dtype: float64"
      ]
     },
     "execution_count": 17,
     "metadata": {},
     "output_type": "execute_result"
    }
   ],
   "source": [
    "# Year three\n",
    "df['tenure_years'] = round(df.tenure / 12, 2)\n",
    "year_one = (df.tenure_years >= 3) & (df.tenure_years >=2)\n",
    "test = df[year_one]\n",
    "test.churn.value_counts(normalize = True)"
   ]
  },
  {
   "cell_type": "code",
   "execution_count": 18,
   "metadata": {},
   "outputs": [
    {
     "data": {
      "text/plain": [
       "No     0.903604\n",
       "Yes    0.096396\n",
       "Name: churn, dtype: float64"
      ]
     },
     "execution_count": 18,
     "metadata": {},
     "output_type": "execute_result"
    }
   ],
   "source": [
    "# Year four\n",
    "df['tenure_years'] = round(df.tenure / 12, 2)\n",
    "year_one = (df.tenure_years >= 4) & (df.tenure_years >=3)\n",
    "test = df[year_one]\n",
    "test.churn.value_counts(normalize = True)"
   ]
  },
  {
   "cell_type": "code",
   "execution_count": 19,
   "metadata": {},
   "outputs": [
    {
     "data": {
      "text/plain": [
       "No     0.933243\n",
       "Yes    0.066757\n",
       "Name: churn, dtype: float64"
      ]
     },
     "execution_count": 19,
     "metadata": {},
     "output_type": "execute_result"
    }
   ],
   "source": [
    "# Year Five\n",
    "df['tenure_years'] = round(df.tenure / 12, 2)\n",
    "year_one = (df.tenure_years >= 5) & (df.tenure_years >=4)\n",
    "test = df[year_one]\n",
    "test.churn.value_counts(normalize = True)"
   ]
  },
  {
   "cell_type": "code",
   "execution_count": 20,
   "metadata": {},
   "outputs": [
    {
     "data": {
      "text/plain": [
       "No     0.983425\n",
       "Yes    0.016575\n",
       "Name: churn, dtype: float64"
      ]
     },
     "execution_count": 20,
     "metadata": {},
     "output_type": "execute_result"
    }
   ],
   "source": [
    "# Year Six\n",
    "df['tenure_years'] = round(df.tenure / 12, 2)\n",
    "year_one = (df.tenure_years >= 6) & (df.tenure_years >=5)\n",
    "test = df[year_one]\n",
    "test.churn.value_counts(normalize = True)"
   ]
  },
  {
   "cell_type": "markdown",
   "metadata": {},
   "source": [
    "## Thoughts: \n",
    "### - For my models the dummy assessment of churn will be **50%**. This is greater then the overall churn for the data set, but equivilent to the amount of churn seen in the first 8 months of service when customer identification and intervention are greatest"
   ]
  },
  {
   "cell_type": "markdown",
   "metadata": {},
   "source": [
    "<div class=\"alert alert-block alert-warning\"></div>"
   ]
  },
  {
   "cell_type": "markdown",
   "metadata": {},
   "source": [
    "# Statistical Testing\n",
    "\n",
    "1. Customers with internet service are more likely to churn\n",
    "   - According to the data visualization customers with internet service are more likely to churn\n",
    "\n",
    "\n",
    "2. Customers with internet service and tech support are less likely to churn\n",
    "   - According to the data visulaization customers without tech support are more likley to churn\n",
    "   \n",
    "#### **However is this relationship statistically significant?  The only way to know is to test!"
   ]
  },
  {
   "cell_type": "markdown",
   "metadata": {},
   "source": [
    "## Hypothesis Test One: Chi Squared Test For Independence\n",
    "\n",
    "- Churn is dependent on internet service type (DSL vs Fiber)"
   ]
  },
  {
   "cell_type": "markdown",
   "metadata": {},
   "source": [
    "**Null Hypothesis:\n",
    "$H_{0}$: Whether a person churns is independent of internet service type**\n",
    "\n",
    "**Alternative Hypothesis:\n",
    "$H_{a}$: Whether a person churns is not independent of internet service type**"
   ]
  },
  {
   "cell_type": "code",
   "execution_count": 21,
   "metadata": {},
   "outputs": [
    {
     "data": {
      "text/plain": [
       "0.05"
      ]
     },
     "execution_count": 21,
     "metadata": {},
     "output_type": "execute_result"
    }
   ],
   "source": [
    "# 1. Set alpha, how confident you want to be in the relationship between your variables\n",
    "confidence_level = .95\n",
    "alpha = round(1 - confidence_level,2)\n",
    "alpha"
   ]
  },
  {
   "cell_type": "code",
   "execution_count": 22,
   "metadata": {},
   "outputs": [],
   "source": [
    "# 2. Sort data frame and remove \"None\" from internet_service_type\n",
    "\n",
    "dsl_fiber = df_explore.internet_service_type != 'None'\n",
    "df_dsl_fiber = df_explore[dsl_fiber]"
   ]
  },
  {
   "cell_type": "code",
   "execution_count": 23,
   "metadata": {},
   "outputs": [
    {
     "data": {
      "text/html": [
       "<div>\n",
       "<style scoped>\n",
       "    .dataframe tbody tr th:only-of-type {\n",
       "        vertical-align: middle;\n",
       "    }\n",
       "\n",
       "    .dataframe tbody tr th {\n",
       "        vertical-align: top;\n",
       "    }\n",
       "\n",
       "    .dataframe thead th {\n",
       "        text-align: right;\n",
       "    }\n",
       "</style>\n",
       "<table border=\"1\" class=\"dataframe\">\n",
       "  <thead>\n",
       "    <tr style=\"text-align: right;\">\n",
       "      <th>internet_service_type</th>\n",
       "      <th>DSL</th>\n",
       "      <th>Fiber optic</th>\n",
       "    </tr>\n",
       "    <tr>\n",
       "      <th>churn</th>\n",
       "      <th></th>\n",
       "      <th></th>\n",
       "    </tr>\n",
       "  </thead>\n",
       "  <tbody>\n",
       "    <tr>\n",
       "      <th>0</th>\n",
       "      <td>1962</td>\n",
       "      <td>1799</td>\n",
       "    </tr>\n",
       "    <tr>\n",
       "      <th>1</th>\n",
       "      <td>459</td>\n",
       "      <td>1297</td>\n",
       "    </tr>\n",
       "  </tbody>\n",
       "</table>\n",
       "</div>"
      ],
      "text/plain": [
       "internet_service_type   DSL  Fiber optic\n",
       "churn                                   \n",
       "0                      1962         1799\n",
       "1                       459         1297"
      ]
     },
     "execution_count": 23,
     "metadata": {},
     "output_type": "execute_result"
    }
   ],
   "source": [
    "# 3. Create a crosstab to aggregate data\n",
    "\n",
    "ctab = pd.crosstab(df_dsl_fiber.churn, df_dsl_fiber.internet_service_type)\n",
    "ctab"
   ]
  },
  {
   "cell_type": "code",
   "execution_count": 24,
   "metadata": {},
   "outputs": [
    {
     "name": "stdout",
     "output_type": "stream",
     "text": [
      "Our p-value is 2.2962170975696955e-73.\n",
      "Our p-value is less than our alpha: True\n"
     ]
    }
   ],
   "source": [
    "# 4. Preform Statistical Test, return P-value\n",
    "\n",
    "Chi2, p, degf, expected = stats.chi2_contingency(ctab)\n",
    "print(f'Our p-value is {p}.')\n",
    "print(f'Our p-value is less than our alpha: {p < alpha}')"
   ]
  },
  {
   "cell_type": "markdown",
   "metadata": {},
   "source": [
    "## Findings:\n",
    "**P-value is less than alpha so we reject the null hypothesis, ie. Our x^2 test informs us that the two categories, churn and internet service, are not independent.**"
   ]
  },
  {
   "cell_type": "markdown",
   "metadata": {},
   "source": [
    "## Hypothesis Test Two: Chi Squared Test for Independence\n",
    "- Churn is dependent on tech support (tech support, no tech support)"
   ]
  },
  {
   "cell_type": "markdown",
   "metadata": {},
   "source": [
    "**Null Hypothesis:\n",
    "$H_{0}$: Whether a person churns is independent of tech support**\n",
    "\n",
    "**Alternate Hypothesis:\n",
    "$H_{a}$: Whether a person churns is not independent of tech support**"
   ]
  },
  {
   "cell_type": "code",
   "execution_count": 25,
   "metadata": {},
   "outputs": [
    {
     "data": {
      "text/plain": [
       "0.05"
      ]
     },
     "execution_count": 25,
     "metadata": {},
     "output_type": "execute_result"
    }
   ],
   "source": [
    "# 1. Set alpha, how confident you want to be in the relationship between your variables\n",
    "\n",
    "confidence_level = .95\n",
    "alpha = round(1 - confidence_level,2)\n",
    "alpha"
   ]
  },
  {
   "cell_type": "code",
   "execution_count": 26,
   "metadata": {},
   "outputs": [],
   "source": [
    "# 2. Sort dataframe and remove'no internet service' from tech_support\n",
    "\n",
    "df_support = df_explore.tech_support != 'No internet service'\n",
    "df_support_final = df_explore[df_support]"
   ]
  },
  {
   "cell_type": "code",
   "execution_count": 27,
   "metadata": {},
   "outputs": [
    {
     "data": {
      "text/html": [
       "<div>\n",
       "<style scoped>\n",
       "    .dataframe tbody tr th:only-of-type {\n",
       "        vertical-align: middle;\n",
       "    }\n",
       "\n",
       "    .dataframe tbody tr th {\n",
       "        vertical-align: top;\n",
       "    }\n",
       "\n",
       "    .dataframe thead th {\n",
       "        text-align: right;\n",
       "    }\n",
       "</style>\n",
       "<table border=\"1\" class=\"dataframe\">\n",
       "  <thead>\n",
       "    <tr style=\"text-align: right;\">\n",
       "      <th>tech_support</th>\n",
       "      <th>No</th>\n",
       "      <th>Yes</th>\n",
       "    </tr>\n",
       "    <tr>\n",
       "      <th>churn</th>\n",
       "      <th></th>\n",
       "      <th></th>\n",
       "    </tr>\n",
       "  </thead>\n",
       "  <tbody>\n",
       "    <tr>\n",
       "      <th>0</th>\n",
       "      <td>2027</td>\n",
       "      <td>1734</td>\n",
       "    </tr>\n",
       "    <tr>\n",
       "      <th>1</th>\n",
       "      <td>1446</td>\n",
       "      <td>310</td>\n",
       "    </tr>\n",
       "  </tbody>\n",
       "</table>\n",
       "</div>"
      ],
      "text/plain": [
       "tech_support    No   Yes\n",
       "churn                   \n",
       "0             2027  1734\n",
       "1             1446   310"
      ]
     },
     "execution_count": 27,
     "metadata": {},
     "output_type": "execute_result"
    }
   ],
   "source": [
    "# 3. Create a crosstab to aggregate data\n",
    "\n",
    "ctab = pd.crosstab(df_support_final.churn, df_support_final.tech_support)\n",
    "ctab"
   ]
  },
  {
   "cell_type": "code",
   "execution_count": 28,
   "metadata": {},
   "outputs": [
    {
     "name": "stdout",
     "output_type": "stream",
     "text": [
      "Our p-value is 4.35191667899426e-92.\n",
      "Our p-value is less than our alpha: True\n"
     ]
    }
   ],
   "source": [
    "# 4. Preform Statistical Test, return P-value\n",
    "\n",
    "Chi2, p, degf, expected = stats.chi2_contingency(ctab)\n",
    "print(f'Our p-value is {p}.')\n",
    "print(f'Our p-value is less than our alpha: {p < alpha}')"
   ]
  },
  {
   "cell_type": "markdown",
   "metadata": {},
   "source": [
    "## Findings:\n",
    "**P-value is less than alpha so we reject the null hypothesis, ie. Our x^2 test informs us that the two categories, churn and tech support, are not independent.**"
   ]
  },
  {
   "cell_type": "markdown",
   "metadata": {},
   "source": [
    "## Statistical Test Summary\n",
    "\n",
    "- Hypothesis Test One: With 95% accuracy we can state that churn is dependent on the type of internet service customers choose\n",
    "\n",
    "  - we are **not** implying that they are the **only** factors simply that they affect churn at TELCO\n",
    "\n",
    "\n",
    "- Hypothesis Test Two: With 95% accuracy we can state that churn is dependent on wheither or not a customer utilizes tech support\n",
    "\n",
    "  - we are **not** implying that they are the **only** factors simply that they affect churn at TELCO\n",
    "  \n",
    "  \n",
    "- **These two factors will defintaly be included in the model that we use to predict churn!**"
   ]
  },
  {
   "cell_type": "markdown",
   "metadata": {},
   "source": [
    "<div class=\"alert alert-block alert-warning\"></div>"
   ]
  },
  {
   "cell_type": "markdown",
   "metadata": {},
   "source": [
    "# Identifying Churn Drivers:\n",
    "\n",
    "- **What Factors Have the Largest Impact on the Target Variable** \n",
    "\n",
    " - Explore correlations with heatmaps (4 variables at a time)\n",
    " - Cross reference at conclusion using df_explore.corr()"
   ]
  },
  {
   "cell_type": "code",
   "execution_count": 29,
   "metadata": {},
   "outputs": [],
   "source": [
    "# Cleaned Data for Exploration\n",
    "df_explore= prep_telco_data_explore(get_telco_data(cached = True))"
   ]
  },
  {
   "cell_type": "code",
   "execution_count": 30,
   "metadata": {},
   "outputs": [
    {
     "data": {
      "image/png": "[encoded data removed]",
      "text/plain": [
       "<Figure size 792x648 with 2 Axes>"
      ]
     },
     "metadata": {
      "needs_background": "light"
     },
     "output_type": "display_data"
    }
   ],
   "source": [
    "# Identify features to explore (Part One)\n",
    "explore_heatmat = df_explore[['gender_cc', 'senior_citizen', 'partner', 'dependents', 'churn']]\n",
    "# Compute the correlation matrix (all train)\n",
    "corr = explore_heatmat.corr()\n",
    "\n",
    "# Generate a mask for the upper triangle\n",
    "mask = np.triu(np.ones_like(corr, dtype=bool))\n",
    "\n",
    "# Set up the matplotlib figure\n",
    "f, ax = plt.subplots(figsize=(11, 9))\n",
    "\n",
    "# Generate a custom diverging colormap\n",
    "cmap = sns.diverging_palette(230, 20, as_cmap=True)\n",
    "\n",
    "# Draw the heatmap with the mask and correct aspect ratio\n",
    "sns.heatmap(corr, mask=mask, annot = True, cmap=cmap, vmax=.3, center=0,\n",
    "            square=True, linewidths=.5, cbar_kws={\"shrink\": .5})\n",
    "plt.show()"
   ]
  },
  {
   "cell_type": "markdown",
   "metadata": {},
   "source": [
    "### Takeaway:\n",
    "\n",
    "  - gender = Not a churn driver\n",
    "  - senior_citizen = 0.15 +\n",
    "  - partner = 0.15 -\n",
    "  - dependents = 0.16 -"
   ]
  },
  {
   "cell_type": "code",
   "execution_count": 31,
   "metadata": {},
   "outputs": [
    {
     "data": {
      "image/png": "[encoded data removed]",
      "text/plain": [
       "<Figure size 792x648 with 2 Axes>"
      ]
     },
     "metadata": {
      "needs_background": "light"
     },
     "output_type": "display_data"
    }
   ],
   "source": [
    "# Identify features to explore (Part Two)\n",
    "explore_heatmat = df_explore[['tenure', 'phone_service', 'multiple_lines_cc', 'online_security_cc', 'churn']]\n",
    "# Compute the correlation matrix (all train)\n",
    "corr = explore_heatmat.corr()\n",
    "\n",
    "# Generate a mask for the upper triangle\n",
    "mask = np.triu(np.ones_like(corr, dtype=bool))\n",
    "\n",
    "# Set up the matplotlib figure\n",
    "f, ax = plt.subplots(figsize=(11, 9))\n",
    "\n",
    "# Generate a custom diverging colormap\n",
    "cmap = sns.diverging_palette(230, 20, as_cmap=True)\n",
    "\n",
    "# Draw the heatmap with the mask and correct aspect ratio\n",
    "sns.heatmap(corr, mask=mask, annot = True, cmap=cmap, vmax=.3, center=0,\n",
    "            square=True, linewidths=.5, cbar_kws={\"shrink\": .5})\n",
    "plt.show()"
   ]
  },
  {
   "cell_type": "markdown",
   "metadata": {},
   "source": [
    "### Takeaway:\n",
    "- tenure = 0.35 -\n",
    "- phone_service = Not a churn driver\n",
    "- multiple lines = Not a churn driver\n",
    "- online_security = 0.29 -"
   ]
  },
  {
   "cell_type": "code",
   "execution_count": 32,
   "metadata": {},
   "outputs": [
    {
     "data": {
      "image/png": "[encoded data removed]",
      "text/plain": [
       "<Figure size 792x648 with 2 Axes>"
      ]
     },
     "metadata": {
      "needs_background": "light"
     },
     "output_type": "display_data"
    }
   ],
   "source": [
    "# Identify features to explore (Part Three)\n",
    "explore_heatmat = df_explore[['online_backup_cc', 'device_protection_cc', 'tech_support_cc', 'streaming_tv_cc', 'churn']]\n",
    "# Compute the correlation matrix (all train)\n",
    "corr = explore_heatmat.corr()\n",
    "\n",
    "# Generate a mask for the upper triangle\n",
    "mask = np.triu(np.ones_like(corr, dtype=bool))\n",
    "\n",
    "# Set up the matplotlib figure\n",
    "f, ax = plt.subplots(figsize=(11, 9))\n",
    "\n",
    "# Generate a custom diverging colormap\n",
    "cmap = sns.diverging_palette(230, 20, as_cmap=True)\n",
    "\n",
    "# Draw the heatmap with the mask and correct aspect ratio\n",
    "sns.heatmap(corr, mask=mask, annot = True, cmap=cmap, vmax=.3, center=0,\n",
    "            square=True, linewidths=.5, cbar_kws={\"shrink\": .5})\n",
    "plt.show()"
   ]
  },
  {
   "cell_type": "markdown",
   "metadata": {},
   "source": [
    "### Takeaway:\n",
    "- online_backup = 0.20 -\n",
    "- device_protection = .18 -\n",
    "- tech_support = .28 -\n",
    "- streaming_tv = Not a churn driver"
   ]
  },
  {
   "cell_type": "code",
   "execution_count": 33,
   "metadata": {},
   "outputs": [
    {
     "data": {
      "image/png": "[encoded data removed]",
      "text/plain": [
       "<Figure size 792x648 with 2 Axes>"
      ]
     },
     "metadata": {
      "needs_background": "light"
     },
     "output_type": "display_data"
    }
   ],
   "source": [
    "# Identify features to explore (Part Four)\n",
    "explore_heatmat = df_explore[['streaming_movies_cc', 'month_to_month_contract', 'one_year_contract', 'two_year_contract', 'churn']]\n",
    "# Compute the correlation matrix (all train)\n",
    "corr = explore_heatmat.corr()\n",
    "\n",
    "# Generate a mask for the upper triangle\n",
    "mask = np.triu(np.ones_like(corr, dtype=bool))\n",
    "\n",
    "# Set up the matplotlib figure\n",
    "f, ax = plt.subplots(figsize=(11, 9))\n",
    "\n",
    "# Generate a custom diverging colormap\n",
    "cmap = sns.diverging_palette(230, 20, as_cmap=True)\n",
    "\n",
    "# Draw the heatmap with the mask and correct aspect ratio\n",
    "sns.heatmap(corr, mask=mask, annot = True, cmap=cmap, vmax=.3, center=0,\n",
    "            square=True, linewidths=.5, cbar_kws={\"shrink\": .5})\n",
    "plt.show()"
   ]
  },
  {
   "cell_type": "markdown",
   "metadata": {},
   "source": [
    "### Takeaway:\n",
    "- streaming_movies = Not a churn driver\n",
    "- month_to_month_contract = 0.41 +\n",
    "- one_year_contract = 0.18 -\n",
    "- two_year_contract = 0.30 -"
   ]
  },
  {
   "cell_type": "code",
   "execution_count": 34,
   "metadata": {},
   "outputs": [
    {
     "data": {
      "image/png": "[encoded data removed]",
      "text/plain": [
       "<Figure size 792x648 with 2 Axes>"
      ]
     },
     "metadata": {
      "needs_background": "light"
     },
     "output_type": "display_data"
    }
   ],
   "source": [
    "# Identify features to explore (Part Five)\n",
    "explore_heatmat = df_explore[['internet_service', 'tenure_years', 'paperless_billing', 'monthly_charges','churn']]\n",
    "# Compute the correlation matrix (all train)\n",
    "corr = explore_heatmat.corr()\n",
    "\n",
    "# Generate a mask for the upper triangle\n",
    "mask = np.triu(np.ones_like(corr, dtype=bool))\n",
    "\n",
    "# Set up the matplotlib figure\n",
    "f, ax = plt.subplots(figsize=(11, 9))\n",
    "\n",
    "# Generate a custom diverging colormap\n",
    "cmap = sns.diverging_palette(230, 20, as_cmap=True)\n",
    "\n",
    "# Draw the heatmap with the mask and correct aspect ratio\n",
    "sns.heatmap(corr, mask=mask, annot = True, cmap=cmap, vmax=.3, center=0,\n",
    "            square=True, linewidths=.5, cbar_kws={\"shrink\": .5})\n",
    "plt.show()"
   ]
  },
  {
   "cell_type": "markdown",
   "metadata": {},
   "source": [
    "### Takeaway:\n",
    "- internet_service = 0.23 +\n",
    "- tenure_years = 0.35 -\n",
    "- paperless_billing = 0.19 +\n",
    "- monthly_charges = 0.19 +"
   ]
  },
  {
   "cell_type": "code",
   "execution_count": 35,
   "metadata": {},
   "outputs": [
    {
     "data": {
      "image/png": "[encoded data removed]",
      "text/plain": [
       "<Figure size 792x648 with 2 Axes>"
      ]
     },
     "metadata": {
      "needs_background": "light"
     },
     "output_type": "display_data"
    }
   ],
   "source": [
    "# Identify features to explore (Part Six)\n",
    "explore_heatmat = df_explore[['total_charges', 'payment_type_cc', 'bank_transfer_auto', 'credit_card_auto','churn']]\n",
    "# Compute the correlation matrix (all train)\n",
    "corr = explore_heatmat.corr()\n",
    "\n",
    "# Generate a mask for the upper triangle\n",
    "mask = np.triu(np.ones_like(corr, dtype=bool))\n",
    "\n",
    "# Set up the matplotlib figure\n",
    "f, ax = plt.subplots(figsize=(11, 9))\n",
    "\n",
    "# Generate a custom diverging colormap\n",
    "cmap = sns.diverging_palette(230, 20, as_cmap=True)\n",
    "\n",
    "# Draw the heatmap with the mask and correct aspect ratio\n",
    "sns.heatmap(corr, mask=mask, annot = True, cmap=cmap, vmax=.3, center=0,\n",
    "            square=True, linewidths=.5, cbar_kws={\"shrink\": .5})\n",
    "plt.show()"
   ]
  },
  {
   "cell_type": "markdown",
   "metadata": {},
   "source": [
    "### Takeaway:\n",
    "- total_charges = 0.20 -\n",
    "- payment_type = not a driver of churn\n",
    "- bank_transfer = not a driver of churn\n",
    "- credit_card = not a driver of churn"
   ]
  },
  {
   "cell_type": "code",
   "execution_count": 36,
   "metadata": {},
   "outputs": [
    {
     "data": {
      "image/png": "[encoded data removed]",
      "text/plain": [
       "<Figure size 792x648 with 2 Axes>"
      ]
     },
     "metadata": {
      "needs_background": "light"
     },
     "output_type": "display_data"
    }
   ],
   "source": [
    "# Identify features to explore (Part Seven)\n",
    "explore_heatmat = df_explore[['e_check','mail_check','dsl','fiber_optic','None','churn']]\n",
    "# Compute the correlation matrix (all train)\n",
    "corr = explore_heatmat.corr()\n",
    "\n",
    "# Generate a mask for the upper triangle\n",
    "mask = np.triu(np.ones_like(corr, dtype=bool))\n",
    "\n",
    "# Set up the matplotlib figure\n",
    "f, ax = plt.subplots(figsize=(11, 9))\n",
    "\n",
    "# Generate a custom diverging colormap\n",
    "cmap = sns.diverging_palette(230, 20, as_cmap=True)\n",
    "\n",
    "# Draw the heatmap with the mask and correct aspect ratio\n",
    "sns.heatmap(corr, mask=mask, annot = True, cmap=cmap, vmax=.3, center=0,\n",
    "            square=True, linewidths=.5, cbar_kws={\"shrink\": .5})\n",
    "plt.show()"
   ]
  },
  {
   "cell_type": "markdown",
   "metadata": {},
   "source": [
    "### Takeaway so far...\n",
    "- e_check = 0.30 +\n",
    "- mail_check = not a driver of churn\n",
    "- dsl = not a driver of churn\n",
    "- fiber_optic = 0.31 +\n",
    "- No interent = 0.23 -"
   ]
  },
  {
   "cell_type": "markdown",
   "metadata": {},
   "source": [
    "### Validate findings using .corr()"
   ]
  },
  {
   "cell_type": "code",
   "execution_count": 37,
   "metadata": {},
   "outputs": [
    {
     "data": {
      "text/plain": [
       "senior_citizen              0.150889\n",
       "partner                    -0.150448\n",
       "dependents                 -0.164221\n",
       "tenure                     -0.352229\n",
       "phone_service               0.011942\n",
       "paperless_billing           0.191825\n",
       "monthly_charges             0.193356\n",
       "total_charges              -0.198324\n",
       "churn                       1.000000\n",
       "gender_cc                  -0.008612\n",
       "payment_type_cc             0.107062\n",
       "multiple_lines_cc           0.038037\n",
       "online_security_cc         -0.289309\n",
       "online_backup_cc           -0.195525\n",
       "device_protection_cc       -0.178134\n",
       "tech_support_cc            -0.282492\n",
       "streaming_tv_cc            -0.036581\n",
       "streaming_movies_cc        -0.038492\n",
       "contract_type_cc           -0.396713\n",
       "bank_transfer_auto         -0.117937\n",
       "credit_card_auto           -0.134302\n",
       "e_check                     0.301919\n",
       "mail_check                 -0.091683\n",
       "month_to_month_contract     0.405103\n",
       "one_year_contract          -0.177820\n",
       "two_year_contract          -0.302253\n",
       "internet_service_type_cc   -0.047291\n",
       "internet_service            0.227890\n",
       "dsl                        -0.124214\n",
       "fiber_optic                 0.308020\n",
       "None                       -0.227890\n",
       "tenure_years               -0.352291\n",
       "Name: churn, dtype: float64"
      ]
     },
     "execution_count": 37,
     "metadata": {},
     "output_type": "execute_result"
    }
   ],
   "source": [
    "# Cross Reference Correlations\n",
    "df_explore.corr().iloc[8]"
   ]
  },
  {
   "cell_type": "markdown",
   "metadata": {},
   "source": [
    "### Major Postive and Negative Drivers of Churn"
   ]
  },
  {
   "cell_type": "markdown",
   "metadata": {},
   "source": [
    "### 7 Positive Drivers of Churn (<.15)\n",
    "- senior_citizen = 0.15 +\n",
    "- month_to_month_contract = .41 +\n",
    "- internet_service = 0.23 +\n",
    "- paperless_billing = 0.19 +\n",
    "- monthly_charges = 0.19 +\n",
    "- e_check = 0.30 +\n",
    "- fiber_optic = 0.31 +\n",
    "\n",
    "### 12 Negative Drivers of Churn (<.15)\n",
    "- partner = 0.15 -\n",
    "- dependents = 0.16 -\n",
    "- tenure = 0.35 -\n",
    "- online_security = 0.29 -\n",
    "- online_backup = 0.20 -\n",
    "- device_protection = .18 -\n",
    "- tech_support = .28 -\n",
    "- one_year_contract = .18 -\n",
    "- two_year_contract = 0.30 -\n",
    "- tenure_years = 0.35 -\n",
    "- total_charges = 0.20 -\n",
    "- No interent = 0.23 -"
   ]
  },
  {
   "cell_type": "markdown",
   "metadata": {},
   "source": [
    "## 3 Big Takeaways\n",
    "\n",
    "#### **1. Contract Type, Fiber Optic Service, and Tenure are the 3 Largest Drives Churn (+ and -)**\n",
    "\n",
    "#### **2. Statistical modeling and literature suggest best way to reduce chrun is with tech support**\n",
    "\n",
    "#### **3. Expanding tech support services will help customer experience would be a great place to start when looking to reduce churn in the future**\n",
    " "
   ]
  },
  {
   "cell_type": "markdown",
   "metadata": {},
   "source": [
    "<div class=\"alert alert-block alert-warning\"></div>"
   ]
  },
  {
   "cell_type": "markdown",
   "metadata": {},
   "source": [
    "# Modeling: Predicting Churn\n",
    "\n",
    "- **The goal:** is to create a robust and generalizable model that is a mapping between features and a target outcome.\n",
    "\n",
    "- **The deliverable:** is a file, model.py, that contains functions for training the model (fit), predicting the target on new data, and evaluating results."
   ]
  },
  {
   "cell_type": "markdown",
   "metadata": {},
   "source": [
    "<div class=\"alert alert-block alert-warning\"></div>"
   ]
  },
  {
   "attachments": {
    "image.png": {
     "image/png": "[encoded data removed]"
    }
   },
   "cell_type": "markdown",
   "metadata": {},
   "source": [
    "## General Assumptions\n",
    "\n",
    "#### - Baseline churn is 50%.  Greater than overall, but equivilent to chrurn observed months 1 - 8\n",
    "\n",
    "\n",
    "#### - 7 Features are large (+) churn drivers and 12 Features are large (-) churn drivers\n",
    "\n",
    "\n",
    "#### - I am going to build a **balanced model** that uses the top 5 positive and top 5 negative drivers of churn\n",
    "       - month_to_month_contract\n",
    "       - e_check\n",
    "       - fiber_optic\n",
    "       - internet_service\n",
    "       - monthly_charges\n",
    "       - tenure_years\n",
    "       - dependents\n",
    "       - tech_support\n",
    "       - no_internet\n",
    "\n",
    "#### - Optimize for **Recall**, to reduce costly type II errors (perdict customer does not churn but they do)\n",
    "\n",
    "![image.png](attachment:image.png)"
   ]
  },
  {
   "cell_type": "code",
   "execution_count": 38,
   "metadata": {},
   "outputs": [],
   "source": [
    "#Importing modeling data set (w/scaled values)\n",
    "train, validate, test = prep_telco_data_model(get_telco_data(cached = True))"
   ]
  },
  {
   "cell_type": "code",
   "execution_count": 39,
   "metadata": {},
   "outputs": [
    {
     "data": {
      "text/html": [
       "<div>\n",
       "<style scoped>\n",
       "    .dataframe tbody tr th:only-of-type {\n",
       "        vertical-align: middle;\n",
       "    }\n",
       "\n",
       "    .dataframe tbody tr th {\n",
       "        vertical-align: top;\n",
       "    }\n",
       "\n",
       "    .dataframe thead th {\n",
       "        text-align: right;\n",
       "    }\n",
       "</style>\n",
       "<table border=\"1\" class=\"dataframe\">\n",
       "  <thead>\n",
       "    <tr style=\"text-align: right;\">\n",
       "      <th></th>\n",
       "      <th>customer_id</th>\n",
       "      <th>senior_citizen</th>\n",
       "      <th>partner</th>\n",
       "      <th>dependents</th>\n",
       "      <th>tenure</th>\n",
       "      <th>phone_service</th>\n",
       "      <th>paperless_billing</th>\n",
       "      <th>monthly_charges</th>\n",
       "      <th>total_charges</th>\n",
       "      <th>churn</th>\n",
       "      <th>...</th>\n",
       "      <th>e_check</th>\n",
       "      <th>mail_check</th>\n",
       "      <th>month_to_month_contract</th>\n",
       "      <th>one_year_contract</th>\n",
       "      <th>two_year_contract</th>\n",
       "      <th>internet_service</th>\n",
       "      <th>dsl</th>\n",
       "      <th>fiber_optic</th>\n",
       "      <th>None</th>\n",
       "      <th>tenure_years</th>\n",
       "    </tr>\n",
       "  </thead>\n",
       "  <tbody>\n",
       "    <tr>\n",
       "      <th>5670</th>\n",
       "      <td>2739-CCZMB</td>\n",
       "      <td>0</td>\n",
       "      <td>0</td>\n",
       "      <td>1</td>\n",
       "      <td>0.069444</td>\n",
       "      <td>1</td>\n",
       "      <td>0</td>\n",
       "      <td>0.020927</td>\n",
       "      <td>0.014048</td>\n",
       "      <td>0</td>\n",
       "      <td>...</td>\n",
       "      <td>0</td>\n",
       "      <td>0</td>\n",
       "      <td>1</td>\n",
       "      <td>0</td>\n",
       "      <td>0</td>\n",
       "      <td>0</td>\n",
       "      <td>0</td>\n",
       "      <td>0</td>\n",
       "      <td>1</td>\n",
       "      <td>0.070000</td>\n",
       "    </tr>\n",
       "    <tr>\n",
       "      <th>4152</th>\n",
       "      <td>8035-PWSEV</td>\n",
       "      <td>0</td>\n",
       "      <td>0</td>\n",
       "      <td>0</td>\n",
       "      <td>0.083333</td>\n",
       "      <td>1</td>\n",
       "      <td>1</td>\n",
       "      <td>0.707524</td>\n",
       "      <td>0.056081</td>\n",
       "      <td>0</td>\n",
       "      <td>...</td>\n",
       "      <td>1</td>\n",
       "      <td>0</td>\n",
       "      <td>1</td>\n",
       "      <td>0</td>\n",
       "      <td>0</td>\n",
       "      <td>1</td>\n",
       "      <td>0</td>\n",
       "      <td>1</td>\n",
       "      <td>0</td>\n",
       "      <td>0.083333</td>\n",
       "    </tr>\n",
       "    <tr>\n",
       "      <th>4890</th>\n",
       "      <td>6250-CGGUN</td>\n",
       "      <td>0</td>\n",
       "      <td>0</td>\n",
       "      <td>0</td>\n",
       "      <td>0.750000</td>\n",
       "      <td>1</td>\n",
       "      <td>0</td>\n",
       "      <td>0.659193</td>\n",
       "      <td>0.516310</td>\n",
       "      <td>0</td>\n",
       "      <td>...</td>\n",
       "      <td>1</td>\n",
       "      <td>0</td>\n",
       "      <td>0</td>\n",
       "      <td>1</td>\n",
       "      <td>0</td>\n",
       "      <td>1</td>\n",
       "      <td>0</td>\n",
       "      <td>1</td>\n",
       "      <td>0</td>\n",
       "      <td>0.750000</td>\n",
       "    </tr>\n",
       "    <tr>\n",
       "      <th>2391</th>\n",
       "      <td>9499-XPZXM</td>\n",
       "      <td>0</td>\n",
       "      <td>1</td>\n",
       "      <td>0</td>\n",
       "      <td>1.000000</td>\n",
       "      <td>1</td>\n",
       "      <td>0</td>\n",
       "      <td>0.463378</td>\n",
       "      <td>0.553237</td>\n",
       "      <td>0</td>\n",
       "      <td>...</td>\n",
       "      <td>0</td>\n",
       "      <td>0</td>\n",
       "      <td>0</td>\n",
       "      <td>0</td>\n",
       "      <td>1</td>\n",
       "      <td>1</td>\n",
       "      <td>1</td>\n",
       "      <td>0</td>\n",
       "      <td>0</td>\n",
       "      <td>1.000000</td>\n",
       "    </tr>\n",
       "    <tr>\n",
       "      <th>2896</th>\n",
       "      <td>2305-MRGLV</td>\n",
       "      <td>0</td>\n",
       "      <td>1</td>\n",
       "      <td>0</td>\n",
       "      <td>0.388889</td>\n",
       "      <td>1</td>\n",
       "      <td>0</td>\n",
       "      <td>0.580967</td>\n",
       "      <td>0.237818</td>\n",
       "      <td>0</td>\n",
       "      <td>...</td>\n",
       "      <td>0</td>\n",
       "      <td>0</td>\n",
       "      <td>1</td>\n",
       "      <td>0</td>\n",
       "      <td>0</td>\n",
       "      <td>1</td>\n",
       "      <td>0</td>\n",
       "      <td>1</td>\n",
       "      <td>0</td>\n",
       "      <td>0.388333</td>\n",
       "    </tr>\n",
       "  </tbody>\n",
       "</table>\n",
       "<p>5 rows × 31 columns</p>\n",
       "</div>"
      ],
      "text/plain": [
       "     customer_id  senior_citizen  partner  dependents    tenure  \\\n",
       "5670  2739-CCZMB               0        0           1  0.069444   \n",
       "4152  8035-PWSEV               0        0           0  0.083333   \n",
       "4890  6250-CGGUN               0        0           0  0.750000   \n",
       "2391  9499-XPZXM               0        1           0  1.000000   \n",
       "2896  2305-MRGLV               0        1           0  0.388889   \n",
       "\n",
       "      phone_service  paperless_billing  monthly_charges  total_charges  churn  \\\n",
       "5670              1                  0         0.020927       0.014048      0   \n",
       "4152              1                  1         0.707524       0.056081      0   \n",
       "4890              1                  0         0.659193       0.516310      0   \n",
       "2391              1                  0         0.463378       0.553237      0   \n",
       "2896              1                  0         0.580967       0.237818      0   \n",
       "\n",
       "      ...  e_check  mail_check  month_to_month_contract  one_year_contract  \\\n",
       "5670  ...        0           0                        1                  0   \n",
       "4152  ...        1           0                        1                  0   \n",
       "4890  ...        1           0                        0                  1   \n",
       "2391  ...        0           0                        0                  0   \n",
       "2896  ...        0           0                        1                  0   \n",
       "\n",
       "      two_year_contract  internet_service  dsl  fiber_optic  None  \\\n",
       "5670                  0                 0    0            0     1   \n",
       "4152                  0                 1    0            1     0   \n",
       "4890                  0                 1    0            1     0   \n",
       "2391                  1                 1    1            0     0   \n",
       "2896                  0                 1    0            1     0   \n",
       "\n",
       "      tenure_years  \n",
       "5670      0.070000  \n",
       "4152      0.083333  \n",
       "4890      0.750000  \n",
       "2391      1.000000  \n",
       "2896      0.388333  \n",
       "\n",
       "[5 rows x 31 columns]"
      ]
     },
     "execution_count": 39,
     "metadata": {},
     "output_type": "execute_result"
    }
   ],
   "source": [
    "train.head()"
   ]
  },
  {
   "cell_type": "markdown",
   "metadata": {},
   "source": [
    "# Logistic Regression Model"
   ]
  },
  {
   "cell_type": "code",
   "execution_count": 40,
   "metadata": {},
   "outputs": [
    {
     "name": "stdout",
     "output_type": "stream",
     "text": [
      "Accuracy of Logistic Classifier on training set: 0.80\n",
      "              precision    recall  f1-score   support\n",
      "\n",
      "           0       0.84      0.90      0.87      2897\n",
      "           1       0.65      0.51      0.57      1046\n",
      "\n",
      "    accuracy                           0.80      3943\n",
      "   macro avg       0.74      0.71      0.72      3943\n",
      "weighted avg       0.79      0.80      0.79      3943\n",
      "\n"
     ]
    }
   ],
   "source": [
    "# Logistic Model\n",
    "train, validate, test = prep_telco_data_model(get_telco_data(cached = True))\n",
    "X_train_1 = train[['month_to_month_contract','e_check', 'fiber_optic', 'internet_service', 'monthly_charges','tenure_years','tech_support_cc','dependents','total_charges','None']]\n",
    "y_train = train.churn\n",
    "\n",
    "# Log Function\n",
    "log = LogisticRegression(C=1, random_state = 123, solver='lbfgs')\n",
    "log.fit(X_train_1, y_train)\n",
    "\n",
    "# make a prediction with traning data\n",
    "y_pred_1 = log.predict(X_train_1)\n",
    "# estimate prob of churn with training data\n",
    "y_pred_proba_1 = log.predict_proba(X_train_1)\n",
    "\n",
    "print('Accuracy of Logistic Classifier on training set: {:.2f}'\n",
    "     .format(log.score(X_train_1, y_train)))\n",
    "print(classification_report(y_train, y_pred_1))"
   ]
  },
  {
   "cell_type": "markdown",
   "metadata": {},
   "source": [
    "## Findings:\n",
    "\n",
    "- 80% Accuracy no matter what adjustments were made to model parameters\n",
    "- 51% Recall :("
   ]
  },
  {
   "cell_type": "markdown",
   "metadata": {},
   "source": [
    "# Decision Tree Model"
   ]
  },
  {
   "cell_type": "code",
   "execution_count": 41,
   "metadata": {},
   "outputs": [
    {
     "name": "stdout",
     "output_type": "stream",
     "text": [
      "Accuracy of Logistic Classifier on training set: 0.88\n",
      "              precision    recall  f1-score   support\n",
      "\n",
      "           0       0.91      0.93      0.92      2897\n",
      "           1       0.80      0.74      0.77      1046\n",
      "\n",
      "    accuracy                           0.88      3943\n",
      "   macro avg       0.85      0.84      0.84      3943\n",
      "weighted avg       0.88      0.88      0.88      3943\n",
      "\n"
     ]
    }
   ],
   "source": [
    "# Decision Tree Model\n",
    "train, validate, test = prep_telco_data_model(get_telco_data(cached = True))\n",
    "X_train_2 = train[['month_to_month_contract','e_check', 'fiber_optic', 'internet_service', 'monthly_charges','tenure_years','tech_support_cc','dependents','total_charges','None']]\n",
    "y_train = train.churn\n",
    "\n",
    "# Decision Tree Function\n",
    "clf = DecisionTreeClassifier(max_depth=10, random_state=123)\n",
    "clf.fit(X_train_2, y_train)\n",
    "\n",
    "#make a prediction with traning data\n",
    "y_pred_2 = clf.predict(X_train_2)\n",
    "#estimate prob of churn with training data\n",
    "y_pred_proba_2 = clf.predict_proba(X_train_2)\n",
    "\n",
    "print('Accuracy of Logistic Classifier on training set: {:.2f}'\n",
    "     .format(clf.score(X_train_2, y_train)))\n",
    "print(classification_report(y_train, y_pred_2))"
   ]
  },
  {
   "cell_type": "markdown",
   "metadata": {},
   "source": [
    "## Findings:\n",
    "- with max_depth of 3 equivlent accuracy(80%), worse recall for positive churn\n",
    "- with max_depth of 10 better accuracy (88%), better recall and f1 score\n",
    "- 74% Recall :)\n"
   ]
  },
  {
   "cell_type": "markdown",
   "metadata": {},
   "source": [
    "# Random Forrest Model"
   ]
  },
  {
   "cell_type": "code",
   "execution_count": 42,
   "metadata": {},
   "outputs": [
    {
     "name": "stdout",
     "output_type": "stream",
     "text": [
      "Accuracy of Logistic Classifier on training set: 0.83\n",
      "              precision    recall  f1-score   support\n",
      "\n",
      "           0       0.85      0.93      0.89      2897\n",
      "           1       0.74      0.55      0.63      1046\n",
      "\n",
      "    accuracy                           0.83      3943\n",
      "   macro avg       0.80      0.74      0.76      3943\n",
      "weighted avg       0.82      0.83      0.82      3943\n",
      "\n"
     ]
    }
   ],
   "source": [
    "# Random Forrest Model\n",
    "train, validate, test = prep_telco_data_model(get_telco_data(cached = True))\n",
    "X_train_3 = train[['month_to_month_contract','e_check', 'fiber_optic', 'internet_service', 'monthly_charges','tenure_years','tech_support_cc','dependents','total_charges','None']]\n",
    "y_train = train.churn\n",
    "\n",
    "# Random Forrest Function\n",
    "rf = RandomForestClassifier(bootstrap=True, \n",
    "                            class_weight=None, \n",
    "                            criterion='gini',\n",
    "                            min_samples_leaf=10,\n",
    "                            n_estimators=100,\n",
    "                            max_depth=20, \n",
    "                            random_state=123)\n",
    "\n",
    "rf.fit(X_train_3, y_train)\n",
    "\n",
    "#make a prediction with traning data\n",
    "y_pred_3 = rf.predict(X_train_3)\n",
    "#estimate prob of churn with training data\n",
    "y_pred_proba_3 = rf.predict_proba(X_train_3)\n",
    "\n",
    "print('Accuracy of Logistic Classifier on training set: {:.2f}'\n",
    "     .format(rf.score(X_train_3, y_train)))\n",
    "print(classification_report(y_train, y_pred_3))"
   ]
  },
  {
   "cell_type": "markdown",
   "metadata": {},
   "source": [
    "## Findings\n",
    "- No Matter how I fine tune the function it does not give me the f1 score I am looking for\n",
    "- Accuray is ok (83%)\n",
    "- 55% recall :("
   ]
  },
  {
   "cell_type": "markdown",
   "metadata": {},
   "source": [
    "# KNN Model"
   ]
  },
  {
   "cell_type": "code",
   "execution_count": 43,
   "metadata": {},
   "outputs": [
    {
     "name": "stdout",
     "output_type": "stream",
     "text": [
      "Accuracy of Logistic Classifier on training set: 0.84\n",
      "              precision    recall  f1-score   support\n",
      "\n",
      "           0       0.87      0.93      0.90      2897\n",
      "           1       0.75      0.61      0.67      1046\n",
      "\n",
      "    accuracy                           0.84      3943\n",
      "   macro avg       0.81      0.77      0.78      3943\n",
      "weighted avg       0.84      0.84      0.84      3943\n",
      "\n"
     ]
    }
   ],
   "source": [
    "# KNN Model\n",
    "train, validate, test = prep_telco_data_model(get_telco_data(cached = True))\n",
    "X_train_4 = train[['month_to_month_contract','e_check', 'fiber_optic', 'internet_service', 'monthly_charges','tenure_years','tech_support_cc','dependents','total_charges','None']]\n",
    "y_train = train.churn\n",
    "\n",
    "# Random Forrest Function\n",
    "knn = KNeighborsClassifier(n_neighbors=5, weights='uniform')\n",
    "\n",
    "knn.fit(X_train_4, y_train)\n",
    "\n",
    "#make a prediction with traning data\n",
    "y_pred_4 = knn.predict(X_train_4)\n",
    "#estimate prob of churn with training data\n",
    "y_pred_proba_4 = knn.predict_proba(X_train_4)\n",
    "\n",
    "print('Accuracy of Logistic Classifier on training set: {:.2f}'\n",
    "     .format(knn.score(X_train_4, y_train)))\n",
    "print(classification_report(y_train, y_pred_4))"
   ]
  },
  {
   "cell_type": "markdown",
   "metadata": {},
   "source": [
    "## Findings:\n",
    "- with n =5, good accuracy(.84) and f1 score (.67)\n",
    "- 61% recall :|\n"
   ]
  },
  {
   "cell_type": "markdown",
   "metadata": {},
   "source": [
    "<div class=\"alert alert-block alert-warning\"></div>"
   ]
  },
  {
   "cell_type": "markdown",
   "metadata": {},
   "source": [
    "## Validate Data: (Top 3 Models)\n",
    "\n",
    "### - I chose to validate using the logistic, decision tree, and knn models because they provided me with the greatest overall values in accuracy and recall"
   ]
  },
  {
   "cell_type": "code",
   "execution_count": 44,
   "metadata": {},
   "outputs": [],
   "source": [
    "# Train models on validate\n",
    "\n",
    "X_validate_1 = validate[['month_to_month_contract','e_check', 'fiber_optic', 'internet_service', 'monthly_charges','tenure_years','tech_support_cc','dependents','total_charges','None']]\n",
    "X_validate_2 = validate[['month_to_month_contract','e_check', 'fiber_optic', 'internet_service', 'monthly_charges','tenure_years','tech_support_cc','dependents','total_charges','None']]\n",
    "X_validate_4 = validate[['month_to_month_contract','e_check', 'fiber_optic', 'internet_service', 'monthly_charges','tenure_years','tech_support_cc','dependents','total_charges','None']]\n",
    "y_validate = validate.churn\n",
    "\n",
    "#make a prediction with validate data\n",
    "y_pred_1 = log.predict(X_validate_1)\n",
    "y_pred_2 = clf.predict(X_validate_2)\n",
    "y_pred_4 = knn.predict(X_validate_4)\n",
    "\n",
    "#estimate prob of churn with training data\n",
    "y_pred_proba_1 = log.predict_proba(X_validate_1)\n",
    "y_pred_proba_2 = clf.predict_proba(X_validate_2)\n",
    "y_pred_proba_4 = knn.predict_proba(X_validate_4)"
   ]
  },
  {
   "cell_type": "code",
   "execution_count": 45,
   "metadata": {},
   "outputs": [
    {
     "name": "stdout",
     "output_type": "stream",
     "text": [
      "Accuracy of Logistic Classifier on validate set: 0.80\n",
      "              precision    recall  f1-score   support\n",
      "\n",
      "           0       0.84      0.91      0.87      1242\n",
      "           1       0.67      0.52      0.59       449\n",
      "\n",
      "    accuracy                           0.80      1691\n",
      "   macro avg       0.76      0.71      0.73      1691\n",
      "weighted avg       0.79      0.80      0.80      1691\n",
      "\n"
     ]
    }
   ],
   "source": [
    "# Logistic Model Preformance\n",
    "print('Accuracy of Logistic Classifier on validate set: {:.2f}'\n",
    "     .format(log.score(X_validate_1, y_validate)))\n",
    "print(classification_report(y_validate, y_pred_1))"
   ]
  },
  {
   "cell_type": "code",
   "execution_count": 46,
   "metadata": {},
   "outputs": [
    {
     "name": "stdout",
     "output_type": "stream",
     "text": [
      "Accuracy of Decision Tree Classifier on validate set: 0.77\n",
      "              precision    recall  f1-score   support\n",
      "\n",
      "           0       0.83      0.87      0.85      1242\n",
      "           1       0.58      0.51      0.54       449\n",
      "\n",
      "    accuracy                           0.77      1691\n",
      "   macro avg       0.70      0.69      0.69      1691\n",
      "weighted avg       0.76      0.77      0.77      1691\n",
      "\n"
     ]
    }
   ],
   "source": [
    "# Decision Tree Preformance\n",
    "print('Accuracy of Decision Tree Classifier on validate set: {:.2f}'\n",
    "     .format(clf.score(X_validate_2, y_validate)))\n",
    "print(classification_report(y_validate, y_pred_2))"
   ]
  },
  {
   "cell_type": "code",
   "execution_count": 47,
   "metadata": {},
   "outputs": [
    {
     "name": "stdout",
     "output_type": "stream",
     "text": [
      "Accuracy of KNN Classifier on validate set: 0.78\n",
      "              precision    recall  f1-score   support\n",
      "\n",
      "           0       0.82      0.88      0.85      1242\n",
      "           1       0.60      0.48      0.53       449\n",
      "\n",
      "    accuracy                           0.78      1691\n",
      "   macro avg       0.71      0.68      0.69      1691\n",
      "weighted avg       0.76      0.78      0.77      1691\n",
      "\n"
     ]
    }
   ],
   "source": [
    "# KNN Preformance\n",
    "print('Accuracy of KNN Classifier on validate set: {:.2f}'\n",
    "     .format(knn.score(X_validate_4, y_validate)))\n",
    "print(classification_report(y_validate, y_pred_4))"
   ]
  },
  {
   "cell_type": "markdown",
   "metadata": {},
   "source": [
    "## Findings:\n",
    "### - Logistic model had best overall accuray and recall (52%) on validate data.  Will use logistic model on test data"
   ]
  },
  {
   "cell_type": "markdown",
   "metadata": {},
   "source": [
    "## Test Data: (Top Model)"
   ]
  },
  {
   "cell_type": "code",
   "execution_count": 48,
   "metadata": {},
   "outputs": [
    {
     "name": "stdout",
     "output_type": "stream",
     "text": [
      "Accuracy of Logistic Classifier on test set: 0.79\n"
     ]
    }
   ],
   "source": [
    "# Test Data\n",
    "X_test = test[['month_to_month_contract','e_check', 'fiber_optic', 'internet_service', 'monthly_charges','tenure_years','tech_support_cc','dependents','total_charges','None']]\n",
    "y_test = test.churn\n",
    "\n",
    "\n",
    "y_pred_test = log.predict(X_test)\n",
    "\n",
    "print('Accuracy of Logistic Classifier on test set: {:.2f}'\n",
    "     .format(log.score(X_test, y_test)))"
   ]
  },
  {
   "cell_type": "code",
   "execution_count": 49,
   "metadata": {},
   "outputs": [
    {
     "name": "stdout",
     "output_type": "stream",
     "text": [
      "[[923 112]\n",
      " [185 189]]\n",
      "Classification Accuracy: Overall, how often is the classifier correct\n",
      "0.7892122072391767\n",
      "Classification Error: Overall, how often is the classifier incorrect\n",
      "0.21078779276082327\n",
      "Sensitivity: When the actual value is positive, how often is the prediction correct\n",
      "0.5053475935828877\n",
      "Specificity: When the actual value is negative, how often is the prediction correct\n",
      "0.8917874396135266\n",
      "False Positive Rate: When the actual value is negative, how often is the prediction incorrect\n",
      "0.10821256038647344\n",
      "Precision: When a positive value is predicted, how often is the prediction correct\n",
      "0.627906976744186\n",
      "              precision    recall  f1-score   support\n",
      "\n",
      "           0       0.83      0.89      0.86      1035\n",
      "           1       0.63      0.51      0.56       374\n",
      "\n",
      "    accuracy                           0.79      1409\n",
      "   macro avg       0.73      0.70      0.71      1409\n",
      "weighted avg       0.78      0.79      0.78      1409\n",
      "\n"
     ]
    }
   ],
   "source": [
    "confusion = confusion_matrix(y_test, y_pred_test)\n",
    "print(confusion)\n",
    "#[row, column]\n",
    "TP = confusion[1, 1]\n",
    "TN = confusion[0, 0]\n",
    "FP = confusion[0, 1]\n",
    "FN = confusion[1, 0]\n",
    "\n",
    "# Classification Accuracy: Overall, how often is the classifier correct?\n",
    "\n",
    "# use float to perform true division, not integer division\n",
    "print(\"Classification Accuracy: Overall, how often is the classifier correct\")\n",
    "print((TP + TN) / float(TP + TN + FP + FN))\n",
    "\n",
    "# Classification Error: Overall, how often is the classifier incorrect?\n",
    "\n",
    "classification_error = (FP + FN) / float(TP + TN + FP + FN)\n",
    "print(\"Classification Error: Overall, how often is the classifier incorrect\")\n",
    "print(classification_error)\n",
    "\n",
    "# Sensitivity: When the actual value is positive, how often is the prediction correct?\n",
    "\n",
    "sensitivity = TP / float(FN + TP)\n",
    "print(\"Sensitivity: When the actual value is positive, how often is the prediction correct\")\n",
    "print(sensitivity)\n",
    "\n",
    "# Specificity: When the actual value is negative, how often is the prediction correct?\n",
    "\n",
    "specificity = TN / (TN + FP)\n",
    "print(\"Specificity: When the actual value is negative, how often is the prediction correct\")\n",
    "print(specificity)\n",
    "\n",
    "# False Positive Rate: When the actual value is negative, how often is the prediction incorrect?\n",
    "\n",
    "false_positive_rate = FP / float(TN + FP)\n",
    "print(\"False Positive Rate: When the actual value is negative, how often is the prediction incorrect\")\n",
    "print(false_positive_rate)\n",
    "\n",
    "# Precision: When a positive value is predicted, how often is the prediction correct?\n",
    "\n",
    "precision = TP / float(TP + FP)\n",
    "print(\"Precision: When a positive value is predicted, how often is the prediction correct\")\n",
    "print(precision)\n",
    "\n",
    "print(classification_report(y_test, y_pred_test))"
   ]
  },
  {
   "cell_type": "code",
   "execution_count": 50,
   "metadata": {},
   "outputs": [
    {
     "data": {
      "text/plain": [
       "0.4946524064171123"
      ]
     },
     "execution_count": 50,
     "metadata": {},
     "output_type": "execute_result"
    }
   ],
   "source": [
    "# False negative rate (Predict No Churn/ Churn)\n",
    "FNR = FN/(TP+FN)\n",
    "FNR"
   ]
  },
  {
   "cell_type": "markdown",
   "metadata": {},
   "source": [
    "<div class=\"alert alert-block alert-warning\"></div>"
   ]
  },
  {
   "cell_type": "markdown",
   "metadata": {},
   "source": [
    "# Delivery:\n",
    "\n",
    "- **The goal:** is to enable others to use what you have learned or developed through all the previous stages.\n",
    "\n",
    "- **The deliverable:** Summary, recomentaions, and CSV file with customer ID and model predictions:"
   ]
  },
  {
   "cell_type": "markdown",
   "metadata": {},
   "source": [
    "<div class=\"alert alert-block alert-warning\"></div>"
   ]
  },
  {
   "cell_type": "markdown",
   "metadata": {},
   "source": [
    "# Summary"
   ]
  },
  {
   "cell_type": "markdown",
   "metadata": {},
   "source": [
    "1. Identified 19 variables with  >=  0.15 correlation to churn\n",
    "\n",
    "\n",
    "2. Statiscial testing (Chi Squared Test of Independence) was preformed on two variables of interest\n",
    "   - internet_service_type and \n",
    "   - tech_support. \n",
    "   \n",
    "   \n",
    "3. The null hypothosis of (independence) was rejected for each variable providing insight in to model building\n",
    "\n",
    "\n",
    "4. Machine learning models were constructed integrating top 10 correlated variables (5 + and 5 -)\n",
    "   - logistic model \n",
    "   - decision tree\n",
    "   - random forrest \n",
    "   - knn  \n",
    "\n",
    "\n",
    "4. Models were evaluated against a baseline accuracy of 50% and optimized for Recall.  \n",
    "\n",
    "\n",
    "5. After testing and validation a logistic model was selected, and when run on unseen test data provided a 20% increase in overall accuracy with a Recall score of 51%.  \n",
    "\n",
    "\n",
    "6. This Recall score is not optimal because when the model makes costly type II errors 50% of the time. "
   ]
  },
  {
   "cell_type": "markdown",
   "metadata": {},
   "source": [
    "# Recommendations"
   ]
  },
  {
   "cell_type": "markdown",
   "metadata": {},
   "source": [
    "- **Observations:** Churn is a problem, the top 3 drivers of churn at Telco\n",
    "   - month to month contracts\n",
    "   - e checks\n",
    "   - fiber optic internet service\n",
    "   \n",
    "__________________________________________________________________________________________________________________   \n",
    "   - **Recommendation One:** Increase outreach for tech support\n",
    "     - The majority of customers who leave have internet service, specifically fiber optic service\n",
    "     - Literature suggests better customer service leads to a reduction in churn\n",
    "   \n",
    "   \n",
    "   - **Recommendation Two:** Have finance examine payment methods\n",
    "     - Churn is high in customers who pay using e checks\n",
    "     - Need more research on customer base, who they are and relationship between e-check and churn\n",
    "     \n",
    "     \n",
    "   - **Recommendation Three:** Review month to month contracts\n",
    "     - Churn rate is greater than 50% for first 8 months of service\n",
    "     - Promotions or target marketing may create incentives to keep cutomer base"
   ]
  },
  {
   "cell_type": "markdown",
   "metadata": {},
   "source": [
    "# Experimental Design Improvements / Questions for Further Exploration"
   ]
  },
  {
   "cell_type": "markdown",
   "metadata": {},
   "source": [
    "1. By trying to build a balanced model (5 + and 5 - drivers) I may have negatvily affected my origional intent, a high recall score.  \n",
    "\n",
    "\n",
    "2. Next Steps: A model with 10 values that only positivly correlated with churn may produce improved result\n",
    "\n",
    "\n",
    "3. Questions to explore: Other positive customer interactions to collect and quantify (besides tech_support) to better understand relationship between churn and customer dissatisfcation"
   ]
  },
  {
   "cell_type": "markdown",
   "metadata": {},
   "source": [
    "<div class=\"alert alert-block alert-warning\"></div>"
   ]
  },
  {
   "cell_type": "markdown",
   "metadata": {},
   "source": [
    "## Steps to Produce CSV with Customer ID and Predicted Churn"
   ]
  },
  {
   "cell_type": "code",
   "execution_count": 52,
   "metadata": {},
   "outputs": [],
   "source": [
    "# Create eval_df and rename the train survived column target.\n",
    "train, validate, test = prep_telco_data_model(get_telco_data(cached = True))\n",
    "predict_churn_df = train[['churn']].rename(columns={'churn': 'target'}, inplace = True)"
   ]
  },
  {
   "cell_type": "code",
   "execution_count": 53,
   "metadata": {},
   "outputs": [],
   "source": [
    "# this cell creates the best model\n",
    "X_train = train[['month_to_month_contract','e_check', 'fiber_optic', 'internet_service', 'monthly_charges','tenure_years','tech_support_cc','dependents','total_charges','None']]\n",
    "y_train = train.churn\n",
    "\n",
    "log = LogisticRegression(C=1, random_state = 123, solver='lbfgs')\n",
    "log.fit(X_train, y_train)\n",
    "\n",
    "# call in a complete data frame to test\n",
    "\n",
    "X = df_explore[['month_to_month_contract','e_check', 'fiber_optic', 'internet_service', 'monthly_charges','tenure_years','tech_support_cc','dependents','total_charges','None']]\n",
    "\n",
    "# model.predict(X) gives us predictions for the entire dataframe\n",
    "df_explore['prediction'] = log.predict(X)"
   ]
  },
  {
   "cell_type": "code",
   "execution_count": 54,
   "metadata": {},
   "outputs": [],
   "source": [
    "# Rename churn as target\n",
    "df_explore.rename(columns={'churn':'target'}, inplace = True)"
   ]
  },
  {
   "cell_type": "code",
   "execution_count": 55,
   "metadata": {},
   "outputs": [],
   "source": [
    "# Clean dataframe\n",
    "df_explore.drop(columns = ['gender', 'senior_citizen', 'partner', 'dependents', 'tenure', 'phone_service', 'multiple_lines', 'online_security', 'online_backup','device_protection','tech_support','streaming_tv','streaming_movies','paperless_billing','monthly_charges','total_charges','contract_type','internet_service_type','payment_type','gender_cc','payment_type_cc','multiple_lines_cc','online_security_cc','online_backup_cc', 'device_protection', 'month_to_month_contract','one_year_contract', 'two_year_contract','internet_service_type_cc', 'internet_service', 'dsl', 'fiber_optic', 'None', 'tenure_years','device_protection_cc','tech_support_cc','streaming_tv_cc','streaming_movies_cc','contract_type_cc','bank_transfer_auto', 'credit_card_auto','e_check','mail_check'], inplace = True)"
   ]
  },
  {
   "cell_type": "code",
   "execution_count": 56,
   "metadata": {},
   "outputs": [],
   "source": [
    "# Export to CVS file\n",
    "df_explore.to_csv('predictions.csv')"
   ]
  }
 ],
 "metadata": {
  "kernelspec": {
   "display_name": "Python 3",
   "language": "python",
   "name": "python3"
  },
  "language_info": {
   "codemirror_mode": {
    "name": "ipython",
    "version": 3
   },
   "file_extension": ".py",
   "mimetype": "text/x-python",
   "name": "python",
   "nbconvert_exporter": "python",
   "pygments_lexer": "ipython3",
   "version": "3.8.3"
  }
 },
 "nbformat": 4,
 "nbformat_minor": 4
}
