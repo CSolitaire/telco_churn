{
 "cells": [
  {
   "cell_type": "markdown",
   "metadata": {},
   "source": [
    "# Project Corrections\n",
    "\n",
    "**This notebook contains a corrected version of the Classifiction Project**"
   ]
  },
  {
   "cell_type": "code",
   "execution_count": 1,
   "metadata": {},
   "outputs": [],
   "source": [
    "import numpy as np\n",
    "import pandas as pd\n",
    "import seaborn as sns\n",
    "import matplotlib.pyplot as plt\n",
    "from math import sqrt\n",
    "from scipy import stats\n",
    "\n",
    "from sklearn.model_selection import train_test_split\n",
    "from sklearn.tree import DecisionTreeClassifier\n",
    "from sklearn.linear_model import LogisticRegression\n",
    "from sklearn.ensemble import RandomForestClassifier\n",
    "from sklearn.neighbors import KNeighborsClassifier\n",
    "from sklearn.metrics import classification_report,confusion_matrix,accuracy_score,recall_score,precision_score\n",
    "\n",
    "import warnings\n",
    "warnings.filterwarnings(\"ignore\")\n",
    "\n",
    "from acquire import get_telco_data\n",
    "from prepare import prep_telco_data_explore\n",
    "from prepare import prep_telco_data_model"
   ]
  },
  {
   "cell_type": "markdown",
   "metadata": {},
   "source": [
    "<div class=\"alert alert-block alert-success\"></div>"
   ]
  },
  {
   "cell_type": "markdown",
   "metadata": {},
   "source": [
    "# Step #1. Plan:\n",
    "\n",
    "**Goal:**\n",
    "- Business objective:\n",
    "  1. Identify top 3 drivers of churn\n",
    "  2. Create model to predict curn w/customer data\n",
    "    \n",
    "- Project objective: \n",
    "  1. Predict with >73% accuracy whether a customer will churn.\n",
    "\n",
    "- Deliverable: \n",
    "  1. Deliver a model with the estimated accuracy score.\n",
    "\n",
    "- Hypotheses:\n",
    "  1. Are those with fiber optic service more likely to churn?\n",
    "\n",
    "  1. Are those utilizing tech support less likely to churn? "
   ]
  },
  {
   "cell_type": "markdown",
   "metadata": {},
   "source": [
    "<div class=\"alert alert-block alert-success\"></div>"
   ]
  },
  {
   "cell_type": "markdown",
   "metadata": {},
   "source": [
    "# Step #2. Acquire\n",
    "**Run through basic data overview**\n",
    "- .shape\n",
    "- .head()\n",
    "- .describe()\n",
    "- .info()\n",
    "- .isnull().sum()"
   ]
  },
  {
   "cell_type": "code",
   "execution_count": 2,
   "metadata": {},
   "outputs": [],
   "source": [
    "# Create dataframe from csv\n",
    "\n",
    "df = get_telco_data(cached = True)"
   ]
  },
  {
   "cell_type": "code",
   "execution_count": 3,
   "metadata": {},
   "outputs": [
    {
     "data": {
      "text/plain": [
       "(7043, 27)"
      ]
     },
     "execution_count": 3,
     "metadata": {},
     "output_type": "execute_result"
    }
   ],
   "source": [
    "# .shape() gives a basic shape of the data\n",
    "\n",
    "df.shape"
   ]
  },
  {
   "cell_type": "code",
   "execution_count": 4,
   "metadata": {},
   "outputs": [
    {
     "data": {
      "text/html": [
       "<div>\n",
       "<style scoped>\n",
       "    .dataframe tbody tr th:only-of-type {\n",
       "        vertical-align: middle;\n",
       "    }\n",
       "\n",
       "    .dataframe tbody tr th {\n",
       "        vertical-align: top;\n",
       "    }\n",
       "\n",
       "    .dataframe thead th {\n",
       "        text-align: right;\n",
       "    }\n",
       "</style>\n",
       "<table border=\"1\" class=\"dataframe\">\n",
       "  <thead>\n",
       "    <tr style=\"text-align: right;\">\n",
       "      <th></th>\n",
       "      <th>customer_id</th>\n",
       "      <th>gender</th>\n",
       "      <th>senior_citizen</th>\n",
       "      <th>partner</th>\n",
       "      <th>dependents</th>\n",
       "      <th>tenure</th>\n",
       "      <th>phone_service</th>\n",
       "      <th>multiple_lines</th>\n",
       "      <th>internet_service_type_id</th>\n",
       "      <th>online_security</th>\n",
       "      <th>...</th>\n",
       "      <th>payment_type_id</th>\n",
       "      <th>monthly_charges</th>\n",
       "      <th>total_charges</th>\n",
       "      <th>churn</th>\n",
       "      <th>contract_type_id</th>\n",
       "      <th>contract_type</th>\n",
       "      <th>internet_service_type_id</th>\n",
       "      <th>internet_service_type</th>\n",
       "      <th>payment_type_id</th>\n",
       "      <th>payment_type</th>\n",
       "    </tr>\n",
       "  </thead>\n",
       "  <tbody>\n",
       "    <tr>\n",
       "      <th>0</th>\n",
       "      <td>0003-MKNFE</td>\n",
       "      <td>Male</td>\n",
       "      <td>0</td>\n",
       "      <td>No</td>\n",
       "      <td>No</td>\n",
       "      <td>9</td>\n",
       "      <td>Yes</td>\n",
       "      <td>Yes</td>\n",
       "      <td>1</td>\n",
       "      <td>No</td>\n",
       "      <td>...</td>\n",
       "      <td>2</td>\n",
       "      <td>59.9</td>\n",
       "      <td>542.4</td>\n",
       "      <td>No</td>\n",
       "      <td>1</td>\n",
       "      <td>Month-to-month</td>\n",
       "      <td>1</td>\n",
       "      <td>DSL</td>\n",
       "      <td>2</td>\n",
       "      <td>Mailed check</td>\n",
       "    </tr>\n",
       "    <tr>\n",
       "      <th>1</th>\n",
       "      <td>0013-MHZWF</td>\n",
       "      <td>Female</td>\n",
       "      <td>0</td>\n",
       "      <td>No</td>\n",
       "      <td>Yes</td>\n",
       "      <td>9</td>\n",
       "      <td>Yes</td>\n",
       "      <td>No</td>\n",
       "      <td>1</td>\n",
       "      <td>No</td>\n",
       "      <td>...</td>\n",
       "      <td>4</td>\n",
       "      <td>69.4</td>\n",
       "      <td>571.45</td>\n",
       "      <td>No</td>\n",
       "      <td>1</td>\n",
       "      <td>Month-to-month</td>\n",
       "      <td>1</td>\n",
       "      <td>DSL</td>\n",
       "      <td>4</td>\n",
       "      <td>Credit card (automatic)</td>\n",
       "    </tr>\n",
       "    <tr>\n",
       "      <th>2</th>\n",
       "      <td>0015-UOCOJ</td>\n",
       "      <td>Female</td>\n",
       "      <td>1</td>\n",
       "      <td>No</td>\n",
       "      <td>No</td>\n",
       "      <td>7</td>\n",
       "      <td>Yes</td>\n",
       "      <td>No</td>\n",
       "      <td>1</td>\n",
       "      <td>Yes</td>\n",
       "      <td>...</td>\n",
       "      <td>1</td>\n",
       "      <td>48.2</td>\n",
       "      <td>340.35</td>\n",
       "      <td>No</td>\n",
       "      <td>1</td>\n",
       "      <td>Month-to-month</td>\n",
       "      <td>1</td>\n",
       "      <td>DSL</td>\n",
       "      <td>1</td>\n",
       "      <td>Electronic check</td>\n",
       "    </tr>\n",
       "    <tr>\n",
       "      <th>3</th>\n",
       "      <td>0023-HGHWL</td>\n",
       "      <td>Male</td>\n",
       "      <td>1</td>\n",
       "      <td>No</td>\n",
       "      <td>No</td>\n",
       "      <td>1</td>\n",
       "      <td>No</td>\n",
       "      <td>No phone service</td>\n",
       "      <td>1</td>\n",
       "      <td>No</td>\n",
       "      <td>...</td>\n",
       "      <td>1</td>\n",
       "      <td>25.1</td>\n",
       "      <td>25.1</td>\n",
       "      <td>Yes</td>\n",
       "      <td>1</td>\n",
       "      <td>Month-to-month</td>\n",
       "      <td>1</td>\n",
       "      <td>DSL</td>\n",
       "      <td>1</td>\n",
       "      <td>Electronic check</td>\n",
       "    </tr>\n",
       "    <tr>\n",
       "      <th>4</th>\n",
       "      <td>0032-PGELS</td>\n",
       "      <td>Female</td>\n",
       "      <td>0</td>\n",
       "      <td>Yes</td>\n",
       "      <td>Yes</td>\n",
       "      <td>1</td>\n",
       "      <td>No</td>\n",
       "      <td>No phone service</td>\n",
       "      <td>1</td>\n",
       "      <td>Yes</td>\n",
       "      <td>...</td>\n",
       "      <td>3</td>\n",
       "      <td>30.5</td>\n",
       "      <td>30.5</td>\n",
       "      <td>Yes</td>\n",
       "      <td>1</td>\n",
       "      <td>Month-to-month</td>\n",
       "      <td>1</td>\n",
       "      <td>DSL</td>\n",
       "      <td>3</td>\n",
       "      <td>Bank transfer (automatic)</td>\n",
       "    </tr>\n",
       "  </tbody>\n",
       "</table>\n",
       "<p>5 rows × 27 columns</p>\n",
       "</div>"
      ],
      "text/plain": [
       "  customer_id  gender  senior_citizen partner dependents  tenure  \\\n",
       "0  0003-MKNFE    Male               0      No         No       9   \n",
       "1  0013-MHZWF  Female               0      No        Yes       9   \n",
       "2  0015-UOCOJ  Female               1      No         No       7   \n",
       "3  0023-HGHWL    Male               1      No         No       1   \n",
       "4  0032-PGELS  Female               0     Yes        Yes       1   \n",
       "\n",
       "  phone_service    multiple_lines internet_service_type_id online_security  \\\n",
       "0           Yes               Yes                        1              No   \n",
       "1           Yes                No                        1              No   \n",
       "2           Yes                No                        1             Yes   \n",
       "3            No  No phone service                        1              No   \n",
       "4            No  No phone service                        1             Yes   \n",
       "\n",
       "   ...  payment_type_id monthly_charges total_charges churn contract_type_id  \\\n",
       "0  ...                2            59.9         542.4    No                1   \n",
       "1  ...                4            69.4        571.45    No                1   \n",
       "2  ...                1            48.2        340.35    No                1   \n",
       "3  ...                1            25.1          25.1   Yes                1   \n",
       "4  ...                3            30.5          30.5   Yes                1   \n",
       "\n",
       "    contract_type internet_service_type_id  internet_service_type  \\\n",
       "0  Month-to-month                        1                    DSL   \n",
       "1  Month-to-month                        1                    DSL   \n",
       "2  Month-to-month                        1                    DSL   \n",
       "3  Month-to-month                        1                    DSL   \n",
       "4  Month-to-month                        1                    DSL   \n",
       "\n",
       "   payment_type_id               payment_type  \n",
       "0                2               Mailed check  \n",
       "1                4    Credit card (automatic)  \n",
       "2                1           Electronic check  \n",
       "3                1           Electronic check  \n",
       "4                3  Bank transfer (automatic)  \n",
       "\n",
       "[5 rows x 27 columns]"
      ]
     },
     "execution_count": 4,
     "metadata": {},
     "output_type": "execute_result"
    }
   ],
   "source": [
    "# . head() early visulization to see dataframe layout\n",
    "\n",
    "df.head()"
   ]
  },
  {
   "cell_type": "code",
   "execution_count": 5,
   "metadata": {},
   "outputs": [
    {
     "data": {
      "text/html": [
       "<div>\n",
       "<style scoped>\n",
       "    .dataframe tbody tr th:only-of-type {\n",
       "        vertical-align: middle;\n",
       "    }\n",
       "\n",
       "    .dataframe tbody tr th {\n",
       "        vertical-align: top;\n",
       "    }\n",
       "\n",
       "    .dataframe thead th {\n",
       "        text-align: right;\n",
       "    }\n",
       "</style>\n",
       "<table border=\"1\" class=\"dataframe\">\n",
       "  <thead>\n",
       "    <tr style=\"text-align: right;\">\n",
       "      <th></th>\n",
       "      <th>senior_citizen</th>\n",
       "      <th>tenure</th>\n",
       "      <th>internet_service_type_id</th>\n",
       "      <th>contract_type_id</th>\n",
       "      <th>payment_type_id</th>\n",
       "      <th>monthly_charges</th>\n",
       "      <th>contract_type_id</th>\n",
       "      <th>internet_service_type_id</th>\n",
       "      <th>payment_type_id</th>\n",
       "    </tr>\n",
       "  </thead>\n",
       "  <tbody>\n",
       "    <tr>\n",
       "      <th>count</th>\n",
       "      <td>7043.000000</td>\n",
       "      <td>7043.000000</td>\n",
       "      <td>7043.000000</td>\n",
       "      <td>7043.000000</td>\n",
       "      <td>7043.000000</td>\n",
       "      <td>7043.000000</td>\n",
       "      <td>7043.000000</td>\n",
       "      <td>7043.000000</td>\n",
       "      <td>7043.000000</td>\n",
       "    </tr>\n",
       "    <tr>\n",
       "      <th>mean</th>\n",
       "      <td>0.162147</td>\n",
       "      <td>32.371149</td>\n",
       "      <td>1.872923</td>\n",
       "      <td>1.690473</td>\n",
       "      <td>2.315633</td>\n",
       "      <td>64.761692</td>\n",
       "      <td>1.690473</td>\n",
       "      <td>1.872923</td>\n",
       "      <td>2.315633</td>\n",
       "    </tr>\n",
       "    <tr>\n",
       "      <th>std</th>\n",
       "      <td>0.368612</td>\n",
       "      <td>24.559481</td>\n",
       "      <td>0.737796</td>\n",
       "      <td>0.833755</td>\n",
       "      <td>1.148907</td>\n",
       "      <td>30.090047</td>\n",
       "      <td>0.833755</td>\n",
       "      <td>0.737796</td>\n",
       "      <td>1.148907</td>\n",
       "    </tr>\n",
       "    <tr>\n",
       "      <th>min</th>\n",
       "      <td>0.000000</td>\n",
       "      <td>0.000000</td>\n",
       "      <td>1.000000</td>\n",
       "      <td>1.000000</td>\n",
       "      <td>1.000000</td>\n",
       "      <td>18.250000</td>\n",
       "      <td>1.000000</td>\n",
       "      <td>1.000000</td>\n",
       "      <td>1.000000</td>\n",
       "    </tr>\n",
       "    <tr>\n",
       "      <th>25%</th>\n",
       "      <td>0.000000</td>\n",
       "      <td>9.000000</td>\n",
       "      <td>1.000000</td>\n",
       "      <td>1.000000</td>\n",
       "      <td>1.000000</td>\n",
       "      <td>35.500000</td>\n",
       "      <td>1.000000</td>\n",
       "      <td>1.000000</td>\n",
       "      <td>1.000000</td>\n",
       "    </tr>\n",
       "    <tr>\n",
       "      <th>50%</th>\n",
       "      <td>0.000000</td>\n",
       "      <td>29.000000</td>\n",
       "      <td>2.000000</td>\n",
       "      <td>1.000000</td>\n",
       "      <td>2.000000</td>\n",
       "      <td>70.350000</td>\n",
       "      <td>1.000000</td>\n",
       "      <td>2.000000</td>\n",
       "      <td>2.000000</td>\n",
       "    </tr>\n",
       "    <tr>\n",
       "      <th>75%</th>\n",
       "      <td>0.000000</td>\n",
       "      <td>55.000000</td>\n",
       "      <td>2.000000</td>\n",
       "      <td>2.000000</td>\n",
       "      <td>3.000000</td>\n",
       "      <td>89.850000</td>\n",
       "      <td>2.000000</td>\n",
       "      <td>2.000000</td>\n",
       "      <td>3.000000</td>\n",
       "    </tr>\n",
       "    <tr>\n",
       "      <th>max</th>\n",
       "      <td>1.000000</td>\n",
       "      <td>72.000000</td>\n",
       "      <td>3.000000</td>\n",
       "      <td>3.000000</td>\n",
       "      <td>4.000000</td>\n",
       "      <td>118.750000</td>\n",
       "      <td>3.000000</td>\n",
       "      <td>3.000000</td>\n",
       "      <td>4.000000</td>\n",
       "    </tr>\n",
       "  </tbody>\n",
       "</table>\n",
       "</div>"
      ],
      "text/plain": [
       "       senior_citizen       tenure  internet_service_type_id  \\\n",
       "count     7043.000000  7043.000000               7043.000000   \n",
       "mean         0.162147    32.371149                  1.872923   \n",
       "std          0.368612    24.559481                  0.737796   \n",
       "min          0.000000     0.000000                  1.000000   \n",
       "25%          0.000000     9.000000                  1.000000   \n",
       "50%          0.000000    29.000000                  2.000000   \n",
       "75%          0.000000    55.000000                  2.000000   \n",
       "max          1.000000    72.000000                  3.000000   \n",
       "\n",
       "       contract_type_id  payment_type_id  monthly_charges  contract_type_id  \\\n",
       "count       7043.000000      7043.000000      7043.000000       7043.000000   \n",
       "mean           1.690473         2.315633        64.761692          1.690473   \n",
       "std            0.833755         1.148907        30.090047          0.833755   \n",
       "min            1.000000         1.000000        18.250000          1.000000   \n",
       "25%            1.000000         1.000000        35.500000          1.000000   \n",
       "50%            1.000000         2.000000        70.350000          1.000000   \n",
       "75%            2.000000         3.000000        89.850000          2.000000   \n",
       "max            3.000000         4.000000       118.750000          3.000000   \n",
       "\n",
       "       internet_service_type_id  payment_type_id  \n",
       "count               7043.000000      7043.000000  \n",
       "mean                   1.872923         2.315633  \n",
       "std                    0.737796         1.148907  \n",
       "min                    1.000000         1.000000  \n",
       "25%                    1.000000         1.000000  \n",
       "50%                    2.000000         2.000000  \n",
       "75%                    2.000000         3.000000  \n",
       "max                    3.000000         4.000000  "
      ]
     },
     "execution_count": 5,
     "metadata": {},
     "output_type": "execute_result"
    }
   ],
   "source": [
    "# .describe() gives discriptive staistics of numeric variables\n",
    "\n",
    "df.describe()"
   ]
  },
  {
   "cell_type": "code",
   "execution_count": 6,
   "metadata": {},
   "outputs": [
    {
     "name": "stdout",
     "output_type": "stream",
     "text": [
      "<class 'pandas.core.frame.DataFrame'>\n",
      "RangeIndex: 7043 entries, 0 to 7042\n",
      "Data columns (total 27 columns):\n",
      " #   Column                    Non-Null Count  Dtype  \n",
      "---  ------                    --------------  -----  \n",
      " 0   customer_id               7043 non-null   object \n",
      " 1   gender                    7043 non-null   object \n",
      " 2   senior_citizen            7043 non-null   int64  \n",
      " 3   partner                   7043 non-null   object \n",
      " 4   dependents                7043 non-null   object \n",
      " 5   tenure                    7043 non-null   int64  \n",
      " 6   phone_service             7043 non-null   object \n",
      " 7   multiple_lines            7043 non-null   object \n",
      " 8   internet_service_type_id  7043 non-null   int64  \n",
      " 9   online_security           7043 non-null   object \n",
      " 10  online_backup             7043 non-null   object \n",
      " 11  device_protection         7043 non-null   object \n",
      " 12  tech_support              7043 non-null   object \n",
      " 13  streaming_tv              7043 non-null   object \n",
      " 14  streaming_movies          7043 non-null   object \n",
      " 15  contract_type_id          7043 non-null   int64  \n",
      " 16  paperless_billing         7043 non-null   object \n",
      " 17  payment_type_id           7043 non-null   int64  \n",
      " 18  monthly_charges           7043 non-null   float64\n",
      " 19  total_charges             7043 non-null   object \n",
      " 20  churn                     7043 non-null   object \n",
      " 21  contract_type_id          7043 non-null   int64  \n",
      " 22  contract_type             7043 non-null   object \n",
      " 23  internet_service_type_id  7043 non-null   int64  \n",
      " 24  internet_service_type     7043 non-null   object \n",
      " 25  payment_type_id           7043 non-null   int64  \n",
      " 26  payment_type              7043 non-null   object \n",
      "dtypes: float64(1), int64(8), object(18)\n",
      "memory usage: 1.5+ MB\n"
     ]
    }
   ],
   "source": [
    "# .info() identifies the data type and null value count for each variable\n",
    "\n",
    "df.info()"
   ]
  },
  {
   "cell_type": "code",
   "execution_count": 7,
   "metadata": {},
   "outputs": [
    {
     "data": {
      "text/plain": [
       "customer_id                 0\n",
       "gender                      0\n",
       "senior_citizen              0\n",
       "partner                     0\n",
       "dependents                  0\n",
       "tenure                      0\n",
       "phone_service               0\n",
       "multiple_lines              0\n",
       "internet_service_type_id    0\n",
       "online_security             0\n",
       "online_backup               0\n",
       "device_protection           0\n",
       "tech_support                0\n",
       "streaming_tv                0\n",
       "streaming_movies            0\n",
       "contract_type_id            0\n",
       "paperless_billing           0\n",
       "payment_type_id             0\n",
       "monthly_charges             0\n",
       "total_charges               0\n",
       "churn                       0\n",
       "contract_type_id            0\n",
       "contract_type               0\n",
       "internet_service_type_id    0\n",
       "internet_service_type       0\n",
       "payment_type_id             0\n",
       "payment_type                0\n",
       "dtype: int64"
      ]
     },
     "execution_count": 7,
     "metadata": {},
     "output_type": "execute_result"
    }
   ],
   "source": [
    "# .isnull().sum() provides the number of null values, if any exists\n",
    "\n",
    "df.isnull().sum()"
   ]
  },
  {
   "cell_type": "markdown",
   "metadata": {},
   "source": [
    "<div class=\"alert alert-block alert-success\"></div>"
   ]
  },
  {
   "cell_type": "markdown",
   "metadata": {},
   "source": [
    "# Step #3. Prepare\n",
    "\n",
    "1. **Returns data frame  modified for exploration**\n",
    "\n",
    "\n",
    "2. **Run the same tests, to make sure it is ready**\n",
    "    - .shape\n",
    "    - .head()\n",
    "    - .describe()\n",
    "    - .info()\n",
    "    - .isnull().sum()\n",
    "    \n",
    "    \n",
    "3. **Split in to to train/validate/test**"
   ]
  },
  {
   "cell_type": "code",
   "execution_count": 8,
   "metadata": {},
   "outputs": [],
   "source": [
    "# Import modified dataframe \n",
    "\n",
    "df = prep_telco_data_explore(get_telco_data(cached = True))"
   ]
  },
  {
   "cell_type": "code",
   "execution_count": 9,
   "metadata": {},
   "outputs": [
    {
     "data": {
      "text/plain": [
       "(7043, 44)"
      ]
     },
     "execution_count": 9,
     "metadata": {},
     "output_type": "execute_result"
    }
   ],
   "source": [
    "# .shape() gives a basic shape of the data\n",
    "\n",
    "df.shape"
   ]
  },
  {
   "cell_type": "code",
   "execution_count": 10,
   "metadata": {},
   "outputs": [
    {
     "data": {
      "text/html": [
       "<div>\n",
       "<style scoped>\n",
       "    .dataframe tbody tr th:only-of-type {\n",
       "        vertical-align: middle;\n",
       "    }\n",
       "\n",
       "    .dataframe tbody tr th {\n",
       "        vertical-align: top;\n",
       "    }\n",
       "\n",
       "    .dataframe thead th {\n",
       "        text-align: right;\n",
       "    }\n",
       "</style>\n",
       "<table border=\"1\" class=\"dataframe\">\n",
       "  <thead>\n",
       "    <tr style=\"text-align: right;\">\n",
       "      <th></th>\n",
       "      <th>customer_id</th>\n",
       "      <th>gender</th>\n",
       "      <th>senior_citizen</th>\n",
       "      <th>partner</th>\n",
       "      <th>dependents</th>\n",
       "      <th>tenure</th>\n",
       "      <th>phone_service</th>\n",
       "      <th>multiple_lines</th>\n",
       "      <th>online_security</th>\n",
       "      <th>online_backup</th>\n",
       "      <th>...</th>\n",
       "      <th>mail_check</th>\n",
       "      <th>month_to_month_contract</th>\n",
       "      <th>one_year_contract</th>\n",
       "      <th>two_year_contract</th>\n",
       "      <th>internet_service_type_cc</th>\n",
       "      <th>internet_service</th>\n",
       "      <th>dsl</th>\n",
       "      <th>fiber_optic</th>\n",
       "      <th>None</th>\n",
       "      <th>tenure_years</th>\n",
       "    </tr>\n",
       "  </thead>\n",
       "  <tbody>\n",
       "    <tr>\n",
       "      <th>0</th>\n",
       "      <td>0003-MKNFE</td>\n",
       "      <td>Male</td>\n",
       "      <td>0</td>\n",
       "      <td>0</td>\n",
       "      <td>0</td>\n",
       "      <td>9</td>\n",
       "      <td>1</td>\n",
       "      <td>Yes</td>\n",
       "      <td>No</td>\n",
       "      <td>No</td>\n",
       "      <td>...</td>\n",
       "      <td>1</td>\n",
       "      <td>1</td>\n",
       "      <td>0</td>\n",
       "      <td>0</td>\n",
       "      <td>0</td>\n",
       "      <td>1</td>\n",
       "      <td>1</td>\n",
       "      <td>0</td>\n",
       "      <td>0</td>\n",
       "      <td>0.75</td>\n",
       "    </tr>\n",
       "    <tr>\n",
       "      <th>1</th>\n",
       "      <td>0013-MHZWF</td>\n",
       "      <td>Female</td>\n",
       "      <td>0</td>\n",
       "      <td>0</td>\n",
       "      <td>1</td>\n",
       "      <td>9</td>\n",
       "      <td>1</td>\n",
       "      <td>No</td>\n",
       "      <td>No</td>\n",
       "      <td>No</td>\n",
       "      <td>...</td>\n",
       "      <td>0</td>\n",
       "      <td>1</td>\n",
       "      <td>0</td>\n",
       "      <td>0</td>\n",
       "      <td>0</td>\n",
       "      <td>1</td>\n",
       "      <td>1</td>\n",
       "      <td>0</td>\n",
       "      <td>0</td>\n",
       "      <td>0.75</td>\n",
       "    </tr>\n",
       "    <tr>\n",
       "      <th>2</th>\n",
       "      <td>0015-UOCOJ</td>\n",
       "      <td>Female</td>\n",
       "      <td>1</td>\n",
       "      <td>0</td>\n",
       "      <td>0</td>\n",
       "      <td>7</td>\n",
       "      <td>1</td>\n",
       "      <td>No</td>\n",
       "      <td>Yes</td>\n",
       "      <td>No</td>\n",
       "      <td>...</td>\n",
       "      <td>0</td>\n",
       "      <td>1</td>\n",
       "      <td>0</td>\n",
       "      <td>0</td>\n",
       "      <td>0</td>\n",
       "      <td>1</td>\n",
       "      <td>1</td>\n",
       "      <td>0</td>\n",
       "      <td>0</td>\n",
       "      <td>0.58</td>\n",
       "    </tr>\n",
       "    <tr>\n",
       "      <th>3</th>\n",
       "      <td>0023-HGHWL</td>\n",
       "      <td>Male</td>\n",
       "      <td>1</td>\n",
       "      <td>0</td>\n",
       "      <td>0</td>\n",
       "      <td>1</td>\n",
       "      <td>0</td>\n",
       "      <td>No phone service</td>\n",
       "      <td>No</td>\n",
       "      <td>No</td>\n",
       "      <td>...</td>\n",
       "      <td>0</td>\n",
       "      <td>1</td>\n",
       "      <td>0</td>\n",
       "      <td>0</td>\n",
       "      <td>0</td>\n",
       "      <td>1</td>\n",
       "      <td>1</td>\n",
       "      <td>0</td>\n",
       "      <td>0</td>\n",
       "      <td>0.08</td>\n",
       "    </tr>\n",
       "    <tr>\n",
       "      <th>4</th>\n",
       "      <td>0032-PGELS</td>\n",
       "      <td>Female</td>\n",
       "      <td>0</td>\n",
       "      <td>1</td>\n",
       "      <td>1</td>\n",
       "      <td>1</td>\n",
       "      <td>0</td>\n",
       "      <td>No phone service</td>\n",
       "      <td>Yes</td>\n",
       "      <td>No</td>\n",
       "      <td>...</td>\n",
       "      <td>0</td>\n",
       "      <td>1</td>\n",
       "      <td>0</td>\n",
       "      <td>0</td>\n",
       "      <td>0</td>\n",
       "      <td>1</td>\n",
       "      <td>1</td>\n",
       "      <td>0</td>\n",
       "      <td>0</td>\n",
       "      <td>0.08</td>\n",
       "    </tr>\n",
       "  </tbody>\n",
       "</table>\n",
       "<p>5 rows × 44 columns</p>\n",
       "</div>"
      ],
      "text/plain": [
       "  customer_id  gender  senior_citizen  partner  dependents  tenure  \\\n",
       "0  0003-MKNFE    Male               0        0           0       9   \n",
       "1  0013-MHZWF  Female               0        0           1       9   \n",
       "2  0015-UOCOJ  Female               1        0           0       7   \n",
       "3  0023-HGHWL    Male               1        0           0       1   \n",
       "4  0032-PGELS  Female               0        1           1       1   \n",
       "\n",
       "   phone_service    multiple_lines online_security online_backup  ...  \\\n",
       "0              1               Yes              No            No  ...   \n",
       "1              1                No              No            No  ...   \n",
       "2              1                No             Yes            No  ...   \n",
       "3              0  No phone service              No            No  ...   \n",
       "4              0  No phone service             Yes            No  ...   \n",
       "\n",
       "  mail_check month_to_month_contract one_year_contract two_year_contract  \\\n",
       "0          1                       1                 0                 0   \n",
       "1          0                       1                 0                 0   \n",
       "2          0                       1                 0                 0   \n",
       "3          0                       1                 0                 0   \n",
       "4          0                       1                 0                 0   \n",
       "\n",
       "   internet_service_type_cc  internet_service  dsl  fiber_optic None  \\\n",
       "0                         0                 1    1            0    0   \n",
       "1                         0                 1    1            0    0   \n",
       "2                         0                 1    1            0    0   \n",
       "3                         0                 1    1            0    0   \n",
       "4                         0                 1    1            0    0   \n",
       "\n",
       "  tenure_years  \n",
       "0         0.75  \n",
       "1         0.75  \n",
       "2         0.58  \n",
       "3         0.08  \n",
       "4         0.08  \n",
       "\n",
       "[5 rows x 44 columns]"
      ]
     },
     "execution_count": 10,
     "metadata": {},
     "output_type": "execute_result"
    }
   ],
   "source": [
    "# . head() early visulization to see dataframe layout\n",
    "\n",
    "df.head()"
   ]
  },
  {
   "cell_type": "code",
   "execution_count": 11,
   "metadata": {},
   "outputs": [
    {
     "data": {
      "text/html": [
       "<div>\n",
       "<style scoped>\n",
       "    .dataframe tbody tr th:only-of-type {\n",
       "        vertical-align: middle;\n",
       "    }\n",
       "\n",
       "    .dataframe tbody tr th {\n",
       "        vertical-align: top;\n",
       "    }\n",
       "\n",
       "    .dataframe thead th {\n",
       "        text-align: right;\n",
       "    }\n",
       "</style>\n",
       "<table border=\"1\" class=\"dataframe\">\n",
       "  <thead>\n",
       "    <tr style=\"text-align: right;\">\n",
       "      <th></th>\n",
       "      <th>senior_citizen</th>\n",
       "      <th>partner</th>\n",
       "      <th>dependents</th>\n",
       "      <th>tenure</th>\n",
       "      <th>phone_service</th>\n",
       "      <th>paperless_billing</th>\n",
       "      <th>monthly_charges</th>\n",
       "      <th>total_charges</th>\n",
       "      <th>churn</th>\n",
       "      <th>gender_cc</th>\n",
       "      <th>...</th>\n",
       "      <th>mail_check</th>\n",
       "      <th>month_to_month_contract</th>\n",
       "      <th>one_year_contract</th>\n",
       "      <th>two_year_contract</th>\n",
       "      <th>internet_service_type_cc</th>\n",
       "      <th>internet_service</th>\n",
       "      <th>dsl</th>\n",
       "      <th>fiber_optic</th>\n",
       "      <th>None</th>\n",
       "      <th>tenure_years</th>\n",
       "    </tr>\n",
       "  </thead>\n",
       "  <tbody>\n",
       "    <tr>\n",
       "      <th>count</th>\n",
       "      <td>7043.000000</td>\n",
       "      <td>7043.000000</td>\n",
       "      <td>7043.000000</td>\n",
       "      <td>7043.000000</td>\n",
       "      <td>7043.000000</td>\n",
       "      <td>7043.000000</td>\n",
       "      <td>7043.000000</td>\n",
       "      <td>7043.000000</td>\n",
       "      <td>7043.000000</td>\n",
       "      <td>7043.000000</td>\n",
       "      <td>...</td>\n",
       "      <td>7043.000000</td>\n",
       "      <td>7043.000000</td>\n",
       "      <td>7043.000000</td>\n",
       "      <td>7043.000000</td>\n",
       "      <td>7043.000000</td>\n",
       "      <td>7043.000000</td>\n",
       "      <td>7043.000000</td>\n",
       "      <td>7043.000000</td>\n",
       "      <td>7043.000000</td>\n",
       "      <td>7043.000000</td>\n",
       "    </tr>\n",
       "    <tr>\n",
       "      <th>mean</th>\n",
       "      <td>0.162147</td>\n",
       "      <td>0.483033</td>\n",
       "      <td>0.299588</td>\n",
       "      <td>32.371149</td>\n",
       "      <td>0.903166</td>\n",
       "      <td>0.592219</td>\n",
       "      <td>64.761692</td>\n",
       "      <td>2279.734304</td>\n",
       "      <td>0.265370</td>\n",
       "      <td>0.504756</td>\n",
       "      <td>...</td>\n",
       "      <td>0.228880</td>\n",
       "      <td>0.550192</td>\n",
       "      <td>0.209144</td>\n",
       "      <td>0.240664</td>\n",
       "      <td>0.872923</td>\n",
       "      <td>0.783331</td>\n",
       "      <td>0.343746</td>\n",
       "      <td>0.439585</td>\n",
       "      <td>0.216669</td>\n",
       "      <td>2.697402</td>\n",
       "    </tr>\n",
       "    <tr>\n",
       "      <th>std</th>\n",
       "      <td>0.368612</td>\n",
       "      <td>0.499748</td>\n",
       "      <td>0.458110</td>\n",
       "      <td>24.559481</td>\n",
       "      <td>0.295752</td>\n",
       "      <td>0.491457</td>\n",
       "      <td>30.090047</td>\n",
       "      <td>2266.794470</td>\n",
       "      <td>0.441561</td>\n",
       "      <td>0.500013</td>\n",
       "      <td>...</td>\n",
       "      <td>0.420141</td>\n",
       "      <td>0.497510</td>\n",
       "      <td>0.406726</td>\n",
       "      <td>0.427517</td>\n",
       "      <td>0.737796</td>\n",
       "      <td>0.412004</td>\n",
       "      <td>0.474991</td>\n",
       "      <td>0.496372</td>\n",
       "      <td>0.412004</td>\n",
       "      <td>2.046968</td>\n",
       "    </tr>\n",
       "    <tr>\n",
       "      <th>min</th>\n",
       "      <td>0.000000</td>\n",
       "      <td>0.000000</td>\n",
       "      <td>0.000000</td>\n",
       "      <td>0.000000</td>\n",
       "      <td>0.000000</td>\n",
       "      <td>0.000000</td>\n",
       "      <td>18.250000</td>\n",
       "      <td>0.000000</td>\n",
       "      <td>0.000000</td>\n",
       "      <td>0.000000</td>\n",
       "      <td>...</td>\n",
       "      <td>0.000000</td>\n",
       "      <td>0.000000</td>\n",
       "      <td>0.000000</td>\n",
       "      <td>0.000000</td>\n",
       "      <td>0.000000</td>\n",
       "      <td>0.000000</td>\n",
       "      <td>0.000000</td>\n",
       "      <td>0.000000</td>\n",
       "      <td>0.000000</td>\n",
       "      <td>0.000000</td>\n",
       "    </tr>\n",
       "    <tr>\n",
       "      <th>25%</th>\n",
       "      <td>0.000000</td>\n",
       "      <td>0.000000</td>\n",
       "      <td>0.000000</td>\n",
       "      <td>9.000000</td>\n",
       "      <td>1.000000</td>\n",
       "      <td>0.000000</td>\n",
       "      <td>35.500000</td>\n",
       "      <td>398.550000</td>\n",
       "      <td>0.000000</td>\n",
       "      <td>0.000000</td>\n",
       "      <td>...</td>\n",
       "      <td>0.000000</td>\n",
       "      <td>0.000000</td>\n",
       "      <td>0.000000</td>\n",
       "      <td>0.000000</td>\n",
       "      <td>0.000000</td>\n",
       "      <td>1.000000</td>\n",
       "      <td>0.000000</td>\n",
       "      <td>0.000000</td>\n",
       "      <td>0.000000</td>\n",
       "      <td>0.750000</td>\n",
       "    </tr>\n",
       "    <tr>\n",
       "      <th>50%</th>\n",
       "      <td>0.000000</td>\n",
       "      <td>0.000000</td>\n",
       "      <td>0.000000</td>\n",
       "      <td>29.000000</td>\n",
       "      <td>1.000000</td>\n",
       "      <td>1.000000</td>\n",
       "      <td>70.350000</td>\n",
       "      <td>1394.550000</td>\n",
       "      <td>0.000000</td>\n",
       "      <td>1.000000</td>\n",
       "      <td>...</td>\n",
       "      <td>0.000000</td>\n",
       "      <td>1.000000</td>\n",
       "      <td>0.000000</td>\n",
       "      <td>0.000000</td>\n",
       "      <td>1.000000</td>\n",
       "      <td>1.000000</td>\n",
       "      <td>0.000000</td>\n",
       "      <td>0.000000</td>\n",
       "      <td>0.000000</td>\n",
       "      <td>2.420000</td>\n",
       "    </tr>\n",
       "    <tr>\n",
       "      <th>75%</th>\n",
       "      <td>0.000000</td>\n",
       "      <td>1.000000</td>\n",
       "      <td>1.000000</td>\n",
       "      <td>55.000000</td>\n",
       "      <td>1.000000</td>\n",
       "      <td>1.000000</td>\n",
       "      <td>89.850000</td>\n",
       "      <td>3786.600000</td>\n",
       "      <td>1.000000</td>\n",
       "      <td>1.000000</td>\n",
       "      <td>...</td>\n",
       "      <td>0.000000</td>\n",
       "      <td>1.000000</td>\n",
       "      <td>0.000000</td>\n",
       "      <td>0.000000</td>\n",
       "      <td>1.000000</td>\n",
       "      <td>1.000000</td>\n",
       "      <td>1.000000</td>\n",
       "      <td>1.000000</td>\n",
       "      <td>0.000000</td>\n",
       "      <td>4.580000</td>\n",
       "    </tr>\n",
       "    <tr>\n",
       "      <th>max</th>\n",
       "      <td>1.000000</td>\n",
       "      <td>1.000000</td>\n",
       "      <td>1.000000</td>\n",
       "      <td>72.000000</td>\n",
       "      <td>1.000000</td>\n",
       "      <td>1.000000</td>\n",
       "      <td>118.750000</td>\n",
       "      <td>8684.800000</td>\n",
       "      <td>1.000000</td>\n",
       "      <td>1.000000</td>\n",
       "      <td>...</td>\n",
       "      <td>1.000000</td>\n",
       "      <td>1.000000</td>\n",
       "      <td>1.000000</td>\n",
       "      <td>1.000000</td>\n",
       "      <td>2.000000</td>\n",
       "      <td>1.000000</td>\n",
       "      <td>1.000000</td>\n",
       "      <td>1.000000</td>\n",
       "      <td>1.000000</td>\n",
       "      <td>6.000000</td>\n",
       "    </tr>\n",
       "  </tbody>\n",
       "</table>\n",
       "<p>8 rows × 32 columns</p>\n",
       "</div>"
      ],
      "text/plain": [
       "       senior_citizen      partner   dependents       tenure  phone_service  \\\n",
       "count     7043.000000  7043.000000  7043.000000  7043.000000    7043.000000   \n",
       "mean         0.162147     0.483033     0.299588    32.371149       0.903166   \n",
       "std          0.368612     0.499748     0.458110    24.559481       0.295752   \n",
       "min          0.000000     0.000000     0.000000     0.000000       0.000000   \n",
       "25%          0.000000     0.000000     0.000000     9.000000       1.000000   \n",
       "50%          0.000000     0.000000     0.000000    29.000000       1.000000   \n",
       "75%          0.000000     1.000000     1.000000    55.000000       1.000000   \n",
       "max          1.000000     1.000000     1.000000    72.000000       1.000000   \n",
       "\n",
       "       paperless_billing  monthly_charges  total_charges        churn  \\\n",
       "count        7043.000000      7043.000000    7043.000000  7043.000000   \n",
       "mean            0.592219        64.761692    2279.734304     0.265370   \n",
       "std             0.491457        30.090047    2266.794470     0.441561   \n",
       "min             0.000000        18.250000       0.000000     0.000000   \n",
       "25%             0.000000        35.500000     398.550000     0.000000   \n",
       "50%             1.000000        70.350000    1394.550000     0.000000   \n",
       "75%             1.000000        89.850000    3786.600000     1.000000   \n",
       "max             1.000000       118.750000    8684.800000     1.000000   \n",
       "\n",
       "         gender_cc  ...   mail_check  month_to_month_contract  \\\n",
       "count  7043.000000  ...  7043.000000              7043.000000   \n",
       "mean      0.504756  ...     0.228880                 0.550192   \n",
       "std       0.500013  ...     0.420141                 0.497510   \n",
       "min       0.000000  ...     0.000000                 0.000000   \n",
       "25%       0.000000  ...     0.000000                 0.000000   \n",
       "50%       1.000000  ...     0.000000                 1.000000   \n",
       "75%       1.000000  ...     0.000000                 1.000000   \n",
       "max       1.000000  ...     1.000000                 1.000000   \n",
       "\n",
       "       one_year_contract  two_year_contract  internet_service_type_cc  \\\n",
       "count        7043.000000        7043.000000               7043.000000   \n",
       "mean            0.209144           0.240664                  0.872923   \n",
       "std             0.406726           0.427517                  0.737796   \n",
       "min             0.000000           0.000000                  0.000000   \n",
       "25%             0.000000           0.000000                  0.000000   \n",
       "50%             0.000000           0.000000                  1.000000   \n",
       "75%             0.000000           0.000000                  1.000000   \n",
       "max             1.000000           1.000000                  2.000000   \n",
       "\n",
       "       internet_service          dsl  fiber_optic         None  tenure_years  \n",
       "count       7043.000000  7043.000000  7043.000000  7043.000000   7043.000000  \n",
       "mean           0.783331     0.343746     0.439585     0.216669      2.697402  \n",
       "std            0.412004     0.474991     0.496372     0.412004      2.046968  \n",
       "min            0.000000     0.000000     0.000000     0.000000      0.000000  \n",
       "25%            1.000000     0.000000     0.000000     0.000000      0.750000  \n",
       "50%            1.000000     0.000000     0.000000     0.000000      2.420000  \n",
       "75%            1.000000     1.000000     1.000000     0.000000      4.580000  \n",
       "max            1.000000     1.000000     1.000000     1.000000      6.000000  \n",
       "\n",
       "[8 rows x 32 columns]"
      ]
     },
     "execution_count": 11,
     "metadata": {},
     "output_type": "execute_result"
    }
   ],
   "source": [
    "# .describe() gives discriptive staistics of numeric variables\n",
    "\n",
    "df.describe()"
   ]
  },
  {
   "cell_type": "code",
   "execution_count": 12,
   "metadata": {},
   "outputs": [
    {
     "name": "stdout",
     "output_type": "stream",
     "text": [
      "<class 'pandas.core.frame.DataFrame'>\n",
      "RangeIndex: 7043 entries, 0 to 7042\n",
      "Data columns (total 44 columns):\n",
      " #   Column                    Non-Null Count  Dtype  \n",
      "---  ------                    --------------  -----  \n",
      " 0   customer_id               7043 non-null   object \n",
      " 1   gender                    7043 non-null   object \n",
      " 2   senior_citizen            7043 non-null   int64  \n",
      " 3   partner                   7043 non-null   int64  \n",
      " 4   dependents                7043 non-null   int64  \n",
      " 5   tenure                    7043 non-null   int64  \n",
      " 6   phone_service             7043 non-null   int64  \n",
      " 7   multiple_lines            7043 non-null   object \n",
      " 8   online_security           7043 non-null   object \n",
      " 9   online_backup             7043 non-null   object \n",
      " 10  device_protection         7043 non-null   object \n",
      " 11  tech_support              7043 non-null   object \n",
      " 12  streaming_tv              7043 non-null   object \n",
      " 13  streaming_movies          7043 non-null   object \n",
      " 14  paperless_billing         7043 non-null   int64  \n",
      " 15  monthly_charges           7043 non-null   float64\n",
      " 16  total_charges             7043 non-null   float64\n",
      " 17  churn                     7043 non-null   int64  \n",
      " 18  contract_type             7043 non-null   object \n",
      " 19  internet_service_type     7043 non-null   object \n",
      " 20  payment_type              7043 non-null   object \n",
      " 21  gender_cc                 7043 non-null   int8   \n",
      " 22  payment_type_cc           7043 non-null   int8   \n",
      " 23  multiple_lines_cc         7043 non-null   int8   \n",
      " 24  online_security_cc        7043 non-null   int8   \n",
      " 25  online_backup_cc          7043 non-null   int8   \n",
      " 26  device_protection_cc      7043 non-null   int8   \n",
      " 27  tech_support_cc           7043 non-null   int8   \n",
      " 28  streaming_tv_cc           7043 non-null   int8   \n",
      " 29  streaming_movies_cc       7043 non-null   int8   \n",
      " 30  contract_type_cc          7043 non-null   int8   \n",
      " 31  bank_transfer_auto        7043 non-null   int64  \n",
      " 32  credit_card_auto          7043 non-null   int64  \n",
      " 33  e_check                   7043 non-null   int64  \n",
      " 34  mail_check                7043 non-null   int64  \n",
      " 35  month_to_month_contract   7043 non-null   int64  \n",
      " 36  one_year_contract         7043 non-null   int64  \n",
      " 37  two_year_contract         7043 non-null   int64  \n",
      " 38  internet_service_type_cc  7043 non-null   int8   \n",
      " 39  internet_service          7043 non-null   int64  \n",
      " 40  dsl                       7043 non-null   int64  \n",
      " 41  fiber_optic               7043 non-null   int64  \n",
      " 42  None                      7043 non-null   int64  \n",
      " 43  tenure_years              7043 non-null   float64\n",
      "dtypes: float64(3), int64(18), int8(11), object(12)\n",
      "memory usage: 1.8+ MB\n"
     ]
    }
   ],
   "source": [
    "# .info() identifies the data type and null value count for each variable\n",
    "\n",
    "df.info()"
   ]
  },
  {
   "cell_type": "code",
   "execution_count": 13,
   "metadata": {},
   "outputs": [
    {
     "data": {
      "text/plain": [
       "customer_id                 0\n",
       "gender                      0\n",
       "senior_citizen              0\n",
       "partner                     0\n",
       "dependents                  0\n",
       "tenure                      0\n",
       "phone_service               0\n",
       "multiple_lines              0\n",
       "online_security             0\n",
       "online_backup               0\n",
       "device_protection           0\n",
       "tech_support                0\n",
       "streaming_tv                0\n",
       "streaming_movies            0\n",
       "paperless_billing           0\n",
       "monthly_charges             0\n",
       "total_charges               0\n",
       "churn                       0\n",
       "contract_type               0\n",
       "internet_service_type       0\n",
       "payment_type                0\n",
       "gender_cc                   0\n",
       "payment_type_cc             0\n",
       "multiple_lines_cc           0\n",
       "online_security_cc          0\n",
       "online_backup_cc            0\n",
       "device_protection_cc        0\n",
       "tech_support_cc             0\n",
       "streaming_tv_cc             0\n",
       "streaming_movies_cc         0\n",
       "contract_type_cc            0\n",
       "bank_transfer_auto          0\n",
       "credit_card_auto            0\n",
       "e_check                     0\n",
       "mail_check                  0\n",
       "month_to_month_contract     0\n",
       "one_year_contract           0\n",
       "two_year_contract           0\n",
       "internet_service_type_cc    0\n",
       "internet_service            0\n",
       "dsl                         0\n",
       "fiber_optic                 0\n",
       "None                        0\n",
       "tenure_years                0\n",
       "dtype: int64"
      ]
     },
     "execution_count": 13,
     "metadata": {},
     "output_type": "execute_result"
    }
   ],
   "source": [
    "# .isnull().sum() provides the number of null values, if any exists\n",
    "\n",
    "df.isnull().sum()"
   ]
  },
  {
   "cell_type": "code",
   "execution_count": 14,
   "metadata": {},
   "outputs": [
    {
     "name": "stdout",
     "output_type": "stream",
     "text": [
      "train (5088, 44)\n",
      "test (1057, 44)\n",
      "validate (898, 44)\n"
     ]
    }
   ],
   "source": [
    "# Data looks good, so we will not split in to train/validate/test for exploration, stratify on our target variable\n",
    "\n",
    "train_validate, test = train_test_split(df, test_size=.15, random_state=123, stratify = df.churn)\n",
    "train, validate = train_test_split(train_validate, test_size=.15, random_state=123, stratify = train_validate.churn)\n",
    "\n",
    "print('train', train.shape)\n",
    "print('test', test.shape)\n",
    "print('validate', validate.shape)"
   ]
  },
  {
   "cell_type": "markdown",
   "metadata": {},
   "source": [
    "<div class=\"alert alert-block alert-success\"></div>"
   ]
  },
  {
   "cell_type": "markdown",
   "metadata": {},
   "source": [
    "# Step #4. Data Exploration\n",
    "\n",
    "- Visualize attributes & interactions (Python: matplotlib).\n",
    "\n",
    "\n",
    "- Analyze: statistically and more generally (Python: statsmodels, numpy, scipy, scikit-learn).\n"
   ]
  },
  {
   "cell_type": "code",
   "execution_count": 15,
   "metadata": {},
   "outputs": [
    {
     "data": {
      "text/plain": [
       "0    0.734473\n",
       "1    0.265527\n",
       "Name: churn, dtype: float64"
      ]
     },
     "execution_count": 15,
     "metadata": {},
     "output_type": "execute_result"
    }
   ],
   "source": [
    "# estabolish basline model accuracy\n",
    "\n",
    "train.churn.value_counts(normalize = True)"
   ]
  },
  {
   "cell_type": "markdown",
   "metadata": {},
   "source": [
    "**Baseline is 73%, this is the number we are looking to beat in your model**\n",
    "\n",
    "**I am going to use 1 as my positive condition (Churn) and 0 as my negative condition (No-Churn)**"
   ]
  },
  {
   "cell_type": "markdown",
   "metadata": {},
   "source": [
    "### Initial Visulizations:\n",
    "\n",
    "- Check to see that my basic assumptions hold weight before hypothesis testing"
   ]
  },
  {
   "cell_type": "code",
   "execution_count": 16,
   "metadata": {},
   "outputs": [],
   "source": [
    "# reference line for my graphs\n",
    "churn_rate = train.churn.mean()"
   ]
  },
  {
   "cell_type": "code",
   "execution_count": 17,
   "metadata": {},
   "outputs": [
    {
     "data": {
      "text/plain": [
       "<matplotlib.collections.LineCollection at 0x7fab204f9580>"
      ]
     },
     "execution_count": 17,
     "metadata": {},
     "output_type": "execute_result"
    },
    {
     "data": {
      "image/png": "[encoded data removed]",
      "text/plain": [
       "<Figure size 432x288 with 1 Axes>"
      ]
     },
     "metadata": {
      "needs_background": "light"
     },
     "output_type": "display_data"
    }
   ],
   "source": [
    "# graph hist of values\n",
    "train.groupby('internet_service_type').churn.mean().plot.bar(alpha=.8)\n",
    "plt.ylabel('Churn Rate')\n",
    "plt.hlines(churn_rate, *plt.xlim(), ls='--', alpha=.8)"
   ]
  },
  {
   "cell_type": "code",
   "execution_count": 18,
   "metadata": {},
   "outputs": [
    {
     "data": {
      "text/plain": [
       "<matplotlib.collections.LineCollection at 0x7fab2182c430>"
      ]
     },
     "execution_count": 18,
     "metadata": {},
     "output_type": "execute_result"
    },
    {
     "data": {
      "image/png": "[encoded data removed]",
      "text/plain": [
       "<Figure size 432x288 with 1 Axes>"
      ]
     },
     "metadata": {
      "needs_background": "light"
     },
     "output_type": "display_data"
    }
   ],
   "source": [
    "# graph hist of values\n",
    "train.groupby('tech_support').churn.mean().plot.bar(alpha=.8)\n",
    "plt.ylabel('Churn Rate')\n",
    "plt.hlines(churn_rate, *plt.xlim(), ls='--', alpha=.8)"
   ]
  },
  {
   "cell_type": "markdown",
   "metadata": {},
   "source": [
    "### Observations:\n",
    "\n",
    "- According to the data visualization it appears that customers with fiber optic service are more likely to churn\n",
    "\n",
    "\n",
    "- According to the data visulaization it appears that customers without tech support are more likley to churn\n",
    "\n",
    "**Now it is time to use statistical testing to quantifiy the strength of these relationships**"
   ]
  },
  {
   "cell_type": "markdown",
   "metadata": {},
   "source": [
    "## Statistical Testing"
   ]
  },
  {
   "cell_type": "markdown",
   "metadata": {},
   "source": [
    "\n",
    "### Hypothesis Test One: Chi Squared Test For Independence\n",
    "\n",
    "- **Churn is dependent on fiber optic service**\n",
    "\n",
    "Null Hypothesis: $H_{0}$: Whether a person churns is independent of fiber optic service\n",
    "\n",
    "Alternative Hypothesis: $H_{a}$: Whether a person churns is not independent of fiber optic service\n"
   ]
  },
  {
   "cell_type": "code",
   "execution_count": 19,
   "metadata": {},
   "outputs": [
    {
     "name": "stdout",
     "output_type": "stream",
     "text": [
      "Our p-value is 2.2962170975696955e-73.\n",
      "Our p-value is less than our alpha: True\n"
     ]
    }
   ],
   "source": [
    "# 1. Set alpha, how confident you want to be in the relationship between your variables\n",
    "\n",
    "confidence_level = .99\n",
    "alpha = round(1 - confidence_level,2)\n",
    "alpha\n",
    "\n",
    "\n",
    "\n",
    "# 2. Sort data frame and remove \"None\" from internet_service_type\n",
    "\n",
    "dsl_fiber = df.internet_service_type != 'None'\n",
    "df_dsl_fiber = df[dsl_fiber]\n",
    "\n",
    "\n",
    "\n",
    "# 3. Create a crosstab to aggregate data\n",
    "\n",
    "ctab = pd.crosstab(df_dsl_fiber.churn, df_dsl_fiber.internet_service_type)\n",
    "ctab\n",
    "\n",
    "\n",
    "\n",
    "# 4. Preform Statistical Test, return P-value\n",
    "\n",
    "Chi2, p, degf, expected = stats.chi2_contingency(ctab)\n",
    "print(f'Our p-value is {p}.')\n",
    "print(f'Our p-value is less than our alpha: {p < alpha}')"
   ]
  },
  {
   "cell_type": "markdown",
   "metadata": {},
   "source": [
    "**Findings:**\n",
    "\n",
    "P-value is less than alpha so we reject the null hypothesis, ie. Our x^2 test informs us that the two categories, churn and fiber optic service are not independent."
   ]
  },
  {
   "cell_type": "markdown",
   "metadata": {},
   "source": [
    "### Hypothesis Test Two: Chi Squared Test For Independence\n",
    "\n",
    "- **Churn is dependent on tech support**\n",
    "\n",
    "Null Hypothesis: $H_{0}$: Whether a person churns is independent of tech support\n",
    "\n",
    "Alternative Hypothesis: $H_{a}$: Whether a person churns is not independent of tech support"
   ]
  },
  {
   "cell_type": "code",
   "execution_count": 20,
   "metadata": {},
   "outputs": [
    {
     "name": "stdout",
     "output_type": "stream",
     "text": [
      "Our p-value is 4.35191667899426e-92.\n",
      "Our p-value is less than our alpha: True\n"
     ]
    }
   ],
   "source": [
    "# 1. Set alpha, how confident you want to be in the relationship between your variables\n",
    "\n",
    "confidence_level = .99\n",
    "alpha = round(1 - confidence_level,2)\n",
    "alpha\n",
    "\n",
    "\n",
    "\n",
    "# 2. Sort data frame and remove \"None\" from internet_service_type\n",
    "\n",
    "df_support = df.tech_support != 'No internet service'\n",
    "df_support_final = df[df_support]\n",
    "\n",
    "\n",
    "\n",
    "# 3. Create a crosstab to aggregate data\n",
    "\n",
    "ctab = pd.crosstab(df_support_final.churn, df_support_final.tech_support)\n",
    "ctab\n",
    "\n",
    "\n",
    "\n",
    "# 4. Preform Statistical Test, return P-value\n",
    "\n",
    "Chi2, p, degf, expected = stats.chi2_contingency(ctab)\n",
    "print(f'Our p-value is {p}.')\n",
    "print(f'Our p-value is less than our alpha: {p < alpha}')"
   ]
  },
  {
   "cell_type": "markdown",
   "metadata": {},
   "source": [
    "**Findings:**\n",
    "\n",
    "P-value is less than alpha so we reject the null hypothesis, ie. Our x^2 test informs us that the two categories, churn and tech supoort are not independent."
   ]
  },
  {
   "cell_type": "markdown",
   "metadata": {},
   "source": [
    "## Exploring more variables that correlate to churn"
   ]
  },
  {
   "cell_type": "code",
   "execution_count": 21,
   "metadata": {},
   "outputs": [
    {
     "data": {
      "text/plain": [
       "senior_citizen              0.150889\n",
       "partner                    -0.150448\n",
       "dependents                 -0.164221\n",
       "tenure                     -0.352229\n",
       "phone_service               0.011942\n",
       "paperless_billing           0.191825\n",
       "monthly_charges             0.193356\n",
       "total_charges              -0.198324\n",
       "churn                       1.000000\n",
       "gender_cc                  -0.008612\n",
       "payment_type_cc             0.107062\n",
       "multiple_lines_cc           0.038037\n",
       "online_security_cc         -0.289309\n",
       "online_backup_cc           -0.195525\n",
       "device_protection_cc       -0.178134\n",
       "tech_support_cc            -0.282492\n",
       "streaming_tv_cc            -0.036581\n",
       "streaming_movies_cc        -0.038492\n",
       "contract_type_cc           -0.396713\n",
       "bank_transfer_auto         -0.117937\n",
       "credit_card_auto           -0.134302\n",
       "e_check                     0.301919\n",
       "mail_check                 -0.091683\n",
       "month_to_month_contract     0.405103\n",
       "one_year_contract          -0.177820\n",
       "two_year_contract          -0.302253\n",
       "internet_service_type_cc   -0.047291\n",
       "internet_service            0.227890\n",
       "dsl                        -0.124214\n",
       "fiber_optic                 0.308020\n",
       "None                       -0.227890\n",
       "tenure_years               -0.352291\n",
       "Name: churn, dtype: float64"
      ]
     },
     "execution_count": 21,
     "metadata": {},
     "output_type": "execute_result"
    }
   ],
   "source": [
    "# Just looking for correlations\n",
    "\n",
    "df.corr().iloc[8]"
   ]
  },
  {
   "cell_type": "markdown",
   "metadata": {},
   "source": [
    "**Looking at these values I am going to build a balanced model that uses the top 5 positive and top 5 negative drivers of churn**\n",
    "\n",
    "   - month_to_month_contract\n",
    "   - e_check\n",
    "   - fiber_optic\n",
    "   - internet_service\n",
    "   - monthly_charges\n",
    "   - tenure_years\n",
    "   - dependents\n",
    "   - tech_support\n",
    "   - no_internet\n",
    "   \n",
    "**Need a model that is optimized for accuracy and recall**\n",
    "   - High recall reduces type II errors (predict no churn, and actually churn)"
   ]
  },
  {
   "cell_type": "markdown",
   "metadata": {},
   "source": [
    "<div class=\"alert alert-block alert-success\"></div>"
   ]
  },
  {
   "cell_type": "markdown",
   "metadata": {},
   "source": [
    "# Step #5. Modeling\n",
    "\n",
    "**Creating 4 Models to run on train dataset**\n",
    "1. Logistic Regression\n",
    "1. Decision Tree\n",
    "1. Random Forrest\n",
    "1. KNN"
   ]
  },
  {
   "cell_type": "code",
   "execution_count": 22,
   "metadata": {},
   "outputs": [],
   "source": [
    "# variable called None (for no internet) must be converted to a different name.  Just noticed "
   ]
  },
  {
   "cell_type": "code",
   "execution_count": 23,
   "metadata": {},
   "outputs": [],
   "source": [
    "def scale(train, validate, test):\n",
    "    scaler = MinMaxScaler()\n",
    "    train[['tenure', 'monthly_charges', 'total_charges','tenure_years']] = scaler.fit_transform(train[['tenure', 'monthly_charges', 'total_charges','tenure_years']])\n",
    "    validate[['tenure', 'monthly_charges', 'total_charges','tenure_years']] = scaler.transform(validate[['tenure', 'monthly_charges', 'total_charges','tenure_years']])\n",
    "    test[['tenure', 'monthly_charges', 'total_charges','tenure_years']]= scaler.transform(test[['tenure', 'monthly_charges', 'total_charges','tenure_years']])\n",
    "    return train, validate, test"
   ]
  },
  {
   "cell_type": "markdown",
   "metadata": {},
   "source": [
    "## Train"
   ]
  },
  {
   "cell_type": "markdown",
   "metadata": {},
   "source": [
    "### Logistic Regression"
   ]
  },
  {
   "cell_type": "code",
   "execution_count": 24,
   "metadata": {},
   "outputs": [
    {
     "name": "stdout",
     "output_type": "stream",
     "text": [
      "Accuracy of Logistic Classifier on training set: 0.80\n",
      "              precision    recall  f1-score   support\n",
      "\n",
      "           0       0.84      0.90      0.87      3737\n",
      "           1       0.66      0.54      0.59      1351\n",
      "\n",
      "    accuracy                           0.80      5088\n",
      "   macro avg       0.75      0.72      0.73      5088\n",
      "weighted avg       0.80      0.80      0.80      5088\n",
      "\n"
     ]
    }
   ],
   "source": [
    "# Logistic Model\n",
    "X_train_1 = train[['month_to_month_contract','fiber_optic','senior_citizen','internet_service','paperless_billing', 'monthly_charges', 'e_check','tenure','online_security_cc','tech_support_cc','one_year_contract','two_year_contract','tenure_years','total_charges','None']]\n",
    "y_train = train.churn\n",
    "\n",
    "# Log Function\n",
    "log = LogisticRegression(C=1, random_state = 123, solver='lbfgs')\n",
    "log.fit(X_train_1, y_train)\n",
    "\n",
    "# make a prediction with traning data\n",
    "y_pred_1 = log.predict(X_train_1)\n",
    "# estimate prob of churn with training data\n",
    "y_pred_proba_1 = log.predict_proba(X_train_1)\n",
    "\n",
    "print('Accuracy of Logistic Classifier on training set: {:.2f}'\n",
    "     .format(log.score(X_train_1, y_train)))\n",
    "print(classification_report(y_train, y_pred_1))\n"
   ]
  },
  {
   "cell_type": "code",
   "execution_count": 25,
   "metadata": {},
   "outputs": [
    {
     "name": "stdout",
     "output_type": "stream",
     "text": [
      "Coefficient: \n",
      " [[ 2.47779172e-01  6.48740527e-01  2.56539349e-01 -5.57113342e-02\n",
      "   3.82696861e-01  8.23638949e-04  5.29309038e-01 -6.01399267e-02\n",
      "  -1.91853544e-01 -2.41103441e-01 -2.57936856e-01 -6.41209438e-01\n",
      "  -9.24448255e-03  3.45199900e-04 -5.95655788e-01]]\n",
      "Intercept: \n",
      " [-0.6557804]\n"
     ]
    }
   ],
   "source": [
    "# Print coefficents and intercepts to examine how the variables affected eachother in the algorithm\n",
    "\n",
    "print('Coefficient: \\n', log.coef_)\n",
    "print('Intercept: \\n', log.intercept_)"
   ]
  },
  {
   "cell_type": "markdown",
   "metadata": {},
   "source": [
    "**Findings**\n",
    "\n",
    "**Balanced Model:(5+ and 5-) = Accuracy of 80% and Recall of 51%**\n",
    "\n",
    "**Only + Drivers = Accuracy of 77% and Recall of 47%**\n",
    "\n",
    "**Only - Drivers = Accuracy of 78% and Recall of 50%**\n",
    "\n",
    "**All Drivers Combined = Accuracy of 80% and Recall of 51%**\n",
    "\n",
    "**Coeificents in model that were less then 10% were removed(partner, dependents, online backup, device protection)**"
   ]
  },
  {
   "cell_type": "markdown",
   "metadata": {},
   "source": [
    "### Decision Tree"
   ]
  },
  {
   "cell_type": "code",
   "execution_count": 26,
   "metadata": {},
   "outputs": [
    {
     "name": "stdout",
     "output_type": "stream",
     "text": [
      "Accuracy of Logistic Classifier on training set: 0.87\n",
      "              precision    recall  f1-score   support\n",
      "\n",
      "           0       0.90      0.93      0.91      3737\n",
      "           1       0.79      0.72      0.75      1351\n",
      "\n",
      "    accuracy                           0.87      5088\n",
      "   macro avg       0.84      0.82      0.83      5088\n",
      "weighted avg       0.87      0.87      0.87      5088\n",
      "\n"
     ]
    }
   ],
   "source": [
    "# Decision Tree Model\n",
    "X_train_2 = train[['month_to_month_contract','fiber_optic','senior_citizen','internet_service','paperless_billing', 'monthly_charges', 'e_check','tenure','online_security_cc','tech_support_cc','one_year_contract','two_year_contract','tenure_years','total_charges','None']]\n",
    "y_train = train.churn\n",
    "\n",
    "# Decision Tree Function\n",
    "clf = DecisionTreeClassifier(max_depth=10, random_state=123)\n",
    "clf.fit(X_train_2, y_train)\n",
    "\n",
    "#make a prediction with traning data\n",
    "y_pred_2 = clf.predict(X_train_2)\n",
    "#estimate prob of churn with training data\n",
    "y_pred_proba_2 = clf.predict_proba(X_train_2)\n",
    "\n",
    "print('Accuracy of Logistic Classifier on training set: {:.2f}'\n",
    "     .format(clf.score(X_train_2, y_train)))\n",
    "print(classification_report(y_train, y_pred_2))"
   ]
  },
  {
   "cell_type": "markdown",
   "metadata": {},
   "source": [
    "### Random Forrest"
   ]
  },
  {
   "cell_type": "code",
   "execution_count": 27,
   "metadata": {},
   "outputs": [
    {
     "name": "stdout",
     "output_type": "stream",
     "text": [
      "Accuracy of Logistic Classifier on training set: 0.83\n",
      "              precision    recall  f1-score   support\n",
      "\n",
      "           0       0.86      0.92      0.89      3737\n",
      "           1       0.73      0.57      0.64      1351\n",
      "\n",
      "    accuracy                           0.83      5088\n",
      "   macro avg       0.79      0.75      0.76      5088\n",
      "weighted avg       0.82      0.83      0.82      5088\n",
      "\n"
     ]
    }
   ],
   "source": [
    "# Random Forrest Model\n",
    "X_train_3 = train[['month_to_month_contract','fiber_optic','senior_citizen','internet_service','paperless_billing', 'monthly_charges', 'e_check','tenure','online_security_cc','tech_support_cc','one_year_contract','two_year_contract','tenure_years','total_charges','None']]\n",
    "y_train = train.churn\n",
    "\n",
    "# Random Forrest Function\n",
    "rf = RandomForestClassifier(bootstrap=True, \n",
    "                            class_weight=None, \n",
    "                            criterion='gini',\n",
    "                            min_samples_leaf=10,\n",
    "                            n_estimators=100,\n",
    "                            max_depth=20, \n",
    "                            random_state=123)\n",
    "\n",
    "rf.fit(X_train_3, y_train)\n",
    "\n",
    "#make a prediction with traning data\n",
    "y_pred_3 = rf.predict(X_train_3)\n",
    "#estimate prob of churn with training data\n",
    "y_pred_proba_3 = rf.predict_proba(X_train_3)\n",
    "\n",
    "print('Accuracy of Logistic Classifier on training set: {:.2f}'\n",
    "     .format(rf.score(X_train_3, y_train)))\n",
    "print(classification_report(y_train, y_pred_3))"
   ]
  },
  {
   "cell_type": "markdown",
   "metadata": {},
   "source": [
    "### KNN"
   ]
  },
  {
   "cell_type": "code",
   "execution_count": 28,
   "metadata": {},
   "outputs": [
    {
     "name": "stdout",
     "output_type": "stream",
     "text": [
      "Accuracy of Logistic Classifier on training set: 0.83\n",
      "              precision    recall  f1-score   support\n",
      "\n",
      "           0       0.85      0.93      0.89      3737\n",
      "           1       0.73      0.56      0.63      1351\n",
      "\n",
      "    accuracy                           0.83      5088\n",
      "   macro avg       0.79      0.74      0.76      5088\n",
      "weighted avg       0.82      0.83      0.82      5088\n",
      "\n"
     ]
    }
   ],
   "source": [
    "# KNN Model\n",
    "X_train_4 = train[['month_to_month_contract','fiber_optic','senior_citizen','internet_service','paperless_billing', 'monthly_charges', 'e_check','tenure','online_security_cc','tech_support_cc','one_year_contract','two_year_contract','tenure_years','total_charges','None']]\n",
    "y_train = train.churn\n",
    "\n",
    "# Random Forrest Function\n",
    "knn = KNeighborsClassifier(n_neighbors=5, weights='uniform')\n",
    "\n",
    "knn.fit(X_train_4, y_train)\n",
    "\n",
    "#make a prediction with traning data\n",
    "y_pred_4 = knn.predict(X_train_4)\n",
    "#estimate prob of churn with training data\n",
    "y_pred_proba_4 = knn.predict_proba(X_train_4)\n",
    "\n",
    "print('Accuracy of Logistic Classifier on training set: {:.2f}'\n",
    "     .format(knn.score(X_train_4, y_train)))\n",
    "print(classification_report(y_train, y_pred_4))"
   ]
  },
  {
   "cell_type": "markdown",
   "metadata": {},
   "source": [
    "## Validate\n",
    "**(Top 3 Models)**\n",
    "- I chose to validate using the logistic, decision tree, and knn models because they provided me with the greatest overall values in accuracy and recal"
   ]
  },
  {
   "cell_type": "code",
   "execution_count": 29,
   "metadata": {},
   "outputs": [],
   "source": [
    "# Train models on validate\n",
    "\n",
    "X_validate_1 = validate[['month_to_month_contract','fiber_optic','senior_citizen','internet_service','paperless_billing', 'monthly_charges', 'e_check','tenure','online_security_cc','tech_support_cc','one_year_contract','two_year_contract','tenure_years','total_charges','None']]\n",
    "X_validate_2 = validate[['month_to_month_contract','fiber_optic','senior_citizen','internet_service','paperless_billing', 'monthly_charges', 'e_check','tenure','online_security_cc','tech_support_cc','one_year_contract','two_year_contract','tenure_years','total_charges','None']]\n",
    "X_validate_4 = validate[['month_to_month_contract','fiber_optic','senior_citizen','internet_service','paperless_billing', 'monthly_charges', 'e_check','tenure','online_security_cc','tech_support_cc','one_year_contract','two_year_contract','tenure_years','total_charges','None']]\n",
    "y_validate = validate.churn\n",
    "\n",
    "#make a prediction with validate data\n",
    "y_pred_1 = log.predict(X_validate_1)\n",
    "y_pred_2 = clf.predict(X_validate_2)\n",
    "y_pred_4 = knn.predict(X_validate_4)\n",
    "\n",
    "#estimate prob of churn with training data\n",
    "y_pred_proba_1 = log.predict_proba(X_validate_1)\n",
    "y_pred_proba_2 = clf.predict_proba(X_validate_2)\n",
    "y_pred_proba_4 = knn.predict_proba(X_validate_4)"
   ]
  },
  {
   "cell_type": "code",
   "execution_count": 30,
   "metadata": {},
   "outputs": [
    {
     "name": "stdout",
     "output_type": "stream",
     "text": [
      "Accuracy of Logistic Classifier on validate set: 0.80\n",
      "              precision    recall  f1-score   support\n",
      "\n",
      "           0       0.84      0.90      0.87       660\n",
      "           1       0.65      0.51      0.57       238\n",
      "\n",
      "    accuracy                           0.80       898\n",
      "   macro avg       0.74      0.71      0.72       898\n",
      "weighted avg       0.79      0.80      0.79       898\n",
      "\n"
     ]
    }
   ],
   "source": [
    "# Logistic Model Preformance\n",
    "print('Accuracy of Logistic Classifier on validate set: {:.2f}'\n",
    "     .format(log.score(X_validate_1, y_validate)))\n",
    "print(classification_report(y_validate, y_pred_1))"
   ]
  },
  {
   "cell_type": "code",
   "execution_count": 31,
   "metadata": {},
   "outputs": [
    {
     "name": "stdout",
     "output_type": "stream",
     "text": [
      "Accuracy of Decision Tree Classifier on validate set: 0.76\n",
      "              precision    recall  f1-score   support\n",
      "\n",
      "           0       0.83      0.86      0.84       660\n",
      "           1       0.56      0.50      0.53       238\n",
      "\n",
      "    accuracy                           0.76       898\n",
      "   macro avg       0.69      0.68      0.68       898\n",
      "weighted avg       0.75      0.76      0.76       898\n",
      "\n"
     ]
    }
   ],
   "source": [
    "# Decision Tree Preformance\n",
    "print('Accuracy of Decision Tree Classifier on validate set: {:.2f}'\n",
    "     .format(clf.score(X_validate_2, y_validate)))\n",
    "print(classification_report(y_validate, y_pred_2))"
   ]
  },
  {
   "cell_type": "code",
   "execution_count": 32,
   "metadata": {},
   "outputs": [
    {
     "name": "stdout",
     "output_type": "stream",
     "text": [
      "Accuracy of KNN Classifier on validate set: 0.79\n",
      "              precision    recall  f1-score   support\n",
      "\n",
      "           0       0.83      0.89      0.86       660\n",
      "           1       0.62      0.50      0.56       238\n",
      "\n",
      "    accuracy                           0.79       898\n",
      "   macro avg       0.73      0.70      0.71       898\n",
      "weighted avg       0.78      0.79      0.78       898\n",
      "\n"
     ]
    }
   ],
   "source": [
    "# KNN Preformance\n",
    "print('Accuracy of KNN Classifier on validate set: {:.2f}'\n",
    "     .format(knn.score(X_validate_4, y_validate)))\n",
    "print(classification_report(y_validate, y_pred_4))"
   ]
  },
  {
   "cell_type": "markdown",
   "metadata": {},
   "source": [
    "**Findings:**\n",
    "- Logistic model had best overall accuray and recall (52%) on validate data. Will use logistic model on test data"
   ]
  },
  {
   "cell_type": "markdown",
   "metadata": {},
   "source": [
    "## Test: (Top Model)"
   ]
  },
  {
   "cell_type": "code",
   "execution_count": 33,
   "metadata": {},
   "outputs": [
    {
     "name": "stdout",
     "output_type": "stream",
     "text": [
      "Accuracy of Logistic Classifier on test set: 0.79\n"
     ]
    }
   ],
   "source": [
    "# Test Data\n",
    "X_test = test[['month_to_month_contract','fiber_optic','senior_citizen','internet_service','paperless_billing', 'monthly_charges', 'e_check','tenure','online_security_cc','tech_support_cc','one_year_contract','two_year_contract','tenure_years','total_charges','None']]\n",
    "y_test = test.churn\n",
    "\n",
    "\n",
    "y_pred_test = log.predict(X_test)\n",
    "\n",
    "print('Accuracy of Logistic Classifier on test set: {:.2f}'\n",
    "     .format(log.score(X_test, y_test)))"
   ]
  },
  {
   "cell_type": "code",
   "execution_count": 34,
   "metadata": {},
   "outputs": [
    {
     "name": "stdout",
     "output_type": "stream",
     "text": [
      "[[687  90]\n",
      " [127 153]]\n",
      "Classification Accuracy: Overall, how often is the classifier correct\n",
      "0.7947019867549668\n",
      "Classification Error: Overall, how often is the classifier incorrect\n",
      "0.2052980132450331\n",
      "Sensitivity: When the actual value is positive, how often is the prediction correct\n",
      "0.5464285714285714\n",
      "Specificity: When the actual value is negative, how often is the prediction correct\n",
      "0.8841698841698842\n",
      "False Positive Rate: When the actual value is negative, how often is the prediction incorrect\n",
      "0.11583011583011583\n",
      "Precision: When a positive value is predicted, how often is the prediction correct\n",
      "0.6296296296296297\n",
      "              precision    recall  f1-score   support\n",
      "\n",
      "           0       0.84      0.88      0.86       777\n",
      "           1       0.63      0.55      0.59       280\n",
      "\n",
      "    accuracy                           0.79      1057\n",
      "   macro avg       0.74      0.72      0.72      1057\n",
      "weighted avg       0.79      0.79      0.79      1057\n",
      "\n"
     ]
    }
   ],
   "source": [
    "confusion = confusion_matrix(y_test, y_pred_test)\n",
    "print(confusion)\n",
    "#[row, column]\n",
    "TP = confusion[1, 1]\n",
    "TN = confusion[0, 0]\n",
    "FP = confusion[0, 1]\n",
    "FN = confusion[1, 0]\n",
    "\n",
    "# Classification Accuracy: Overall, how often is the classifier correct?\n",
    "\n",
    "# use float to perform true division, not integer division\n",
    "print(\"Classification Accuracy: Overall, how often is the classifier correct\")\n",
    "print((TP + TN) / float(TP + TN + FP + FN))\n",
    "\n",
    "# Classification Error: Overall, how often is the classifier incorrect?\n",
    "\n",
    "classification_error = (FP + FN) / float(TP + TN + FP + FN)\n",
    "print(\"Classification Error: Overall, how often is the classifier incorrect\")\n",
    "print(classification_error)\n",
    "\n",
    "# Sensitivity: When the actual value is positive, how often is the prediction correct?\n",
    "\n",
    "sensitivity = TP / float(FN + TP)\n",
    "print(\"Sensitivity: When the actual value is positive, how often is the prediction correct\")\n",
    "print(sensitivity)\n",
    "\n",
    "# Specificity: When the actual value is negative, how often is the prediction correct?\n",
    "\n",
    "specificity = TN / (TN + FP)\n",
    "print(\"Specificity: When the actual value is negative, how often is the prediction correct\")\n",
    "print(specificity)\n",
    "\n",
    "# False Positive Rate: When the actual value is negative, how often is the prediction incorrect?\n",
    "\n",
    "false_positive_rate = FP / float(TN + FP)\n",
    "print(\"False Positive Rate: When the actual value is negative, how often is the prediction incorrect\")\n",
    "print(false_positive_rate)\n",
    "\n",
    "# Precision: When a positive value is predicted, how often is the prediction correct?\n",
    "\n",
    "precision = TP / float(TP + FP)\n",
    "print(\"Precision: When a positive value is predicted, how often is the prediction correct\")\n",
    "print(precision)\n",
    "\n",
    "print(classification_report(y_test, y_pred_test))"
   ]
  },
  {
   "cell_type": "code",
   "execution_count": 35,
   "metadata": {},
   "outputs": [
    {
     "data": {
      "text/plain": [
       "0.45357142857142857"
      ]
     },
     "execution_count": 35,
     "metadata": {},
     "output_type": "execute_result"
    }
   ],
   "source": [
    "# False negative rate (Predict No Churn/ Churn)\n",
    "FNR = FN/(TP+FN)\n",
    "FNR"
   ]
  },
  {
   "cell_type": "markdown",
   "metadata": {},
   "source": [
    "<div class=\"alert alert-block alert-success\"></div>"
   ]
  },
  {
   "cell_type": "markdown",
   "metadata": {},
   "source": [
    "# Step #6. Conclusion"
   ]
  },
  {
   "cell_type": "markdown",
   "metadata": {},
   "source": [
    "## Summary\n",
    "\n",
    "   - Identified 19 variables with >= 0.15 correlation to churn\n",
    "\n",
    "   - Statiscial testing (Chi Squared Test of Independence) was preformed on two variables of interest\n",
    "     internet_service_type and tech_support.\n",
    "\n",
    "   - The null hypothosis of (independence) was rejected for each variable providing insight in to model building\n",
    "\n",
    "   - Machine learning models were constructed integrating 15 variables that demonstarted the greatest correlation      to churn\n",
    "\n",
    "   - Models were evaluated against a baseline accuracy of 73% and optimized for Recall.\n",
    "\n",
    "   - Following testing and validation a logistic model was selected, and when run on unseen test data provided a \n",
    "     20% increase in overall accuracy with a Recall score of 55%.\n",
    "\n",
    "   - This Recall score is not optimal because when the model makes costly type II errors 45% of the time."
   ]
  },
  {
   "cell_type": "markdown",
   "metadata": {},
   "source": [
    "## Recommendations\n",
    "\n",
    "\n",
    "\n",
    "**Baseline Observation:** Churn is a problem, the top 3 drivers of churn at Telco include\n",
    "       - month to month contracts\n",
    "       - e checks\n",
    "       - fiber optic internet service\n",
    "\n",
    "\n",
    "**Recommendation One:** Increase outreach for tech support. The majority of customers who leave have internet     service, specifically fiber optic service. Literature suggests better customer service leads to a reduction in churn.\n",
    "\n",
    "\n",
    "**Recommendation Two:** Have finance examine payment methods. Churn is high in customers who pay using e checks. Need more research on customer base, who they are and relationship between e-check and churn\n",
    "\n",
    "\n",
    "**Recommendation Three:** Review month to month contracts. Churn rate is greater than 50% for first 8 months of service. Promotions or target marketing may create incentives to keep cutomer base"
   ]
  },
  {
   "cell_type": "markdown",
   "metadata": {},
   "source": [
    "## Experimental Design Improvements / Questions for Further Exploration\n",
    "\n",
    "1. **Next Steps:** A model with 10 values that only positivly correlated with churn may produce improved result\n",
    "\n",
    "2. **Questions to explore:** Other positive customer interactions to collect and quantify (besides tech_support) to better understand relationship between churn and customer dissatisfcation\n",
    "\n"
   ]
  },
  {
   "cell_type": "markdown",
   "metadata": {},
   "source": [
    "# Export predictions as csv"
   ]
  },
  {
   "cell_type": "code",
   "execution_count": 36,
   "metadata": {},
   "outputs": [],
   "source": [
    "# # Create eval_df and rename the train survived column target.\n",
    "# predict_churn_df = train[['churn']].rename(columns={'churn': 'target'}, inplace = True)\n",
    "\n",
    "# # this cell creates the best model\n",
    "# X_train = train[['month_to_month_contract','fiber_optic','senior_citizen','internet_service','paperless_billing', 'monthly_charges', 'e_check','tenure','online_security_cc','tech_support_cc','one_year_contract','two_year_contract','tenure_years','total_charges','None']]\n",
    "# y_train = train.target\n",
    "\n",
    "# log = LogisticRegression(C=1, random_state = 123, solver='lbfgs')\n",
    "# log.fit(X_train, y_train)\n",
    "\n",
    "# # call in a complete data frame to test\n",
    "\n",
    "# X = df_explore[['month_to_month_contract','fiber_optic','senior_citizen','internet_service','paperless_billing', 'monthly_charges', 'e_check','tenure','online_security_cc','tech_support_cc','one_year_contract','two_year_contract','tenure_years','total_charges','None']]\n",
    "\n",
    "# # model.predict(X) gives us predictions for the entire dataframe\n",
    "# df_explore['prediction'] = log.predict(X)\n",
    "\n",
    "# # Export to CVS file\n",
    "# df_explore.to_csv('predictions.csv')"
   ]
  }
 ],
 "metadata": {
  "kernelspec": {
   "display_name": "Python 3",
   "language": "python",
   "name": "python3"
  },
  "language_info": {
   "codemirror_mode": {
    "name": "ipython",
    "version": 3
   },
   "file_extension": ".py",
   "mimetype": "text/x-python",
   "name": "python",
   "nbconvert_exporter": "python",
   "pygments_lexer": "ipython3",
   "version": "3.8.3"
  }
 },
 "nbformat": 4,
 "nbformat_minor": 4
}
